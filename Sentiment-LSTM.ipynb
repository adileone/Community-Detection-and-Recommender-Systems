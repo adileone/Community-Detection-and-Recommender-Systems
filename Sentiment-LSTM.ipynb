{
 "cells": [
  {
   "cell_type": "code",
   "execution_count": 1,
   "metadata": {},
   "outputs": [
    {
     "name": "stderr",
     "output_type": "stream",
     "text": [
      "Using TensorFlow backend.\n"
     ]
    }
   ],
   "source": [
    "import numpy as np # linear algebra\n",
    "import pandas as pd # data processing, CSV file I/O (e.g. pd.read_csv)\n",
    "\n",
    "from sklearn.feature_extraction.text import CountVectorizer\n",
    "from keras.preprocessing.text import Tokenizer\n",
    "from keras.preprocessing.sequence import pad_sequences\n",
    "from keras.models import Sequential\n",
    "from keras.layers import Dense, Embedding, LSTM, SpatialDropout1D\n",
    "from sklearn.model_selection import train_test_split\n",
    "from keras.utils.np_utils import to_categorical\n",
    "import re"
   ]
  },
  {
   "cell_type": "code",
   "execution_count": 2,
   "metadata": {},
   "outputs": [],
   "source": [
    "data = pd.read_csv(\"/media/alessandro/storage/Tesi/locale/twitter-sentiment-analysis2/train.csv\", encoding='latin-1')\n",
    "# Keeping only the neccessary columns\n",
    "data = data[['SentimentText','Sentiment']]\n",
    "data['Sentiment']=['pos' if (x==1) else 'neg' for x in data['Sentiment']]\n",
    "\n",
    "data['SentimentText'] = data['SentimentText'].apply(lambda x: x.lower())\n",
    "data['SentimentText'] = data['SentimentText'].apply((lambda x: re.sub('[^a-zA-z0-9\\s]','',x)))"
   ]
  },
  {
   "cell_type": "code",
   "execution_count": 3,
   "metadata": {},
   "outputs": [
    {
     "data": {
      "text/html": [
       "<div>\n",
       "<style scoped>\n",
       "    .dataframe tbody tr th:only-of-type {\n",
       "        vertical-align: middle;\n",
       "    }\n",
       "\n",
       "    .dataframe tbody tr th {\n",
       "        vertical-align: top;\n",
       "    }\n",
       "\n",
       "    .dataframe thead th {\n",
       "        text-align: right;\n",
       "    }\n",
       "</style>\n",
       "<table border=\"1\" class=\"dataframe\">\n",
       "  <thead>\n",
       "    <tr style=\"text-align: right;\">\n",
       "      <th></th>\n",
       "      <th>SentimentText</th>\n",
       "      <th>Sentiment</th>\n",
       "    </tr>\n",
       "  </thead>\n",
       "  <tbody>\n",
       "    <tr>\n",
       "      <th>0</th>\n",
       "      <td>is so sad for my apl friend</td>\n",
       "      <td>neg</td>\n",
       "    </tr>\n",
       "    <tr>\n",
       "      <th>1</th>\n",
       "      <td>i missed the new moon trailer</td>\n",
       "      <td>neg</td>\n",
       "    </tr>\n",
       "    <tr>\n",
       "      <th>2</th>\n",
       "      <td>omg its already 730 o</td>\n",
       "      <td>pos</td>\n",
       "    </tr>\n",
       "    <tr>\n",
       "      <th>3</th>\n",
       "      <td>omgaga im sooo  im gunna cry ive be...</td>\n",
       "      <td>neg</td>\n",
       "    </tr>\n",
       "    <tr>\n",
       "      <th>4</th>\n",
       "      <td>i think mi bf is cheating on me      ...</td>\n",
       "      <td>neg</td>\n",
       "    </tr>\n",
       "  </tbody>\n",
       "</table>\n",
       "</div>"
      ],
      "text/plain": [
       "                                       SentimentText Sentiment\n",
       "0                        is so sad for my apl friend       neg\n",
       "1                      i missed the new moon trailer       neg\n",
       "2                              omg its already 730 o       pos\n",
       "3             omgaga im sooo  im gunna cry ive be...       neg\n",
       "4           i think mi bf is cheating on me      ...       neg"
      ]
     },
     "execution_count": 3,
     "metadata": {},
     "output_type": "execute_result"
    }
   ],
   "source": [
    "data.head(5)"
   ]
  },
  {
   "cell_type": "code",
   "execution_count": 4,
   "metadata": {},
   "outputs": [
    {
     "name": "stdout",
     "output_type": "stream",
     "text": [
      "Pos: 112914\n",
      "Neg: 87064\n"
     ]
    }
   ],
   "source": [
    "print('Pos:',data[ data['Sentiment'] == 'pos'].size)\n",
    "print('Neg:',data[ data['Sentiment'] == 'neg'].size)"
   ]
  },
  {
   "cell_type": "code",
   "execution_count": 5,
   "metadata": {},
   "outputs": [],
   "source": [
    "for idx,row in data.iterrows():\n",
    "    row[0] = row[0].replace('rt',' ')\n",
    "    \n",
    "max_fatures = 2000\n",
    "tokenizer = Tokenizer(num_words=max_fatures, split=' ')\n",
    "tokenizer.fit_on_texts(data['SentimentText'].values)\n",
    "X = tokenizer.texts_to_sequences(data['SentimentText'].values)\n",
    "X = pad_sequences(X)"
   ]
  },
  {
   "cell_type": "code",
   "execution_count": 6,
   "metadata": {},
   "outputs": [
    {
     "name": "stdout",
     "output_type": "stream",
     "text": [
      "_________________________________________________________________\n",
      "Layer (type)                 Output Shape              Param #   \n",
      "=================================================================\n",
      "embedding_1 (Embedding)      (None, 85, 128)           256000    \n",
      "_________________________________________________________________\n",
      "spatial_dropout1d_1 (Spatial (None, 85, 128)           0         \n",
      "_________________________________________________________________\n",
      "lstm_1 (LSTM)                (None, 196)               254800    \n",
      "_________________________________________________________________\n",
      "dense_1 (Dense)              (None, 2)                 394       \n",
      "=================================================================\n",
      "Total params: 511,194\n",
      "Trainable params: 511,194\n",
      "Non-trainable params: 0\n",
      "_________________________________________________________________\n",
      "None\n"
     ]
    }
   ],
   "source": [
    "embed_dim = 128\n",
    "lstm_out = 196\n",
    "\n",
    "model = Sequential()\n",
    "model.add(Embedding(max_fatures, embed_dim,input_length = X.shape[1]))\n",
    "model.add(SpatialDropout1D(0.4))\n",
    "model.add(LSTM(lstm_out, dropout=0.2, recurrent_dropout=0.2))\n",
    "model.add(Dense(2,activation='softmax'))\n",
    "model.compile(loss = 'categorical_crossentropy', optimizer='adam',metrics = ['accuracy'])\n",
    "print(model.summary())"
   ]
  },
  {
   "cell_type": "code",
   "execution_count": 7,
   "metadata": {},
   "outputs": [
    {
     "name": "stdout",
     "output_type": "stream",
     "text": [
      "(66992, 85) (66992, 2)\n",
      "(32997, 85) (32997, 2)\n"
     ]
    }
   ],
   "source": [
    "Y = pd.get_dummies(data['Sentiment']).values\n",
    "X_train, X_test, Y_train, Y_test = train_test_split(X,Y, test_size = 0.33, random_state = 42)\n",
    "print(X_train.shape,Y_train.shape)\n",
    "print(X_test.shape,Y_test.shape)"
   ]
  },
  {
   "cell_type": "code",
   "execution_count": 8,
   "metadata": {},
   "outputs": [],
   "source": [
    "batch_size = 1024 #512 migliore\n",
    "#model.fit(X_train, Y_train, epochs = 3, batch_size=batch_size)"
   ]
  },
  {
   "cell_type": "code",
   "execution_count": 10,
   "metadata": {},
   "outputs": [],
   "source": [
    "from keras.models import load_model\n",
    "\n",
    "#model.save('LSTM_model.h5')  # creates a HDF5 file 'my_model.h5'\n",
    "\n",
    "model = load_model('LSTM_model.h5')"
   ]
  },
  {
   "cell_type": "code",
   "execution_count": 11,
   "metadata": {},
   "outputs": [
    {
     "name": "stdout",
     "output_type": "stream",
     "text": [
      "score: 0.49\n",
      "acc: 0.77\n"
     ]
    }
   ],
   "source": [
    "validation_size = 1500\n",
    "\n",
    "X_validate = X_test[-validation_size:]\n",
    "Y_validate = Y_test[-validation_size:]\n",
    "X_test = X_test[:-validation_size]\n",
    "Y_test = Y_test[:-validation_size]\n",
    "score,acc = model.evaluate(X_test, Y_test, verbose = 2, batch_size = batch_size)\n",
    "print(\"score: %.2f\" % (score))\n",
    "print(\"acc: %.2f\" % (acc))"
   ]
  },
  {
   "cell_type": "code",
   "execution_count": 12,
   "metadata": {},
   "outputs": [
    {
     "name": "stdout",
     "output_type": "stream",
     "text": [
      "pos_acc 80.50749711649365 %\n",
      "neg_acc 71.09004739336493 %\n"
     ]
    }
   ],
   "source": [
    "pos_cnt, neg_cnt, pos_correct, neg_correct = 0, 0, 0, 0\n",
    "for x in range(len(X_validate)):\n",
    "    \n",
    "    result = model.predict(X_validate[x].reshape(1,X_test.shape[1]),batch_size=1,verbose = 2)[0]\n",
    "   \n",
    "    if np.argmax(result) == np.argmax(Y_validate[x]):\n",
    "        if np.argmax(Y_validate[x]) == 0:\n",
    "            neg_correct += 1\n",
    "        else:\n",
    "            pos_correct += 1\n",
    "       \n",
    "    if np.argmax(Y_validate[x]) == 0:\n",
    "        neg_cnt += 1\n",
    "    else:\n",
    "        pos_cnt += 1\n",
    "\n",
    "\n",
    "\n",
    "print(\"pos_acc\", pos_correct/pos_cnt*100, \"%\")\n",
    "print(\"neg_acc\", neg_correct/neg_cnt*100, \"%\")"
   ]
  },
  {
   "cell_type": "code",
   "execution_count": 13,
   "metadata": {},
   "outputs": [],
   "source": [
    "df = pd.read_csv('authority-modularity.csv')\n",
    "df=df.drop(['Label','timeset','Hub'],axis=1)\n",
    "\n",
    "indexNames = df[ (df.modularity_class != 11) & (df.modularity_class != 9) & (df.modularity_class != 4) ].index\n",
    "df.drop(indexNames , inplace=True)\n",
    "\n",
    "df.modularity_class.value_counts()\n",
    "\n",
    "first10_cl11=df[df.modularity_class == 11].sort_values('Authority', ascending=False).head(10)\n",
    "first10_cl4=df[df.modularity_class == 4].sort_values('Authority', ascending=False).head(10)\n",
    "first10_cl9=df[df.modularity_class == 9].sort_values('Authority', ascending=False).head(10)\n",
    "\n",
    "utenti_cl11=first10_cl11.Id.tolist()\n",
    "utenti_cl4=first10_cl4.Id.tolist()\n",
    "utenti_cl9=first10_cl9.Id.tolist()\n",
    "\n",
    "utenti_final= utenti_cl11+utenti_cl4+utenti_cl9"
   ]
  },
  {
   "cell_type": "code",
   "execution_count": 14,
   "metadata": {},
   "outputs": [
    {
     "name": "stdout",
     "output_type": "stream",
     "text": [
      "Not authorized.\n",
      "inactive user 123926189 droppato\n",
      "1: this user is still active: 52456063\tlast post: 2019-08-30 09:54:02\n",
      "2: this user is still active: 18119568\tlast post: 2019-08-30 07:36:45\n",
      "3: this user is still active: 14872161\tlast post: 2019-08-30 03:34:51\n",
      "4: this user is still active: 10236782\tlast post: 2019-08-30 10:59:52\n",
      "inactive user 45762728 droppato\n",
      "6: this user is still active: 171656520\tlast post: 2019-08-30 04:47:53\n",
      "7: this user is still active: 21765964\tlast post: 2019-08-30 04:50:07\n",
      "Not authorized.\n",
      "inactive user 15773072 droppato\n",
      "inactive user 42919671 droppato\n",
      "10: this user is still active: 54292369\tlast post: 2019-08-27 23:11:08\n",
      "11: this user is still active: 18084838\tlast post: 2019-08-30 04:58:11\n",
      "12: this user is still active: 41823835\tlast post: 2019-08-30 06:33:41\n",
      "13: this user is still active: 94853291\tlast post: 2019-08-30 11:13:36\n",
      "14: this user is still active: 14983173\tlast post: 2019-08-30 05:22:54\n",
      "15: this user is still active: 15279465\tlast post: 2019-08-30 02:14:30\n",
      "16: this user is still active: 88071033\tlast post: 2019-08-30 09:44:11\n",
      "17: this user is still active: 113410319\tlast post: 2019-08-30 11:54:51\n",
      "Not authorized.\n",
      "inactive user 22700291 droppato\n",
      "19: this user is still active: 37725640\tlast post: 2019-08-30 09:12:33\n",
      "20: this user is still active: 29268171\tlast post: 2019-08-30 09:30:31\n",
      "inactive user 68163467 droppato\n",
      "22: this user is still active: 212402248\tlast post: 2019-08-30 09:14:16\n",
      "23: this user is still active: 15700177\tlast post: 2019-08-28 12:49:38\n"
     ]
    }
   ],
   "source": [
    "import tweepy\n",
    "\n",
    "ACCESS_TOKEN = '1089903781880434688-SDhXR2aBBr54lZQ8QnPaE4mUR6TrOd'\n",
    "ACCESS_SECRET = 'D6wHvFEmbL3W0FSP70jxBRpIYs53UGxuQlQ5yHf578ZDt'\n",
    "CONSUMER_KEY = 'kGR5GYd09tSmQCJeyprOKlKeV'\n",
    "CONSUMER_SECRET = 'MNeyyl0SkUOGgkIs8kDdZktPi2HCxC7mTv6re4GywsiarZDR3c'\n",
    "\n",
    "\n",
    "auth = tweepy.OAuthHandler(CONSUMER_KEY, CONSUMER_SECRET) \n",
    "  \n",
    "auth.set_access_token(ACCESS_TOKEN, ACCESS_SECRET) \n",
    "\n",
    "api = tweepy.API(auth)\n",
    "\n",
    "\n",
    "from datetime import timedelta, datetime\n",
    "\n",
    "for idx, utente in enumerate(utenti_final):\n",
    "    try:\n",
    "        last_tweet = api.user_timeline(user_id=utente, count=1) \n",
    "        created_at = last_tweet[0].created_at\n",
    "    \n",
    "        if (created_at > datetime.now() - timedelta(days=90)):\n",
    "            print('{}: this user is still active: {}\\tlast post: {}'.format(idx,utente,created_at))\n",
    "        else:\n",
    "            utenti_final.remove(utente)\n",
    "            print('inactive user {} droppato'.format(utente))\n",
    "                \n",
    "    except Exception as err:\n",
    "        print(err)\n",
    "        utenti_final.remove(utente)\n",
    "        print('inactive user {} droppato'.format(utente))\n",
    "        continue"
   ]
  },
  {
   "cell_type": "code",
   "execution_count": 15,
   "metadata": {},
   "outputs": [
    {
     "name": "stdout",
     "output_type": "stream",
     "text": [
      "colleziono tweet utente numero: 113283096\n",
      "colleziono tweet utente numero: 52456063\n",
      "colleziono tweet utente numero: 18119568\n",
      "colleziono tweet utente numero: 14872161\n",
      "colleziono tweet utente numero: 10236782\n",
      "colleziono tweet utente numero: 175339579\n",
      "colleziono tweet utente numero: 171656520\n",
      "colleziono tweet utente numero: 21765964\n",
      "colleziono tweet utente numero: 16252960\n",
      "colleziono tweet utente numero: 56669858\n",
      "colleziono tweet utente numero: 54292369\n",
      "colleziono tweet utente numero: 18084838\n",
      "colleziono tweet utente numero: 41823835\n",
      "colleziono tweet utente numero: 94853291\n",
      "colleziono tweet utente numero: 14983173\n",
      "colleziono tweet utente numero: 15279465\n",
      "colleziono tweet utente numero: 88071033\n",
      "colleziono tweet utente numero: 113410319\n",
      "colleziono tweet utente numero: 17383566\n",
      "colleziono tweet utente numero: 37725640\n",
      "colleziono tweet utente numero: 29268171\n",
      "colleziono tweet utente numero: 17268481\n",
      "colleziono tweet utente numero: 212402248\n",
      "colleziono tweet utente numero: 15700177\n"
     ]
    },
    {
     "data": {
      "text/html": [
       "<div>\n",
       "<style scoped>\n",
       "    .dataframe tbody tr th:only-of-type {\n",
       "        vertical-align: middle;\n",
       "    }\n",
       "\n",
       "    .dataframe tbody tr th {\n",
       "        vertical-align: top;\n",
       "    }\n",
       "\n",
       "    .dataframe thead th {\n",
       "        text-align: right;\n",
       "    }\n",
       "</style>\n",
       "<table border=\"1\" class=\"dataframe\">\n",
       "  <thead>\n",
       "    <tr style=\"text-align: right;\">\n",
       "      <th></th>\n",
       "      <th>originalTweet</th>\n",
       "    </tr>\n",
       "  </thead>\n",
       "  <tbody>\n",
       "    <tr>\n",
       "      <th>0</th>\n",
       "      <td>RT @7thclouds: #小池百合子 #大臣 就任直後 #イージス艦情報横流した側 #...</td>\n",
       "    </tr>\n",
       "    <tr>\n",
       "      <th>1</th>\n",
       "      <td>#小池百合子 #大臣 就任直後 #イージス艦情報横流した側 #幸福の科学 #勝共連合 反日「...</td>\n",
       "    </tr>\n",
       "    <tr>\n",
       "      <th>2</th>\n",
       "      <td>RT @7thclouds: #小池百合子 #大臣 就任直後 #イージス艦情報横流し 側 #...</td>\n",
       "    </tr>\n",
       "    <tr>\n",
       "      <th>3</th>\n",
       "      <td>#小池百合子 #大臣 就任直後 #イージス艦情報横流し 側 #幸福の科学 所謂統一教会系ナチ...</td>\n",
       "    </tr>\n",
       "    <tr>\n",
       "      <th>4</th>\n",
       "      <td>RT @7thclouds: @sputnik_jp&lt;#いうこととやること正反対 #小池百合...</td>\n",
       "    </tr>\n",
       "  </tbody>\n",
       "</table>\n",
       "</div>"
      ],
      "text/plain": [
       "                                       originalTweet\n",
       "0  RT @7thclouds: #小池百合子 #大臣 就任直後 #イージス艦情報横流した側 #...\n",
       "1  #小池百合子 #大臣 就任直後 #イージス艦情報横流した側 #幸福の科学 #勝共連合 反日「...\n",
       "2  RT @7thclouds: #小池百合子 #大臣 就任直後 #イージス艦情報横流し 側 #...\n",
       "3  #小池百合子 #大臣 就任直後 #イージス艦情報横流し 側 #幸福の科学 所謂統一教会系ナチ...\n",
       "4  RT @7thclouds: @sputnik_jp<#いうこととやること正反対 #小池百合..."
      ]
     },
     "execution_count": 15,
     "metadata": {},
     "output_type": "execute_result"
    }
   ],
   "source": [
    "from pymongo import MongoClient\n",
    "\n",
    "client = MongoClient('localhost', 27017)\n",
    "db = client['twitter']\n",
    "\n",
    "data = pd.DataFrame(columns=['Tweets'])\n",
    "\n",
    "for user in utenti_final:\n",
    "    \n",
    "    print('colleziono tweet utente numero:', user)\n",
    "\n",
    "    pipeline=[{ \"$project\": {  \"id_user\" : 1, \"originalTweet\" : 1, \"hashtag\" : 1, \"mention\" : 1}}, { \"$match\": {  \"id_user\" : user} }]\n",
    "\n",
    "    cursor_list = list(db['tweets'].aggregate(pipeline))\n",
    "\n",
    "    tweets = pd.DataFrame(cursor_list)\n",
    "    data=data.append(tweets, sort=True)\n",
    "\n",
    "dfAll = pd.DataFrame(data.originalTweet)\n",
    "dfAll.head(5)"
   ]
  },
  {
   "cell_type": "code",
   "execution_count": 16,
   "metadata": {},
   "outputs": [],
   "source": [
    "trumpTweet = dfAll[dfAll.originalTweet.str.contains(\"(?:^|\\W)#Trump(?:$|\\W)|\\\n",
    "                                                (?:^|\\W)#DonaldTrump(?:$|\\W)|\\\n",
    "                                                (?:^|\\W)#trump(?:$|\\W)|\\\n",
    "                                                (?:^|\\W)@realDonaldTrump(?:$|\\W)\\\n",
    "                                                (?:^|\\W)#donaldtrump(?:$|\\W)\\\n",
    "                                                (?:^|\\W)Trump(?:$|\\W)|\\\n",
    "                                                (?:^|\\W)DonaldTrump(?:$|\\W)|\\\n",
    "                                                (?:^|\\W)trump(?:$|\\W)|\\\n",
    "                                                (?:^|\\W)realDonaldTrump(?:$|\\W)\\\n",
    "                                                (?:^|\\W)donaldtrump(?:$|\\W)\")]"
   ]
  },
  {
   "cell_type": "code",
   "execution_count": 17,
   "metadata": {},
   "outputs": [
    {
     "name": "stderr",
     "output_type": "stream",
     "text": [
      "/media/alessandro/storage/anaconda3/lib/python3.6/site-packages/ipykernel_launcher.py:1: SettingWithCopyWarning: \n",
      "A value is trying to be set on a copy of a slice from a DataFrame.\n",
      "Try using .loc[row_indexer,col_indexer] = value instead\n",
      "\n",
      "See the caveats in the documentation: http://pandas.pydata.org/pandas-docs/stable/indexing.html#indexing-view-versus-copy\n",
      "  \"\"\"Entry point for launching an IPython kernel.\n",
      "/media/alessandro/storage/anaconda3/lib/python3.6/site-packages/ipykernel_launcher.py:2: SettingWithCopyWarning: \n",
      "A value is trying to be set on a copy of a slice from a DataFrame.\n",
      "Try using .loc[row_indexer,col_indexer] = value instead\n",
      "\n",
      "See the caveats in the documentation: http://pandas.pydata.org/pandas-docs/stable/indexing.html#indexing-view-versus-copy\n",
      "  \n"
     ]
    }
   ],
   "source": [
    "trumpTweet['originalTweet'] = trumpTweet['originalTweet'].apply(lambda x: x.lower())\n",
    "trumpTweet['originalTweet'] = trumpTweet['originalTweet'].apply((lambda x: re.sub('[^a-zA-z0-9\\s]','',x)))"
   ]
  },
  {
   "cell_type": "code",
   "execution_count": 18,
   "metadata": {},
   "outputs": [],
   "source": [
    "for idx,row in trumpTweet.iterrows():\n",
    "    row[0] = row[0].replace('rt',' ')"
   ]
  },
  {
   "cell_type": "code",
   "execution_count": 19,
   "metadata": {},
   "outputs": [],
   "source": [
    "sent = []\n",
    "\n",
    "for twt in trumpTweet.originalTweet:\n",
    "\n",
    "    twt = tokenizer.texts_to_sequences(twt)\n",
    "\n",
    "    #padding the tweet to have exactly the same shape as `embedding_2` input\n",
    "    twt = pad_sequences(twt, maxlen=85, dtype='int32', value=0)\n",
    "    \n",
    "    sentiment = model.predict(twt,batch_size=1,verbose = 2)[0]\n",
    "    \n",
    "    if(np.argmax(sentiment) == 0):\n",
    "        sent.append(\"negative\")\n",
    "    elif (np.argmax(sentiment) == 1):\n",
    "        sent.append(\"positive\")"
   ]
  },
  {
   "cell_type": "code",
   "execution_count": 23,
   "metadata": {},
   "outputs": [
    {
     "name": "stderr",
     "output_type": "stream",
     "text": [
      "/media/alessandro/storage/anaconda3/lib/python3.6/site-packages/ipykernel_launcher.py:1: SettingWithCopyWarning: \n",
      "A value is trying to be set on a copy of a slice from a DataFrame.\n",
      "Try using .loc[row_indexer,col_indexer] = value instead\n",
      "\n",
      "See the caveats in the documentation: http://pandas.pydata.org/pandas-docs/stable/indexing.html#indexing-view-versus-copy\n",
      "  \"\"\"Entry point for launching an IPython kernel.\n"
     ]
    },
    {
     "data": {
      "text/html": [
       "<div>\n",
       "<style scoped>\n",
       "    .dataframe tbody tr th:only-of-type {\n",
       "        vertical-align: middle;\n",
       "    }\n",
       "\n",
       "    .dataframe tbody tr th {\n",
       "        vertical-align: top;\n",
       "    }\n",
       "\n",
       "    .dataframe thead th {\n",
       "        text-align: right;\n",
       "    }\n",
       "</style>\n",
       "<table border=\"1\" class=\"dataframe\">\n",
       "  <thead>\n",
       "    <tr style=\"text-align: right;\">\n",
       "      <th></th>\n",
       "      <th>originalTweet</th>\n",
       "      <th>sentiment</th>\n",
       "    </tr>\n",
       "  </thead>\n",
       "  <tbody>\n",
       "    <tr>\n",
       "      <th>1393</th>\n",
       "      <td>7thclouds dnc nazis whitesuoremacy vikinggan...</td>\n",
       "      <td>positive</td>\n",
       "    </tr>\n",
       "    <tr>\n",
       "      <th>1427</th>\n",
       "      <td>_america  _comdnc nazis whitesuoremacy viking...</td>\n",
       "      <td>positive</td>\n",
       "    </tr>\n",
       "    <tr>\n",
       "      <th>1428</th>\n",
       "      <td>dnc nazis whitesuoremacy vikinggang of antilaw...</td>\n",
       "      <td>positive</td>\n",
       "    </tr>\n",
       "    <tr>\n",
       "      <th>2881</th>\n",
       "      <td>7thclouds trump unificationchurch greens naz...</td>\n",
       "      <td>positive</td>\n",
       "    </tr>\n",
       "    <tr>\n",
       "      <th>2945</th>\n",
       "      <td>trump unificationchurch greens nazis liars tak...</td>\n",
       "      <td>positive</td>\n",
       "    </tr>\n",
       "  </tbody>\n",
       "</table>\n",
       "</div>"
      ],
      "text/plain": [
       "                                          originalTweet sentiment\n",
       "1393    7thclouds dnc nazis whitesuoremacy vikinggan...  positive\n",
       "1427   _america  _comdnc nazis whitesuoremacy viking...  positive\n",
       "1428  dnc nazis whitesuoremacy vikinggang of antilaw...  positive\n",
       "2881    7thclouds trump unificationchurch greens naz...  positive\n",
       "2945  trump unificationchurch greens nazis liars tak...  positive"
      ]
     },
     "execution_count": 23,
     "metadata": {},
     "output_type": "execute_result"
    }
   ],
   "source": [
    "trumpTweet['sentiment']=sent\n",
    "trumpTweet.head()"
   ]
  },
  {
   "cell_type": "code",
   "execution_count": 24,
   "metadata": {},
   "outputs": [
    {
     "data": {
      "text/plain": [
       "positive    923\n",
       "negative     82\n",
       "Name: sentiment, dtype: int64"
      ]
     },
     "execution_count": 24,
     "metadata": {},
     "output_type": "execute_result"
    }
   ],
   "source": [
    "trumpTweet['sentiment'].value_counts()"
   ]
  },
  {
   "cell_type": "code",
   "execution_count": 25,
   "metadata": {},
   "outputs": [
    {
     "data": {
      "image/png": "[encoded data removed]",
      "text/plain": [
       "<Figure size 360x360 with 1 Axes>"
      ]
     },
     "metadata": {},
     "output_type": "display_data"
    }
   ],
   "source": [
    "import matplotlib\n",
    "import matplotlib.pyplot as plt\n",
    "\n",
    "sizes = [923,82]\n",
    "explode = (0, 0.1)\n",
    "labels = 'Positive', 'Negative' \n",
    "plt.figure(figsize=(5,5))\n",
    "plt.pie(sizes, explode=explode, colors=\"rb\", labels=labels, autopct='%1.1f%%',\n",
    "        shadow=True, startangle=90, wedgeprops={'alpha':0.8})\n",
    "plt.axis('equal') \n",
    "plt.show()"
   ]
  },
  {
   "cell_type": "code",
   "execution_count": null,
   "metadata": {},
   "outputs": [],
   "source": []
  },
  {
   "cell_type": "code",
   "execution_count": 27,
   "metadata": {},
   "outputs": [
    {
     "name": "stdout",
     "output_type": "stream",
     "text": [
      "negative\n"
     ]
    }
   ],
   "source": [
    "twt = ['Trump is the worst president ever but the sun is still awesome']\n",
    "#vectorizing the tweet by the pre-fitted tokenizer instance\n",
    "twt = tokenizer.texts_to_sequences(twt)\n",
    "#padding the tweet to have exactly the same shape as `embedding_2` input\n",
    "twt = pad_sequences(twt, maxlen=85, dtype='int32', value=0)\n",
    "sentiment = model.predict(twt,batch_size=1,verbose = 2)[0]\n",
    "if(np.argmax(sentiment) == 0):\n",
    "    print(\"negative\")\n",
    "elif (np.argmax(sentiment) == 1):\n",
    "    print(\"positive\")"
   ]
  }
 ],
 "metadata": {
  "kernelspec": {
   "display_name": "Python 3",
   "language": "python",
   "name": "python3"
  },
  "language_info": {
   "codemirror_mode": {
    "name": "ipython",
    "version": 3
   },
   "file_extension": ".py",
   "mimetype": "text/x-python",
   "name": "python",
   "nbconvert_exporter": "python",
   "pygments_lexer": "ipython3",
   "version": "3.6.5"
  }
 },
 "nbformat": 4,
 "nbformat_minor": 2
}
