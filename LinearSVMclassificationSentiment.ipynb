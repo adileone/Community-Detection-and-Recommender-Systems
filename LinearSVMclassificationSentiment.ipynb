{
 "cells": [
  {
   "cell_type": "code",
   "execution_count": 1,
   "metadata": {},
   "outputs": [
    {
     "data": {
      "text/plain": [
       "['ItemID', 'Sentiment', 'SentimentText']"
      ]
     },
     "execution_count": 1,
     "metadata": {},
     "output_type": "execute_result"
    }
   ],
   "source": [
    "import pandas as pd\n",
    "tweets = pd.read_csv(\"/media/alessandro/storage/Tesi/locale/twitter-sentiment-analysis2/train.csv\", encoding='latin-1')\n",
    "list(tweets.columns.values)"
   ]
  },
  {
   "cell_type": "code",
   "execution_count": 2,
   "metadata": {
    "scrolled": true
   },
   "outputs": [
    {
     "data": {
      "text/html": [
       "<div>\n",
       "<style scoped>\n",
       "    .dataframe tbody tr th:only-of-type {\n",
       "        vertical-align: middle;\n",
       "    }\n",
       "\n",
       "    .dataframe tbody tr th {\n",
       "        vertical-align: top;\n",
       "    }\n",
       "\n",
       "    .dataframe thead th {\n",
       "        text-align: right;\n",
       "    }\n",
       "</style>\n",
       "<table border=\"1\" class=\"dataframe\">\n",
       "  <thead>\n",
       "    <tr style=\"text-align: right;\">\n",
       "      <th></th>\n",
       "      <th>ItemID</th>\n",
       "      <th>Sentiment</th>\n",
       "      <th>SentimentText</th>\n",
       "    </tr>\n",
       "  </thead>\n",
       "  <tbody>\n",
       "    <tr>\n",
       "      <th>0</th>\n",
       "      <td>1</td>\n",
       "      <td>negative</td>\n",
       "      <td>is so sad for my APL frie...</td>\n",
       "    </tr>\n",
       "    <tr>\n",
       "      <th>1</th>\n",
       "      <td>2</td>\n",
       "      <td>negative</td>\n",
       "      <td>I missed the New Moon trail...</td>\n",
       "    </tr>\n",
       "    <tr>\n",
       "      <th>2</th>\n",
       "      <td>3</td>\n",
       "      <td>positive</td>\n",
       "      <td>omg its already 7:30 :O</td>\n",
       "    </tr>\n",
       "    <tr>\n",
       "      <th>3</th>\n",
       "      <td>4</td>\n",
       "      <td>negative</td>\n",
       "      <td>.. Omgaga. Im sooo  im gunna CRy. I'...</td>\n",
       "    </tr>\n",
       "    <tr>\n",
       "      <th>4</th>\n",
       "      <td>5</td>\n",
       "      <td>negative</td>\n",
       "      <td>i think mi bf is cheating on me!!!   ...</td>\n",
       "    </tr>\n",
       "  </tbody>\n",
       "</table>\n",
       "</div>"
      ],
      "text/plain": [
       "   ItemID Sentiment                                      SentimentText\n",
       "0       1  negative                       is so sad for my APL frie...\n",
       "1       2  negative                     I missed the New Moon trail...\n",
       "2       3  positive                            omg its already 7:30 :O\n",
       "3       4  negative            .. Omgaga. Im sooo  im gunna CRy. I'...\n",
       "4       5  negative           i think mi bf is cheating on me!!!   ..."
      ]
     },
     "execution_count": 2,
     "metadata": {},
     "output_type": "execute_result"
    }
   ],
   "source": [
    "tweets.Sentiment.replace(0,'negative', inplace=True)\n",
    "tweets.Sentiment.replace(1,'positive', inplace=True)\n",
    "\n",
    "tweets.head()"
   ]
  },
  {
   "cell_type": "markdown",
   "metadata": {},
   "source": [
    "0 -> negative "
   ]
  },
  {
   "cell_type": "code",
   "execution_count": 3,
   "metadata": {
    "scrolled": true
   },
   "outputs": [
    {
     "name": "stdout",
     "output_type": "stream",
     "text": [
      "positive    56457\n",
      "negative    43532\n",
      "Name: Sentiment, dtype: int64\n"
     ]
    }
   ],
   "source": [
    "sentiment_counts = tweets.Sentiment.value_counts()\n",
    "number_of_tweets = tweets.ItemID.count()\n",
    "print(sentiment_counts)"
   ]
  },
  {
   "cell_type": "code",
   "execution_count": 4,
   "metadata": {},
   "outputs": [],
   "source": [
    "# import nltk\n",
    "# nltk.download('wordnet')"
   ]
  },
  {
   "cell_type": "code",
   "execution_count": 5,
   "metadata": {},
   "outputs": [],
   "source": [
    "import re, nltk\n",
    "from nltk.stem import WordNetLemmatizer\n",
    "from nltk.corpus import stopwords\n",
    "stop_words = set(stopwords.words('english'))\n",
    "wordnet_lemmatizer = WordNetLemmatizer()\n",
    "\n",
    "def normalizer(tweet):\n",
    "    only_letters = re.sub(\"[^a-zA-Z]\", \" \",tweet) \n",
    "    tokens = nltk.word_tokenize(only_letters)[2:]\n",
    "    lower_case = [l.lower() for l in tokens]\n",
    "    filtered_result = list(filter(lambda l: l not in stop_words, lower_case))\n",
    "    lemmas = [wordnet_lemmatizer.lemmatize(t) for t in filtered_result]\n",
    "    return lemmas"
   ]
  },
  {
   "cell_type": "code",
   "execution_count": 6,
   "metadata": {},
   "outputs": [
    {
     "data": {
      "text/plain": [
       "['text', 'airline', 'like']"
      ]
     },
     "execution_count": 6,
     "metadata": {},
     "output_type": "execute_result"
    }
   ],
   "source": [
    "normalizer(\"Here is text about an airline I like.\")"
   ]
  },
  {
   "cell_type": "code",
   "execution_count": 7,
   "metadata": {
    "scrolled": true
   },
   "outputs": [
    {
     "data": {
      "text/html": [
       "<div>\n",
       "<style scoped>\n",
       "    .dataframe tbody tr th:only-of-type {\n",
       "        vertical-align: middle;\n",
       "    }\n",
       "\n",
       "    .dataframe tbody tr th {\n",
       "        vertical-align: top;\n",
       "    }\n",
       "\n",
       "    .dataframe thead th {\n",
       "        text-align: right;\n",
       "    }\n",
       "</style>\n",
       "<table border=\"1\" class=\"dataframe\">\n",
       "  <thead>\n",
       "    <tr style=\"text-align: right;\">\n",
       "      <th></th>\n",
       "      <th>SentimentText</th>\n",
       "      <th>normalized_tweet</th>\n",
       "    </tr>\n",
       "  </thead>\n",
       "  <tbody>\n",
       "    <tr>\n",
       "      <th>0</th>\n",
       "      <td>is so sad for my APL friend.............</td>\n",
       "      <td>[sad, apl, friend]</td>\n",
       "    </tr>\n",
       "    <tr>\n",
       "      <th>1</th>\n",
       "      <td>I missed the New Moon trailer...</td>\n",
       "      <td>[new, moon, trailer]</td>\n",
       "    </tr>\n",
       "    <tr>\n",
       "      <th>2</th>\n",
       "      <td>omg its already 7:30 :O</td>\n",
       "      <td>[already]</td>\n",
       "    </tr>\n",
       "    <tr>\n",
       "      <th>3</th>\n",
       "      <td>.. Omgaga. Im sooo  im gunna CRy. I've been at this dentist since 11.. I was suposed 2 just get a crown put on (30mins)...</td>\n",
       "      <td>[sooo, im, gunna, cry, dentist, since, suposed, get, crown, put, min]</td>\n",
       "    </tr>\n",
       "    <tr>\n",
       "      <th>4</th>\n",
       "      <td>i think mi bf is cheating on me!!!       T_T</td>\n",
       "      <td>[mi, bf, cheating]</td>\n",
       "    </tr>\n",
       "  </tbody>\n",
       "</table>\n",
       "</div>"
      ],
      "text/plain": [
       "                                                                                                                          SentimentText  \\\n",
       "0                       is so sad for my APL friend.............                                                                          \n",
       "1                     I missed the New Moon trailer...                                                                                    \n",
       "2                omg its already 7:30 :O                                                                                                  \n",
       "3            .. Omgaga. Im sooo  im gunna CRy. I've been at this dentist since 11.. I was suposed 2 just get a crown put on (30mins)...   \n",
       "4           i think mi bf is cheating on me!!!       T_T                                                                                  \n",
       "\n",
       "                                                        normalized_tweet  \n",
       "0  [sad, apl, friend]                                                     \n",
       "1  [new, moon, trailer]                                                   \n",
       "2  [already]                                                              \n",
       "3  [sooo, im, gunna, cry, dentist, since, suposed, get, crown, put, min]  \n",
       "4  [mi, bf, cheating]                                                     "
      ]
     },
     "execution_count": 7,
     "metadata": {},
     "output_type": "execute_result"
    }
   ],
   "source": [
    "pd.set_option('display.max_colwidth', -1) # Setting this so we can see the full content of cells\n",
    "tweets['normalized_tweet'] = tweets.SentimentText.apply(normalizer)\n",
    "tweets[['SentimentText','normalized_tweet']].head()"
   ]
  },
  {
   "cell_type": "code",
   "execution_count": 10,
   "metadata": {},
   "outputs": [
    {
     "data": {
      "text/html": [
       "<div>\n",
       "<style scoped>\n",
       "    .dataframe tbody tr th:only-of-type {\n",
       "        vertical-align: middle;\n",
       "    }\n",
       "\n",
       "    .dataframe tbody tr th {\n",
       "        vertical-align: top;\n",
       "    }\n",
       "\n",
       "    .dataframe thead th {\n",
       "        text-align: right;\n",
       "    }\n",
       "</style>\n",
       "<table border=\"1\" class=\"dataframe\">\n",
       "  <thead>\n",
       "    <tr style=\"text-align: right;\">\n",
       "      <th></th>\n",
       "      <th>grams</th>\n",
       "    </tr>\n",
       "  </thead>\n",
       "  <tbody>\n",
       "    <tr>\n",
       "      <th>0</th>\n",
       "      <td>[sad apl, apl friend, sad apl friend]</td>\n",
       "    </tr>\n",
       "    <tr>\n",
       "      <th>1</th>\n",
       "      <td>[new moon, moon trailer, new moon trailer]</td>\n",
       "    </tr>\n",
       "    <tr>\n",
       "      <th>2</th>\n",
       "      <td>[]</td>\n",
       "    </tr>\n",
       "    <tr>\n",
       "      <th>3</th>\n",
       "      <td>[sooo im, im gunna, gunna cry, cry dentist, dentist since, since suposed, suposed get, get crown, crown put, put min, sooo im gunna, im gunna cry, gunna cry dentist, cry dentist since, dentist since suposed, since suposed get, suposed get crown, get crown put, crown put min]</td>\n",
       "    </tr>\n",
       "    <tr>\n",
       "      <th>4</th>\n",
       "      <td>[mi bf, bf cheating, mi bf cheating]</td>\n",
       "    </tr>\n",
       "  </tbody>\n",
       "</table>\n",
       "</div>"
      ],
      "text/plain": [
       "                                                                                                                                                                                                                                                                                 grams\n",
       "0  [sad apl, apl friend, sad apl friend]                                                                                                                                                                                                                                              \n",
       "1  [new moon, moon trailer, new moon trailer]                                                                                                                                                                                                                                         \n",
       "2  []                                                                                                                                                                                                                                                                                 \n",
       "3  [sooo im, im gunna, gunna cry, cry dentist, dentist since, since suposed, suposed get, get crown, crown put, put min, sooo im gunna, im gunna cry, gunna cry dentist, cry dentist since, dentist since suposed, since suposed get, suposed get crown, get crown put, crown put min]\n",
       "4  [mi bf, bf cheating, mi bf cheating]                                                                                                                                                                                                                                               "
      ]
     },
     "execution_count": 10,
     "metadata": {},
     "output_type": "execute_result"
    }
   ],
   "source": [
    "from nltk import ngrams\n",
    "def ngrams(input_list):\n",
    "    #onegrams = input_list\n",
    "    bigrams = [' '.join(t) for t in list(zip(input_list, input_list[1:]))]\n",
    "    trigrams = [' '.join(t) for t in list(zip(input_list, input_list[1:], input_list[2:]))]\n",
    "    return bigrams+trigrams\n",
    "tweets['grams'] = tweets.normalized_tweet.apply(ngrams)\n",
    "tweets[['grams']].head()"
   ]
  },
  {
   "cell_type": "code",
   "execution_count": 11,
   "metadata": {},
   "outputs": [],
   "source": [
    "import collections\n",
    "def count_words(input):\n",
    "    cnt = collections.Counter()\n",
    "    for row in input:\n",
    "        for word in row:\n",
    "            cnt[word] += 1\n",
    "    return cnt"
   ]
  },
  {
   "cell_type": "code",
   "execution_count": 12,
   "metadata": {},
   "outputs": [
    {
     "data": {
      "text/plain": [
       "[('gon na', 587),\n",
       " ('wan na', 531),\n",
       " ('wish could', 308),\n",
       " ('last night', 300),\n",
       " ('twitpic com', 262),\n",
       " ('got ta', 223),\n",
       " ('sorry hear', 194),\n",
       " ('feel better', 187),\n",
       " ('bit ly', 186),\n",
       " ('look like', 184),\n",
       " ('feel like', 182),\n",
       " ('http bit', 168),\n",
       " ('http bit ly', 166),\n",
       " ('na go', 150),\n",
       " ('oh well', 132),\n",
       " ('want go', 126),\n",
       " ('next week', 113),\n",
       " ('miss u', 110),\n",
       " ('get better', 109),\n",
       " ('make sad', 105)]"
      ]
     },
     "execution_count": 12,
     "metadata": {},
     "output_type": "execute_result"
    }
   ],
   "source": [
    "tweets[(tweets.Sentiment == 'negative')][['grams']].apply(count_words)['grams'].most_common(20)"
   ]
  },
  {
   "cell_type": "code",
   "execution_count": 13,
   "metadata": {},
   "outputs": [
    {
     "data": {
      "text/plain": [
       "[('twitpic com', 658),\n",
       " ('gon na', 527),\n",
       " ('bit ly', 444),\n",
       " ('http bit', 395),\n",
       " ('http bit ly', 395),\n",
       " ('wan na', 307),\n",
       " ('good luck', 236),\n",
       " ('last night', 221),\n",
       " ('tinyurl com', 212),\n",
       " ('got ta', 210),\n",
       " ('let know', 208),\n",
       " ('quot quot', 207),\n",
       " ('http tinyurl', 202),\n",
       " ('http tinyurl com', 200),\n",
       " ('com add', 184),\n",
       " ('day using', 182),\n",
       " ('using www', 182),\n",
       " ('add everyone', 182),\n",
       " ('everyone train', 182),\n",
       " ('train pay', 182)]"
      ]
     },
     "execution_count": 13,
     "metadata": {},
     "output_type": "execute_result"
    }
   ],
   "source": [
    "tweets[(tweets.Sentiment == 'positive')][['grams']].apply(count_words)['grams'].most_common(20)"
   ]
  },
  {
   "cell_type": "code",
   "execution_count": 14,
   "metadata": {},
   "outputs": [],
   "source": [
    "import numpy as np\n",
    "from scipy.sparse import hstack\n",
    "from sklearn.feature_extraction.text import CountVectorizer\n",
    "count_vectorizer = CountVectorizer(ngram_range=(1,2))"
   ]
  },
  {
   "cell_type": "code",
   "execution_count": 15,
   "metadata": {},
   "outputs": [],
   "source": [
    "vectorized_data = count_vectorizer.fit_transform(tweets.SentimentText)\n",
    "indexed_data = hstack((np.array(range(0,vectorized_data.shape[0]))[:,None], vectorized_data))"
   ]
  },
  {
   "cell_type": "code",
   "execution_count": 16,
   "metadata": {},
   "outputs": [],
   "source": [
    "def sentiment2target(sentiment):\n",
    "    return {\n",
    "        'negative': 0,\n",
    "        'neutral': 1,\n",
    "        'positive' : 2\n",
    "    }[sentiment]\n",
    "targets = tweets.Sentiment.apply(sentiment2target)"
   ]
  },
  {
   "cell_type": "code",
   "execution_count": 17,
   "metadata": {},
   "outputs": [
    {
     "data": {
      "text/plain": [
       "0    0\n",
       "1    0\n",
       "2    2\n",
       "3    0\n",
       "4    0\n",
       "Name: Sentiment, dtype: int64"
      ]
     },
     "execution_count": 17,
     "metadata": {},
     "output_type": "execute_result"
    }
   ],
   "source": [
    "targets.head(5)"
   ]
  },
  {
   "cell_type": "code",
   "execution_count": 18,
   "metadata": {},
   "outputs": [],
   "source": [
    "from sklearn.model_selection import train_test_split\n",
    "data_train, data_test, targets_train, targets_test = train_test_split(indexed_data, targets, test_size=0.4, random_state=0)\n",
    "data_train_index = data_train[:,0]\n",
    "data_train = data_train[:,1:]\n",
    "data_test_index = data_test[:,0]\n",
    "data_test = data_test[:,1:]"
   ]
  },
  {
   "cell_type": "code",
   "execution_count": 19,
   "metadata": {},
   "outputs": [],
   "source": [
    "from sklearn import svm\n",
    "from sklearn.multiclass import OneVsRestClassifier\n",
    "clf = OneVsRestClassifier(svm.SVC(gamma=0.01, C=100., probability=True, class_weight='balanced', kernel='linear'))\n",
    "clf_output = clf.fit(data_train, targets_train)"
   ]
  },
  {
   "cell_type": "code",
   "execution_count": 21,
   "metadata": {},
   "outputs": [
    {
     "data": {
      "text/plain": [
       "0.7534753475347534"
      ]
     },
     "execution_count": 21,
     "metadata": {},
     "output_type": "execute_result"
    }
   ],
   "source": [
    "clf.score(data_test, targets_test)"
   ]
  },
  {
   "cell_type": "code",
   "execution_count": 24,
   "metadata": {},
   "outputs": [],
   "source": [
    "import pickle\n",
    "# save the classifier\n",
    "with open('SVM.pkl', 'wb') as fid:\n",
    "    pickle.dump(clf, fid)    \n",
    "\n",
    "# # load it again\n",
    "# with open('my_dumped_classifier.pkl', 'rb') as fid:\n",
    "#     gnb_loaded = pickle.load(fid)"
   ]
  },
  {
   "cell_type": "code",
   "execution_count": 25,
   "metadata": {},
   "outputs": [],
   "source": [
    "with open('vectorizer.pkl', 'wb') as fid:\n",
    "    pickle.dump(count_vectorizer, fid)\n",
    "    \n",
    "# # load it again\n",
    "# with open('vectorizer.pkl', 'rb') as fid:\n",
    "#     vectorizer = pickle.load(fid)    "
   ]
  },
  {
   "cell_type": "code",
   "execution_count": 28,
   "metadata": {},
   "outputs": [
    {
     "data": {
      "text/plain": [
       "array([[0.21785285, 0.78214715]])"
      ]
     },
     "execution_count": 28,
     "metadata": {},
     "output_type": "execute_result"
    }
   ],
   "source": [
    "se = count_vectorizer.transform([\"Trump is the worst president ever, but the sun is still awesome!\"])\n",
    "clf.predict_proba(se)"
   ]
  },
  {
   "cell_type": "code",
   "execution_count": 29,
   "metadata": {},
   "outputs": [
    {
     "data": {
      "text/plain": [
       "array([[0.75423658, 0.24576342]])"
      ]
     },
     "execution_count": 29,
     "metadata": {},
     "output_type": "execute_result"
    }
   ],
   "source": [
    "se = count_vectorizer.transform([\"Trump is the worst president ever\"])\n",
    "clf.predict_proba(se)"
   ]
  },
  {
   "cell_type": "code",
   "execution_count": 30,
   "metadata": {},
   "outputs": [
    {
     "data": {
      "text/plain": [
       "array([[0.44759613, 0.55240387]])"
      ]
     },
     "execution_count": 30,
     "metadata": {},
     "output_type": "execute_result"
    }
   ],
   "source": [
    "se = count_vectorizer.transform([\"Trump is the best president ever\"])\n",
    "clf.predict_proba(se)"
   ]
  },
  {
   "cell_type": "code",
   "execution_count": 38,
   "metadata": {},
   "outputs": [
    {
     "data": {
      "text/plain": [
       "array([[0.04915123, 0.95084877]])"
      ]
     },
     "execution_count": 38,
     "metadata": {},
     "output_type": "execute_result"
    }
   ],
   "source": [
    "se = count_vectorizer.transform([\"Sun is awesome\"])\n",
    "clf.predict_proba(se)"
   ]
  },
  {
   "cell_type": "code",
   "execution_count": 27,
   "metadata": {},
   "outputs": [
    {
     "name": "stdout",
     "output_type": "stream",
     "text": [
      "Not authorized.\n",
      "inactive user 123926189 droppato\n",
      "1: this user is still active: 52456063\tlast post: 2019-09-19 13:20:56\n",
      "2: this user is still active: 18119568\tlast post: 2019-09-19 11:30:37\n",
      "3: this user is still active: 14872161\tlast post: 2019-09-19 06:24:59\n",
      "4: this user is still active: 10236782\tlast post: 2019-09-19 13:44:36\n",
      "5: this user is still active: 45762728\tlast post: 2019-09-17 01:08:22\n",
      "6: this user is still active: 175339579\tlast post: 2019-09-19 12:01:01\n",
      "7: this user is still active: 171656520\tlast post: 2019-09-19 13:58:27\n",
      "8: this user is still active: 21765964\tlast post: 2019-09-19 13:58:51\n",
      "Not authorized.\n",
      "inactive user 15773072 droppato\n",
      "inactive user 42919671 droppato\n",
      "11: this user is still active: 54292369\tlast post: 2019-09-18 04:16:14\n",
      "12: this user is still active: 18084838\tlast post: 2019-09-19 03:35:45\n",
      "13: this user is still active: 41823835\tlast post: 2019-09-19 07:49:09\n",
      "14: this user is still active: 94853291\tlast post: 2019-09-19 11:08:13\n",
      "15: this user is still active: 14983173\tlast post: 2019-09-19 05:22:54\n",
      "16: this user is still active: 15279465\tlast post: 2019-09-18 19:22:14\n",
      "17: this user is still active: 88071033\tlast post: 2019-09-19 11:39:27\n",
      "18: this user is still active: 113410319\tlast post: 2019-09-19 13:57:50\n",
      "Not authorized.\n",
      "inactive user 22700291 droppato\n",
      "20: this user is still active: 37725640\tlast post: 2019-09-19 09:38:12\n",
      "21: this user is still active: 29268171\tlast post: 2019-09-17 16:10:28\n",
      "22: this user is still active: 68163467\tlast post: 2019-09-02 19:07:53\n",
      "23: this user is still active: 17268481\tlast post: 2019-09-19 03:47:00\n",
      "24: this user is still active: 212402248\tlast post: 2019-09-19 12:30:16\n",
      "25: this user is still active: 15700177\tlast post: 2019-09-11 22:39:12\n",
      "colleziono tweet utente numero: 113283096\n",
      "colleziono tweet utente numero: 52456063\n",
      "colleziono tweet utente numero: 18119568\n",
      "colleziono tweet utente numero: 14872161\n",
      "colleziono tweet utente numero: 10236782\n",
      "colleziono tweet utente numero: 45762728\n",
      "colleziono tweet utente numero: 175339579\n",
      "colleziono tweet utente numero: 171656520\n",
      "colleziono tweet utente numero: 21765964\n",
      "colleziono tweet utente numero: 16252960\n",
      "colleziono tweet utente numero: 56669858\n",
      "colleziono tweet utente numero: 54292369\n",
      "colleziono tweet utente numero: 18084838\n",
      "colleziono tweet utente numero: 41823835\n",
      "colleziono tweet utente numero: 94853291\n",
      "colleziono tweet utente numero: 14983173\n",
      "colleziono tweet utente numero: 15279465\n",
      "colleziono tweet utente numero: 88071033\n",
      "colleziono tweet utente numero: 113410319\n",
      "colleziono tweet utente numero: 17383566\n",
      "colleziono tweet utente numero: 37725640\n",
      "colleziono tweet utente numero: 29268171\n",
      "colleziono tweet utente numero: 68163467\n",
      "colleziono tweet utente numero: 17268481\n",
      "colleziono tweet utente numero: 212402248\n",
      "colleziono tweet utente numero: 15700177\n"
     ]
    }
   ],
   "source": [
    "import tweepy\n",
    "from pymongo import MongoClient\n",
    "\n",
    "\n",
    "df = pd.read_csv('authority-modularity.csv')\n",
    "df=df.drop(['Label','timeset','Hub'],axis=1)\n",
    "\n",
    "indexNames = df[ (df.modularity_class != 11) & (df.modularity_class != 9) & (df.modularity_class != 4) ].index\n",
    "df.drop(indexNames , inplace=True)\n",
    "\n",
    "df.modularity_class.value_counts()\n",
    "\n",
    "first10_cl11=df[df.modularity_class == 11].sort_values('Authority', ascending=False).head(10)\n",
    "first10_cl4=df[df.modularity_class == 4].sort_values('Authority', ascending=False).head(10)\n",
    "first10_cl9=df[df.modularity_class == 9].sort_values('Authority', ascending=False).head(10)\n",
    "\n",
    "utenti_cl11=first10_cl11.Id.tolist()\n",
    "utenti_cl4=first10_cl4.Id.tolist()\n",
    "utenti_cl9=first10_cl9.Id.tolist()\n",
    "\n",
    "utenti_final= utenti_cl11+utenti_cl4+utenti_cl9\n",
    "\n",
    "\n",
    "ACCESS_TOKEN = '1089903781880434688-SDhXR2aBBr54lZQ8QnPaE4mUR6TrOd'\n",
    "ACCESS_SECRET = 'D6wHvFEmbL3W0FSP70jxBRpIYs53UGxuQlQ5yHf578ZDt'\n",
    "CONSUMER_KEY = 'kGR5GYd09tSmQCJeyprOKlKeV'\n",
    "CONSUMER_SECRET = 'MNeyyl0SkUOGgkIs8kDdZktPi2HCxC7mTv6re4GywsiarZDR3c'\n",
    "\n",
    "\n",
    "auth = tweepy.OAuthHandler(CONSUMER_KEY, CONSUMER_SECRET) \n",
    "  \n",
    "auth.set_access_token(ACCESS_TOKEN, ACCESS_SECRET) \n",
    "\n",
    "api = tweepy.API(auth)\n",
    "\n",
    "\n",
    "from datetime import timedelta, datetime\n",
    "\n",
    "for idx, utente in enumerate(utenti_final):\n",
    "    try:\n",
    "        last_tweet = api.user_timeline(user_id=utente, count=1) \n",
    "        created_at = last_tweet[0].created_at\n",
    "    \n",
    "        if (created_at > datetime.now() - timedelta(days=90)):\n",
    "            print('{}: this user is still active: {}\\tlast post: {}'.format(idx,utente,created_at))\n",
    "        else:\n",
    "            utenti_final.remove(utente)\n",
    "            print('inactive user {} droppato'.format(utente))\n",
    "                \n",
    "    except Exception as err:\n",
    "        print(err)\n",
    "        utenti_final.remove(utente)\n",
    "        print('inactive user {} droppato'.format(utente))\n",
    "        continue\n",
    "        \n",
    "        \n",
    "client = MongoClient('localhost', 27017)\n",
    "db = client['twitter']\n",
    "\n",
    "data = pd.DataFrame(columns=['Tweets'])\n",
    "\n",
    "for user in utenti_final:\n",
    "    \n",
    "    print('colleziono tweet utente numero:', user)\n",
    "\n",
    "    pipeline=[{ \"$project\": {  \"id_user\" : 1, \"originalTweet\" : 1, \"hashtag\" : 1, \"mention\" : 1}}, { \"$match\": {  \"id_user\" : user} }]\n",
    "\n",
    "    cursor_list = list(db['tweets'].aggregate(pipeline))\n",
    "\n",
    "    tweets = pd.DataFrame(cursor_list)\n",
    "    data=data.append(tweets, sort=True)\n",
    "\n",
    "dfAll = pd.DataFrame(data.originalTweet)"
   ]
  },
  {
   "cell_type": "code",
   "execution_count": 32,
   "metadata": {},
   "outputs": [],
   "source": [
    "trumpTweet = dfAll[dfAll.originalTweet.str.contains(\"(?:^|\\W)#Trump(?:$|\\W)|\\\n",
    "                                                (?:^|\\W)#DonaldTrump(?:$|\\W)|\\\n",
    "                                                (?:^|\\W)#trump(?:$|\\W)|\\\n",
    "                                                (?:^|\\W)@realDonaldTrump(?:$|\\W)\\\n",
    "                                                (?:^|\\W)#donaldtrump(?:$|\\W)\\\n",
    "                                                (?:^|\\W)Trump(?:$|\\W)|\\\n",
    "                                                (?:^|\\W)DonaldTrump(?:$|\\W)|\\\n",
    "                                                (?:^|\\W)trump(?:$|\\W)|\\\n",
    "                                                (?:^|\\W)realDonaldTrump(?:$|\\W)\\\n",
    "                                                (?:^|\\W)donaldtrump(?:$|\\W)\")]"
   ]
  },
  {
   "cell_type": "code",
   "execution_count": 33,
   "metadata": {},
   "outputs": [
    {
     "name": "stderr",
     "output_type": "stream",
     "text": [
      "/media/alessandro/storage/anaconda3/lib/python3.6/site-packages/ipykernel_launcher.py:1: SettingWithCopyWarning: \n",
      "A value is trying to be set on a copy of a slice from a DataFrame.\n",
      "Try using .loc[row_indexer,col_indexer] = value instead\n",
      "\n",
      "See the caveats in the documentation: http://pandas.pydata.org/pandas-docs/stable/indexing.html#indexing-view-versus-copy\n",
      "  \"\"\"Entry point for launching an IPython kernel.\n",
      "/media/alessandro/storage/anaconda3/lib/python3.6/site-packages/ipykernel_launcher.py:2: SettingWithCopyWarning: \n",
      "A value is trying to be set on a copy of a slice from a DataFrame.\n",
      "Try using .loc[row_indexer,col_indexer] = value instead\n",
      "\n",
      "See the caveats in the documentation: http://pandas.pydata.org/pandas-docs/stable/indexing.html#indexing-view-versus-copy\n",
      "  \n"
     ]
    }
   ],
   "source": [
    "trumpTweet['originalTweet'] = trumpTweet['originalTweet'].apply(lambda x: x.lower())\n",
    "trumpTweet['originalTweet'] = trumpTweet['originalTweet'].apply((lambda x: re.sub('[^a-zA-z0-9\\s]','',x)))\n",
    "\n",
    "for idx,row in trumpTweet.iterrows():\n",
    "    row[0] = row[0].replace('rt',' ')"
   ]
  },
  {
   "cell_type": "code",
   "execution_count": 43,
   "metadata": {},
   "outputs": [],
   "source": [
    "counts = {}\n",
    "counts['positive']=0\n",
    "counts['negative']=0\n",
    "\n",
    "\n",
    "for twt in trumpTweet.originalTweet:\n",
    "\n",
    "    twt = [twt]\n",
    "    twt = count_vectorizer.transform(twt)\n",
    "    sentiment = clf.predict_proba(twt)\n",
    "    \n",
    "    if sentiment[0][0] <= sentiment[0][1]:\n",
    "        counts[\"positive\"]+=1\n",
    "    else:\n",
    "        counts[\"negative\"]+=1"
   ]
  },
  {
   "cell_type": "code",
   "execution_count": 45,
   "metadata": {},
   "outputs": [
    {
     "data": {
      "image/png": "[encoded data removed]",
      "text/plain": [
       "<Figure size 360x360 with 1 Axes>"
      ]
     },
     "metadata": {},
     "output_type": "display_data"
    }
   ],
   "source": [
    "import matplotlib\n",
    "import matplotlib.pyplot as plt\n",
    "\n",
    "sizes = [counts['negative'], counts['positive']]\n",
    "explode = (0, 0.1)\n",
    "labels = 'Negative', 'Positive'\n",
    "plt.figure(figsize=(5,5))\n",
    "plt.pie(sizes, explode=explode, colors=\"br\", labels=labels, autopct='%1.1f%%',\n",
    "        shadow=True, startangle=90, wedgeprops={'alpha':0.8})\n",
    "plt.axis('equal') \n",
    "plt.show()"
   ]
  }
 ],
 "metadata": {
  "kernelspec": {
   "display_name": "Python 3",
   "language": "python",
   "name": "python3"
  },
  "language_info": {
   "codemirror_mode": {
    "name": "ipython",
    "version": 3
   },
   "file_extension": ".py",
   "mimetype": "text/x-python",
   "name": "python",
   "nbconvert_exporter": "python",
   "pygments_lexer": "ipython3",
   "version": "3.6.5"
  }
 },
 "nbformat": 4,
 "nbformat_minor": 2
}
