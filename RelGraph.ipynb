{
 "cells": [
  {
   "cell_type": "code",
   "execution_count": 1,
   "metadata": {},
   "outputs": [],
   "source": [
    "import sys, logging, datetime, warnings\n",
    "\n",
    "from pymongo import MongoClient\n",
    "import pandas as pd  \n",
    "import numpy as np\n",
    "from utils import tokenize_and_stem\n",
    "from nltk.corpus import stopwords\n",
    "\n",
    "client = MongoClient('localhost', 27017)\n",
    "db = client['twitter']\n",
    "\n",
    "pipeline=[{ \"$project\": {  \"id_user\" : 1, \"replyTo_userId\" : 1, \"created_at\" : 1, \"hashtag\" : 1, \"mention\" : 1} }]\n",
    "\n",
    "cursor_list = list(db['tweets'].aggregate(pipeline))\n",
    "\n",
    "tweets = pd.DataFrame(cursor_list)\n",
    "data = pd.DataFrame(columns=['Utente'])\n",
    "data['Utente'] = tweets['id_user']\n",
    "data['Retweettato da'] = tweets['replyTo_userId']\n",
    "data['timestamp'] = tweets['created_at']\n",
    "data['hashtag'] = tweets['hashtag']\n",
    "data['mention'] = tweets['mention']"
   ]
  },
  {
   "cell_type": "code",
   "execution_count": null,
   "metadata": {},
   "outputs": [],
   "source": [
    "from birdy.twitter import UserClient, TwitterApiError, TwitterRateLimitError\n",
    "\n",
    "ACCESS_TOKEN = ''\n",
    "ACCESS_SECRET = ''\n",
    "CONSUMER_KEY = ''\n",
    "CONSUMER_SECRET = ''\n",
    "\n",
    "client = UserClient(CONSUMER_KEY,\n",
    "                    CONSUMER_SECRET,\n",
    "                    ACCESS_TOKEN,\n",
    "                    ACCESS_SECRET)"
   ]
  },
  {
   "cell_type": "code",
   "execution_count": null,
   "metadata": {},
   "outputs": [],
   "source": [
    "import time \n",
    "\n",
    "users = set(data['Utente'])\n",
    "\n",
    "# users_temp= set(data['Utente'])\n",
    "\n",
    "names={}\n",
    "\n",
    "for user in users:\n",
    "    \n",
    "    try:\n",
    "        name = client.api.users.show.get(id=user).data.name\n",
    "        names[name]=user\n",
    "    \n",
    "    except TwitterApiError as err:    \n",
    "        \n",
    "        if (type(err)==TwitterRateLimitError):\n",
    "        \n",
    "            print(err, 'aspetto 15' )\n",
    "            time.sleep(15*60)\n",
    "            name = client.api.users.show.get(id=user).data.name\n",
    "            names[name]=user\n",
    "        \n",
    "        else:\n",
    "        \n",
    "            print(err)\n",
    "#           users.remove(user)\n",
    "            data = data.drop(data[data.Utente == user].index)\n",
    "#           print('users_temp :', len(users_temp), 'users :', len(users)) \n"
   ]
  },
  {
   "cell_type": "code",
   "execution_count": null,
   "metadata": {},
   "outputs": [],
   "source": [
    "len(names)"
   ]
  },
  {
   "cell_type": "code",
   "execution_count": null,
   "metadata": {},
   "outputs": [],
   "source": [
    "import pickle\n",
    "\n",
    "with open('names.pickle', 'wb') as fp:\n",
    "    pickle.dump(names, fp)"
   ]
  },
  {
   "cell_type": "code",
   "execution_count": 2,
   "metadata": {},
   "outputs": [],
   "source": [
    "import pickle\n",
    "\n",
    "with open ('names.pickle', 'rb') as fp:\n",
    "    names = pickle.load(fp)"
   ]
  },
  {
   "cell_type": "code",
   "execution_count": 3,
   "metadata": {},
   "outputs": [],
   "source": [
    "import networkx as nx\n",
    "\n",
    "G=nx.DiGraph()\n",
    "\n",
    "for user in names.values():\n",
    "    G.add_node(user,label=user)"
   ]
  },
  {
   "cell_type": "markdown",
   "metadata": {},
   "source": [
    "![title](img/mention.png)"
   ]
  },
  {
   "cell_type": "code",
   "execution_count": 4,
   "metadata": {},
   "outputs": [],
   "source": [
    "mention = data.dropna(subset=['mention'])"
   ]
  },
  {
   "cell_type": "code",
   "execution_count": 5,
   "metadata": {},
   "outputs": [],
   "source": [
    "mention_df = mention.groupby('Utente')['mention'].apply(list)"
   ]
  },
  {
   "cell_type": "code",
   "execution_count": null,
   "metadata": {},
   "outputs": [],
   "source": [
    "mention_df"
   ]
  },
  {
   "cell_type": "code",
   "execution_count": 6,
   "metadata": {},
   "outputs": [],
   "source": [
    "for user in mention_df.keys():\n",
    "    for mention in mention_df[user]:\n",
    "        if mention in names.keys():\n",
    "            G.add_edges_from([(user,names[mention])]) "
   ]
  },
  {
   "cell_type": "markdown",
   "metadata": {},
   "source": [
    "![title](img/retweet.png)"
   ]
  },
  {
   "cell_type": "code",
   "execution_count": 7,
   "metadata": {},
   "outputs": [],
   "source": [
    "retweet = data[data[\"Retweettato da\"] != -1].reset_index()"
   ]
  },
  {
   "cell_type": "code",
   "execution_count": 8,
   "metadata": {},
   "outputs": [],
   "source": [
    "retweet_df = retweet.groupby('Utente')['Retweettato da'].apply(list)"
   ]
  },
  {
   "cell_type": "code",
   "execution_count": null,
   "metadata": {},
   "outputs": [],
   "source": [
    "retweet_df"
   ]
  },
  {
   "cell_type": "code",
   "execution_count": 9,
   "metadata": {},
   "outputs": [],
   "source": [
    "for user in retweet_df.keys():\n",
    "    for retweet in retweet_df[user]:\n",
    "        if retweet in names.values():\n",
    "            G.add_edges_from([(retweet,user)])              "
   ]
  },
  {
   "cell_type": "markdown",
   "metadata": {},
   "source": [
    "![title](img/hashtag.png)"
   ]
  },
  {
   "cell_type": "code",
   "execution_count": 10,
   "metadata": {},
   "outputs": [],
   "source": [
    "hashtag = data.dropna(subset=['hashtag'])"
   ]
  },
  {
   "cell_type": "code",
   "execution_count": 11,
   "metadata": {},
   "outputs": [],
   "source": [
    "hashtag = hashtag.reset_index(drop='index')\n",
    "hashtag = hashtag.drop(['mention', 'Retweettato da'], axis=1)"
   ]
  },
  {
   "cell_type": "code",
   "execution_count": 12,
   "metadata": {},
   "outputs": [],
   "source": [
    "def splitDataFrameList(df,target_column,separator):\n",
    "    ''' df = dataframe to split,\n",
    "    target_column = the column containing the values to split\n",
    "    separator = the symbol used to perform the split\n",
    "    returns: a dataframe with each entry for the target column separated, with each element moved into a new row. \n",
    "    The values in the other columns are duplicated across the newly divided rows.\n",
    "    '''\n",
    "    def splitListToRows(row,row_accumulator,target_column,separator):\n",
    "        split_row = row[target_column].split(separator)\n",
    "        for s in split_row:\n",
    "            new_row = row.to_dict()\n",
    "            new_row[target_column] = s\n",
    "            row_accumulator.append(new_row)\n",
    "    new_rows = []\n",
    "    df.apply(splitListToRows,axis=1,args = (new_rows,target_column,separator))\n",
    "    new_df = pandas.DataFrame(new_rows)\n",
    "    return new_df"
   ]
  },
  {
   "cell_type": "code",
   "execution_count": 13,
   "metadata": {},
   "outputs": [],
   "source": [
    "import pandas\n",
    "\n",
    "hashtag_final = splitDataFrameList(hashtag,'hashtag',',')\n",
    "hashtag_final = hashtag_final[hashtag_final['Utente'].isin(names.values())]\n",
    "hashtag_final = hashtag_final.sort_values('timestamp').reset_index().drop(['index'],axis=1)"
   ]
  },
  {
   "cell_type": "code",
   "execution_count": null,
   "metadata": {},
   "outputs": [],
   "source": [
    "# hashtag_grouped = hashtag_final.drop(['timestamp'], axis=1)\n",
    "# hashtag_grouped = hashtag_grouped[hashtag_grouped['Utente'].isin(names.values())]\n",
    "# hashtag_grouped = hashtag_grouped.groupby('hashtag')['Utente'].apply(list).reset_index()"
   ]
  },
  {
   "cell_type": "code",
   "execution_count": null,
   "metadata": {},
   "outputs": [],
   "source": [
    "for i in range(len(hashtag_final.hashtag)):\n",
    "    \n",
    "    temp = hashtag_final.hashtag[i]\n",
    "    \n",
    "    for a,h in enumerate(hashtag_final.hashtag[i:]):\n",
    "        if  temp == h :\n",
    "            G.add_edges_from([(hashtag_final.Utente[i],hashtag_final.Utente[a+i])])            "
   ]
  },
  {
   "cell_type": "code",
   "execution_count": null,
   "metadata": {},
   "outputs": [],
   "source": [
    "#remove selfloops\n",
    "G.remove_edges_from(G.selfloop_edges())"
   ]
  },
  {
   "cell_type": "code",
   "execution_count": null,
   "metadata": {},
   "outputs": [],
   "source": [
    "print(len('number of nodes:',G.nodes()))\n",
    "print(len('number of edges:',G.edges()))"
   ]
  },
  {
   "cell_type": "code",
   "execution_count": null,
   "metadata": {},
   "outputs": [],
   "source": [
    "nx.write_gexf(G, \"relGraph\")"
   ]
  }
 ],
 "metadata": {
  "kernelspec": {
   "display_name": "Python [conda env:root]",
   "language": "python",
   "name": "conda-root-py"
  },
  "language_info": {
   "codemirror_mode": {
    "name": "ipython",
    "version": 3
   },
   "file_extension": ".py",
   "mimetype": "text/x-python",
   "name": "python",
   "nbconvert_exporter": "python",
   "pygments_lexer": "ipython3",
   "version": "3.6.4"
  }
 },
 "nbformat": 4,
 "nbformat_minor": 2
}
