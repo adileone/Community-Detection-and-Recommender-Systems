{
 "cells": [
  {
   "cell_type": "code",
   "execution_count": 1,
   "metadata": {},
   "outputs": [
    {
     "data": {
      "text/plain": [
       "['ItemID', 'Sentiment', 'SentimentText']"
      ]
     },
     "execution_count": 1,
     "metadata": {},
     "output_type": "execute_result"
    }
   ],
   "source": [
    "import pandas as pd\n",
    "tweets = pd.read_csv(\"/home/ailabguest/alessandrodileone/dataset_sentiment/train.csv\", encoding='latin-1')\n",
    "list(tweets.columns.values)"
   ]
  },
  {
   "cell_type": "code",
   "execution_count": 2,
   "metadata": {},
   "outputs": [],
   "source": [
    "tweets.Sentiment.replace(0,'negative', inplace=True)\n",
    "tweets.Sentiment.replace(1,'positive', inplace=True)"
   ]
  },
  {
   "cell_type": "code",
   "execution_count": 3,
   "metadata": {},
   "outputs": [
    {
     "data": {
      "text/html": [
       "<div>\n",
       "<style scoped>\n",
       "    .dataframe tbody tr th:only-of-type {\n",
       "        vertical-align: middle;\n",
       "    }\n",
       "\n",
       "    .dataframe tbody tr th {\n",
       "        vertical-align: top;\n",
       "    }\n",
       "\n",
       "    .dataframe thead th {\n",
       "        text-align: right;\n",
       "    }\n",
       "</style>\n",
       "<table border=\"1\" class=\"dataframe\">\n",
       "  <thead>\n",
       "    <tr style=\"text-align: right;\">\n",
       "      <th></th>\n",
       "      <th>ItemID</th>\n",
       "      <th>Sentiment</th>\n",
       "      <th>SentimentText</th>\n",
       "    </tr>\n",
       "  </thead>\n",
       "  <tbody>\n",
       "    <tr>\n",
       "      <th>54142</th>\n",
       "      <td>54154</td>\n",
       "      <td>negative</td>\n",
       "      <td>@Austinslide sort of..... its called work....</td>\n",
       "    </tr>\n",
       "    <tr>\n",
       "      <th>57041</th>\n",
       "      <td>57053</td>\n",
       "      <td>positive</td>\n",
       "      <td>@basedmagazine good morning! everything is ble...</td>\n",
       "    </tr>\n",
       "    <tr>\n",
       "      <th>3803</th>\n",
       "      <td>3804</td>\n",
       "      <td>positive</td>\n",
       "      <td>Kicking it with Genesis. Being dramatic. Watc...</td>\n",
       "    </tr>\n",
       "    <tr>\n",
       "      <th>16891</th>\n",
       "      <td>16903</td>\n",
       "      <td>negative</td>\n",
       "      <td>;gives up... I guess there's no hope for getti...</td>\n",
       "    </tr>\n",
       "    <tr>\n",
       "      <th>72635</th>\n",
       "      <td>72647</td>\n",
       "      <td>positive</td>\n",
       "      <td>@cameronmstewart awesome comic, can't wait for...</td>\n",
       "    </tr>\n",
       "  </tbody>\n",
       "</table>\n",
       "</div>"
      ],
      "text/plain": [
       "       ItemID Sentiment                                      SentimentText\n",
       "54142   54154  negative     @Austinslide sort of..... its called work.... \n",
       "57041   57053  positive  @basedmagazine good morning! everything is ble...\n",
       "3803     3804  positive   Kicking it with Genesis. Being dramatic. Watc...\n",
       "16891   16903  negative  ;gives up... I guess there's no hope for getti...\n",
       "72635   72647  positive  @cameronmstewart awesome comic, can't wait for..."
      ]
     },
     "execution_count": 3,
     "metadata": {},
     "output_type": "execute_result"
    }
   ],
   "source": [
    "tweets.head()"
   ]
  },
  {
   "cell_type": "code",
   "execution_count": 4,
   "metadata": {},
   "outputs": [
    {
     "name": "stdout",
     "output_type": "stream",
     "text": [
      "positive    5634\n",
      "negative    4365\n",
      "Name: Sentiment, dtype: int64\n"
     ]
    }
   ],
   "source": [
    "sentiment_counts = tweets.Sentiment.value_counts()\n",
    "number_of_tweets = tweets.ItemID.count()\n",
    "print(sentiment_counts)"
   ]
  },
  {
   "cell_type": "code",
   "execution_count": 5,
   "metadata": {},
   "outputs": [],
   "source": [
    "import re, nltk\n",
    "from nltk.stem import WordNetLemmatizer\n",
    "from nltk.corpus import stopwords\n",
    "stop_words = set(stopwords.words('english'))\n",
    "wordnet_lemmatizer = WordNetLemmatizer()\n",
    "\n",
    "def normalizer(tweet):\n",
    "    only_letters = re.sub(\"[^a-zA-Z]\", \" \",tweet) \n",
    "    tokens = nltk.word_tokenize(only_letters)[2:]\n",
    "    lower_case = [l.lower() for l in tokens]\n",
    "    filtered_result = list(filter(lambda l: l not in stop_words, lower_case))\n",
    "    lemmas = [wordnet_lemmatizer.lemmatize(t) for t in filtered_result]\n",
    "    return lemmas"
   ]
  },
  {
   "cell_type": "code",
   "execution_count": 6,
   "metadata": {},
   "outputs": [
    {
     "data": {
      "text/plain": [
       "['text', 'airline', 'like']"
      ]
     },
     "execution_count": 6,
     "metadata": {},
     "output_type": "execute_result"
    }
   ],
   "source": [
    "normalizer(\"Here is text about an airline I like.\")"
   ]
  },
  {
   "cell_type": "code",
   "execution_count": 7,
   "metadata": {},
   "outputs": [
    {
     "data": {
      "text/html": [
       "<div>\n",
       "<style scoped>\n",
       "    .dataframe tbody tr th:only-of-type {\n",
       "        vertical-align: middle;\n",
       "    }\n",
       "\n",
       "    .dataframe tbody tr th {\n",
       "        vertical-align: top;\n",
       "    }\n",
       "\n",
       "    .dataframe thead th {\n",
       "        text-align: right;\n",
       "    }\n",
       "</style>\n",
       "<table border=\"1\" class=\"dataframe\">\n",
       "  <thead>\n",
       "    <tr style=\"text-align: right;\">\n",
       "      <th></th>\n",
       "      <th>SentimentText</th>\n",
       "      <th>normalized_tweet</th>\n",
       "    </tr>\n",
       "  </thead>\n",
       "  <tbody>\n",
       "    <tr>\n",
       "      <th>54142</th>\n",
       "      <td>@Austinslide sort of..... its called work....</td>\n",
       "      <td>[called, work]</td>\n",
       "    </tr>\n",
       "    <tr>\n",
       "      <th>57041</th>\n",
       "      <td>@basedmagazine good morning! everything is blessed..... sure</td>\n",
       "      <td>[morning, everything, blessed, sure]</td>\n",
       "    </tr>\n",
       "    <tr>\n",
       "      <th>3803</th>\n",
       "      <td>Kicking it with Genesis. Being dramatic. Watching a chick flick. This is highly entertaining surprisingly.</td>\n",
       "      <td>[genesis, dramatic, watching, chick, flick, highly, entertaining, surprisingly]</td>\n",
       "    </tr>\n",
       "    <tr>\n",
       "      <th>16891</th>\n",
       "      <td>;gives up... I guess there's no hope for getting the iPhone 3.0 update while I'm awake</td>\n",
       "      <td>[guess, hope, getting, iphone, update, awake]</td>\n",
       "    </tr>\n",
       "    <tr>\n",
       "      <th>72635</th>\n",
       "      <td>@cameronmstewart awesome comic, can't wait for more  saw it in andy diggle's tweets  something was different about it, in a good way</td>\n",
       "      <td>[comic, wait, saw, andy, diggle, tweet, something, different, good, way]</td>\n",
       "    </tr>\n",
       "  </tbody>\n",
       "</table>\n",
       "</div>"
      ],
      "text/plain": [
       "                                                                                                                               SentimentText  \\\n",
       "54142  @Austinslide sort of..... its called work....                                                                                           \n",
       "57041  @basedmagazine good morning! everything is blessed..... sure                                                                            \n",
       "3803    Kicking it with Genesis. Being dramatic. Watching a chick flick. This is highly entertaining surprisingly.                             \n",
       "16891  ;gives up... I guess there's no hope for getting the iPhone 3.0 update while I'm awake                                                  \n",
       "72635  @cameronmstewart awesome comic, can't wait for more  saw it in andy diggle's tweets  something was different about it, in a good way    \n",
       "\n",
       "                                                                      normalized_tweet  \n",
       "54142  [called, work]                                                                   \n",
       "57041  [morning, everything, blessed, sure]                                             \n",
       "3803   [genesis, dramatic, watching, chick, flick, highly, entertaining, surprisingly]  \n",
       "16891  [guess, hope, getting, iphone, update, awake]                                    \n",
       "72635  [comic, wait, saw, andy, diggle, tweet, something, different, good, way]         "
      ]
     },
     "execution_count": 7,
     "metadata": {},
     "output_type": "execute_result"
    }
   ],
   "source": [
    "pd.set_option('display.max_colwidth', -1) # Setting this so we can see the full content of cells\n",
    "tweets['normalized_tweet'] = tweets.SentimentText.apply(normalizer)\n",
    "tweets[['SentimentText','normalized_tweet']].head()"
   ]
  },
  {
   "cell_type": "code",
   "execution_count": 8,
   "metadata": {},
   "outputs": [
    {
     "data": {
      "text/html": [
       "<div>\n",
       "<style scoped>\n",
       "    .dataframe tbody tr th:only-of-type {\n",
       "        vertical-align: middle;\n",
       "    }\n",
       "\n",
       "    .dataframe tbody tr th {\n",
       "        vertical-align: top;\n",
       "    }\n",
       "\n",
       "    .dataframe thead th {\n",
       "        text-align: right;\n",
       "    }\n",
       "</style>\n",
       "<table border=\"1\" class=\"dataframe\">\n",
       "  <thead>\n",
       "    <tr style=\"text-align: right;\">\n",
       "      <th></th>\n",
       "      <th>grams</th>\n",
       "    </tr>\n",
       "  </thead>\n",
       "  <tbody>\n",
       "    <tr>\n",
       "      <th>54142</th>\n",
       "      <td>[called work]</td>\n",
       "    </tr>\n",
       "    <tr>\n",
       "      <th>57041</th>\n",
       "      <td>[morning everything, everything blessed, blessed sure, morning everything blessed, everything blessed sure]</td>\n",
       "    </tr>\n",
       "    <tr>\n",
       "      <th>3803</th>\n",
       "      <td>[genesis dramatic, dramatic watching, watching chick, chick flick, flick highly, highly entertaining, entertaining surprisingly, genesis dramatic watching, dramatic watching chick, watching chick flick, chick flick highly, flick highly entertaining, highly entertaining surprisingly]</td>\n",
       "    </tr>\n",
       "    <tr>\n",
       "      <th>16891</th>\n",
       "      <td>[guess hope, hope getting, getting iphone, iphone update, update awake, guess hope getting, hope getting iphone, getting iphone update, iphone update awake]</td>\n",
       "    </tr>\n",
       "    <tr>\n",
       "      <th>72635</th>\n",
       "      <td>[comic wait, wait saw, saw andy, andy diggle, diggle tweet, tweet something, something different, different good, good way, comic wait saw, wait saw andy, saw andy diggle, andy diggle tweet, diggle tweet something, tweet something different, something different good, different good way]</td>\n",
       "    </tr>\n",
       "  </tbody>\n",
       "</table>\n",
       "</div>"
      ],
      "text/plain": [
       "                                                                                                                                                                                                                                                                                                 grams\n",
       "54142  [called work]                                                                                                                                                                                                                                                                                  \n",
       "57041  [morning everything, everything blessed, blessed sure, morning everything blessed, everything blessed sure]                                                                                                                                                                                    \n",
       "3803   [genesis dramatic, dramatic watching, watching chick, chick flick, flick highly, highly entertaining, entertaining surprisingly, genesis dramatic watching, dramatic watching chick, watching chick flick, chick flick highly, flick highly entertaining, highly entertaining surprisingly]    \n",
       "16891  [guess hope, hope getting, getting iphone, iphone update, update awake, guess hope getting, hope getting iphone, getting iphone update, iphone update awake]                                                                                                                                   \n",
       "72635  [comic wait, wait saw, saw andy, andy diggle, diggle tweet, tweet something, something different, different good, good way, comic wait saw, wait saw andy, saw andy diggle, andy diggle tweet, diggle tweet something, tweet something different, something different good, different good way]"
      ]
     },
     "execution_count": 8,
     "metadata": {},
     "output_type": "execute_result"
    }
   ],
   "source": [
    "from nltk import ngrams\n",
    "def ngrams(input_list):\n",
    "    #onegrams = input_list\n",
    "    bigrams = [' '.join(t) for t in list(zip(input_list, input_list[1:]))]\n",
    "    trigrams = [' '.join(t) for t in list(zip(input_list, input_list[1:], input_list[2:]))]\n",
    "    return bigrams+trigrams\n",
    "tweets['grams'] = tweets.normalized_tweet.apply(ngrams)\n",
    "tweets[['grams']].head()"
   ]
  },
  {
   "cell_type": "code",
   "execution_count": 9,
   "metadata": {},
   "outputs": [],
   "source": [
    "import collections\n",
    "def count_words(input):\n",
    "    cnt = collections.Counter()\n",
    "    for row in input:\n",
    "        for word in row:\n",
    "            cnt[word] += 1\n",
    "    return cnt"
   ]
  },
  {
   "cell_type": "code",
   "execution_count": 10,
   "metadata": {},
   "outputs": [
    {
     "data": {
      "text/plain": [
       "[('gon na', 61),\n",
       " ('wan na', 47),\n",
       " ('wish could', 34),\n",
       " ('bit ly', 27),\n",
       " ('sorry hear', 25),\n",
       " ('want go', 25),\n",
       " ('http bit', 24),\n",
       " ('http bit ly', 24),\n",
       " ('last night', 23),\n",
       " ('twitpic com', 23),\n",
       " ('oh well', 21),\n",
       " ('look like', 20),\n",
       " ('feel better', 20),\n",
       " ('got ta', 20),\n",
       " ('miss u', 16),\n",
       " ('feel like', 15),\n",
       " ('na go', 14),\n",
       " ('next week', 14),\n",
       " ('get better', 13),\n",
       " ('make sad', 12)]"
      ]
     },
     "execution_count": 10,
     "metadata": {},
     "output_type": "execute_result"
    }
   ],
   "source": [
    "tweets[(tweets.Sentiment == 'negative')][['grams']].apply(count_words)['grams'].most_common(20)"
   ]
  },
  {
   "cell_type": "code",
   "execution_count": 11,
   "metadata": {},
   "outputs": [
    {
     "data": {
      "text/plain": [
       "[('gon na', 57),\n",
       " ('twitpic com', 56),\n",
       " ('bit ly', 46),\n",
       " ('http bit', 38),\n",
       " ('http bit ly', 38),\n",
       " ('good luck', 35),\n",
       " ('wan na', 29),\n",
       " ('tinyurl com', 25),\n",
       " ('http tinyurl', 24),\n",
       " ('http tinyurl com', 24),\n",
       " ('let know', 22),\n",
       " ('follower day', 21),\n",
       " ('day using', 21),\n",
       " ('using www', 21),\n",
       " ('com add', 21),\n",
       " ('add everyone', 21),\n",
       " ('everyone train', 21),\n",
       " ('train pay', 21),\n",
       " ('pay vip', 21),\n",
       " ('follower day using', 21)]"
      ]
     },
     "execution_count": 11,
     "metadata": {},
     "output_type": "execute_result"
    }
   ],
   "source": [
    "tweets[(tweets.Sentiment == 'positive')][['grams']].apply(count_words)['grams'].most_common(20)"
   ]
  },
  {
   "cell_type": "code",
   "execution_count": 12,
   "metadata": {},
   "outputs": [],
   "source": [
    "import numpy as np\n",
    "from scipy.sparse import hstack\n",
    "from sklearn.feature_extraction.text import CountVectorizer\n",
    "count_vectorizer = CountVectorizer(ngram_range=(1,2))"
   ]
  },
  {
   "cell_type": "code",
   "execution_count": 13,
   "metadata": {},
   "outputs": [],
   "source": [
    "vectorized_data = count_vectorizer.fit_transform(tweets.SentimentText)\n",
    "indexed_data = hstack((np.array(range(0,vectorized_data.shape[0]))[:,None], vectorized_data))"
   ]
  },
  {
   "cell_type": "code",
   "execution_count": 14,
   "metadata": {},
   "outputs": [],
   "source": [
    "def sentiment2target(sentiment):\n",
    "    return {\n",
    "        'negative': 0,\n",
    "        'neutral': 1,\n",
    "        'positive' : 2\n",
    "    }[sentiment]\n",
    "targets = tweets.Sentiment.apply(sentiment2target)"
   ]
  },
  {
   "cell_type": "code",
   "execution_count": 15,
   "metadata": {},
   "outputs": [],
   "source": [
    "from sklearn import svm\n",
    "from sklearn.multiclass import OneVsRestClassifier\n",
    "from sklearn.model_selection import train_test_split"
   ]
  },
  {
   "cell_type": "code",
   "execution_count": 16,
   "metadata": {},
   "outputs": [
    {
     "name": "stdout",
     "output_type": "stream",
     "text": [
      "SVM_linear_20%\n",
      "\n",
      "[LibSVM]Score with 80% training set - 20% test set:  0.7115\n"
     ]
    }
   ],
   "source": [
    "data_train, data_test, targets_train, targets_test = train_test_split(indexed_data, targets, test_size=0.2, random_state=0)\n",
    "data_train = data_train[:,1:]\n",
    "data_test = data_test[:,1:]\n",
    "\n",
    "print( 'SVM_linear_20%')\n",
    "print()\n",
    "clf20 = OneVsRestClassifier(svm.SVC(gamma='scale', C=10, probability=True, kernel='linear', verbose=2))\n",
    "clf_output20 = clf20.fit(data_train, targets_train)\n",
    "score20=clf20.score(data_test, targets_test)\n",
    "print('Score with 80% training set - 20% test set: ', score20)\n",
    "\n",
    "del data_train, data_test, targets_train, targets_test"
   ]
  },
  {
   "cell_type": "code",
   "execution_count": 17,
   "metadata": {},
   "outputs": [
    {
     "name": "stdout",
     "output_type": "stream",
     "text": [
      "SVM_linear_30%\n",
      "\n",
      "[LibSVM]Score with 70% training set - 30% test set:  0.719\n"
     ]
    }
   ],
   "source": [
    "data_train, data_test, targets_train, targets_test = train_test_split(indexed_data, targets, test_size=0.3, random_state=0)\n",
    "data_train = data_train[:,1:]\n",
    "data_test = data_test[:,1:]\n",
    "\n",
    "print( 'SVM_linear_30%')\n",
    "print()\n",
    "clf30 = OneVsRestClassifier(svm.SVC(gamma='scale', C=10, probability=True, kernel='linear', verbose=2))\n",
    "clf_output30 = clf30.fit(data_train, targets_train)\n",
    "score30=clf30.score(data_test, targets_test)\n",
    "print('Score with 70% training set - 30% test set: ', score30)\n",
    "\n",
    "del data_train, data_test, targets_train, targets_test"
   ]
  },
  {
   "cell_type": "code",
   "execution_count": 18,
   "metadata": {},
   "outputs": [
    {
     "name": "stdout",
     "output_type": "stream",
     "text": [
      "SVM_linear_40%\n",
      "\n",
      "[LibSVM]Score with 60% training set - 40% test set:  0.71825\n"
     ]
    }
   ],
   "source": [
    "data_train, data_test, targets_train, targets_test = train_test_split(indexed_data, targets, test_size=0.4, random_state=0)\n",
    "data_train = data_train[:,1:]\n",
    "data_test = data_test[:,1:]\n",
    "\n",
    "print( 'SVM_linear_40%')\n",
    "print()\n",
    "clf40 = OneVsRestClassifier(svm.SVC(gamma='scale', C=10, probability=True, kernel='linear', verbose=2))\n",
    "clf_output40 = clf40.fit(data_train, targets_train)\n",
    "score40=clf40.score(data_test, targets_test)\n",
    "print('Score with 60% training set - 40% test set: ', score40)\n",
    "\n",
    "del data_train, data_test, targets_train, targets_test"
   ]
  },
  {
   "cell_type": "code",
   "execution_count": null,
   "metadata": {},
   "outputs": [],
   "source": []
  },
  {
   "cell_type": "code",
   "execution_count": 19,
   "metadata": {},
   "outputs": [
    {
     "data": {
      "text/plain": [
       "array([[0.36206397, 0.63793603]])"
      ]
     },
     "execution_count": 19,
     "metadata": {},
     "output_type": "execute_result"
    }
   ],
   "source": [
    "se = count_vectorizer.transform([\"Trump is the worst president ever, but the sun is still awesome!\"])\n",
    "clf30.predict_proba(se)"
   ]
  },
  {
   "cell_type": "code",
   "execution_count": 20,
   "metadata": {},
   "outputs": [
    {
     "data": {
      "text/plain": [
       "array([[0.60763713, 0.39236287]])"
      ]
     },
     "execution_count": 20,
     "metadata": {},
     "output_type": "execute_result"
    }
   ],
   "source": [
    "se = count_vectorizer.transform([\"Trump is the worst president ever\"])\n",
    "clf30.predict_proba(se)"
   ]
  },
  {
   "cell_type": "code",
   "execution_count": 21,
   "metadata": {},
   "outputs": [
    {
     "data": {
      "text/plain": [
       "array([[0.36672271, 0.63327729]])"
      ]
     },
     "execution_count": 21,
     "metadata": {},
     "output_type": "execute_result"
    }
   ],
   "source": [
    "se = count_vectorizer.transform([\"Trump is the best president ever\"])\n",
    "clf30.predict_proba(se)"
   ]
  },
  {
   "cell_type": "code",
   "execution_count": 22,
   "metadata": {},
   "outputs": [
    {
     "data": {
      "text/plain": [
       "array([[0.22362872, 0.77637128]])"
      ]
     },
     "execution_count": 22,
     "metadata": {},
     "output_type": "execute_result"
    }
   ],
   "source": [
    "se = count_vectorizer.transform([\"Sun is awesome\"])\n",
    "clf30.predict_proba(se)"
   ]
  },
  {
   "cell_type": "code",
   "execution_count": null,
   "metadata": {},
   "outputs": [],
   "source": []
  },
  {
   "cell_type": "code",
   "execution_count": 23,
   "metadata": {},
   "outputs": [
    {
     "name": "stdout",
     "output_type": "stream",
     "text": [
      "Not authorized.\n",
      "inactive user 123926189 droppato\n",
      "1: this user is still active: 52456063\tlast post: 2019-10-03 12:19:23\n",
      "2: this user is still active: 18119568\tlast post: 2019-10-03 09:03:15\n",
      "3: this user is still active: 14872161\tlast post: 2019-10-03 06:24:21\n",
      "4: this user is still active: 10236782\tlast post: 2019-10-03 11:58:40\n",
      "5: this user is still active: 45762728\tlast post: 2019-09-24 01:07:11\n",
      "6: this user is still active: 175339579\tlast post: 2019-10-03 11:58:50\n",
      "7: this user is still active: 171656520\tlast post: 2019-10-03 07:51:04\n",
      "8: this user is still active: 21765964\tlast post: 2019-09-24 20:02:45\n",
      "Not authorized.\n",
      "inactive user 15773072 droppato\n",
      "inactive user 42919671 droppato\n",
      "11: this user is still active: 54292369\tlast post: 2019-10-03 02:57:10\n",
      "12: this user is still active: 18084838\tlast post: 2019-10-03 05:28:30\n",
      "13: this user is still active: 41823835\tlast post: 2019-10-03 07:25:01\n",
      "14: this user is still active: 94853291\tlast post: 2019-10-03 00:29:01\n",
      "15: this user is still active: 14983173\tlast post: 2019-10-03 05:22:53\n",
      "16: this user is still active: 15279465\tlast post: 2019-10-03 10:52:27\n",
      "17: this user is still active: 88071033\tlast post: 2019-10-03 04:11:15\n",
      "18: this user is still active: 113410319\tlast post: 2019-10-03 12:01:04\n",
      "Not authorized.\n",
      "inactive user 22700291 droppato\n",
      "20: this user is still active: 37725640\tlast post: 2019-10-03 06:17:28\n",
      "21: this user is still active: 29268171\tlast post: 2019-10-01 13:48:23\n",
      "22: this user is still active: 68163467\tlast post: 2019-09-02 19:07:53\n",
      "23: this user is still active: 17268481\tlast post: 2019-10-03 05:38:38\n",
      "24: this user is still active: 212402248\tlast post: 2019-10-03 13:10:18\n",
      "25: this user is still active: 15700177\tlast post: 2019-10-03 11:08:15\n",
      "colleziono tweet utente numero: 113283096\n",
      "colleziono tweet utente numero: 52456063\n",
      "colleziono tweet utente numero: 18119568\n",
      "colleziono tweet utente numero: 14872161\n",
      "colleziono tweet utente numero: 10236782\n",
      "colleziono tweet utente numero: 45762728\n",
      "colleziono tweet utente numero: 175339579\n",
      "colleziono tweet utente numero: 171656520\n",
      "colleziono tweet utente numero: 21765964\n",
      "colleziono tweet utente numero: 16252960\n",
      "colleziono tweet utente numero: 56669858\n",
      "colleziono tweet utente numero: 54292369\n",
      "colleziono tweet utente numero: 18084838\n",
      "colleziono tweet utente numero: 41823835\n",
      "colleziono tweet utente numero: 94853291\n",
      "colleziono tweet utente numero: 14983173\n",
      "colleziono tweet utente numero: 15279465\n",
      "colleziono tweet utente numero: 88071033\n",
      "colleziono tweet utente numero: 113410319\n",
      "colleziono tweet utente numero: 17383566\n",
      "colleziono tweet utente numero: 37725640\n",
      "colleziono tweet utente numero: 29268171\n",
      "colleziono tweet utente numero: 68163467\n",
      "colleziono tweet utente numero: 17268481\n",
      "colleziono tweet utente numero: 212402248\n",
      "colleziono tweet utente numero: 15700177\n"
     ]
    }
   ],
   "source": [
    "import tweepy\n",
    "from pymongo import MongoClient\n",
    "\n",
    "\n",
    "df = pd.read_csv('authority-modularity.csv')\n",
    "df=df.drop(['Label','timeset','Hub'],axis=1)\n",
    "\n",
    "indexNames = df[ (df.modularity_class != 11) & (df.modularity_class != 9) & (df.modularity_class != 4) ].index\n",
    "df.drop(indexNames , inplace=True)\n",
    "\n",
    "df.modularity_class.value_counts()\n",
    "\n",
    "first10_cl11=df[df.modularity_class == 11].sort_values('Authority', ascending=False).head(10)\n",
    "first10_cl4=df[df.modularity_class == 4].sort_values('Authority', ascending=False).head(10)\n",
    "first10_cl9=df[df.modularity_class == 9].sort_values('Authority', ascending=False).head(10)\n",
    "\n",
    "utenti_cl11=first10_cl11.Id.tolist()\n",
    "utenti_cl4=first10_cl4.Id.tolist()\n",
    "utenti_cl9=first10_cl9.Id.tolist()\n",
    "\n",
    "utenti_final= utenti_cl11+utenti_cl4+utenti_cl9\n",
    "\n",
    "\n",
    "ACCESS_TOKEN = '1089903781880434688-SDhXR2aBBr54lZQ8QnPaE4mUR6TrOd'\n",
    "ACCESS_SECRET = 'D6wHvFEmbL3W0FSP70jxBRpIYs53UGxuQlQ5yHf578ZDt'\n",
    "CONSUMER_KEY = 'kGR5GYd09tSmQCJeyprOKlKeV'\n",
    "CONSUMER_SECRET = 'MNeyyl0SkUOGgkIs8kDdZktPi2HCxC7mTv6re4GywsiarZDR3c'\n",
    "\n",
    "\n",
    "auth = tweepy.OAuthHandler(CONSUMER_KEY, CONSUMER_SECRET) \n",
    "  \n",
    "auth.set_access_token(ACCESS_TOKEN, ACCESS_SECRET) \n",
    "\n",
    "api = tweepy.API(auth)\n",
    "\n",
    "\n",
    "from datetime import timedelta, datetime\n",
    "\n",
    "for idx, utente in enumerate(utenti_final):\n",
    "    try:\n",
    "        last_tweet = api.user_timeline(user_id=utente, count=1) \n",
    "        created_at = last_tweet[0].created_at\n",
    "    \n",
    "        if (created_at > datetime.now() - timedelta(days=90)):\n",
    "            print('{}: this user is still active: {}\\tlast post: {}'.format(idx,utente,created_at))\n",
    "        else:\n",
    "            utenti_final.remove(utente)\n",
    "            print('inactive user {} droppato'.format(utente))\n",
    "                \n",
    "    except Exception as err:\n",
    "        print(err)\n",
    "        utenti_final.remove(utente)\n",
    "        print('inactive user {} droppato'.format(utente))\n",
    "        continue\n",
    "        \n",
    "        \n",
    "client = MongoClient('localhost', 27017)\n",
    "db = client['twitter']\n",
    "\n",
    "data = pd.DataFrame(columns=['Tweets'])\n",
    "\n",
    "for user in utenti_final:\n",
    "    \n",
    "    print('colleziono tweet utente numero:', user)\n",
    "\n",
    "    pipeline=[{ \"$project\": {  \"id_user\" : 1, \"originalTweet\" : 1, \"hashtag\" : 1, \"mention\" : 1}}, { \"$match\": {  \"id_user\" : user} }]\n",
    "\n",
    "    cursor_list = list(db['tweets'].aggregate(pipeline))\n",
    "\n",
    "    tweets = pd.DataFrame(cursor_list)\n",
    "    data=data.append(tweets, sort=True)\n",
    "\n",
    "dfAll = pd.DataFrame(data.originalTweet)"
   ]
  },
  {
   "cell_type": "code",
   "execution_count": 24,
   "metadata": {},
   "outputs": [],
   "source": [
    "trumpTweet = dfAll[dfAll.originalTweet.str.contains(\"(?:^|\\W)#Trump(?:$|\\W)|\\\n",
    "                                                (?:^|\\W)#DonaldTrump(?:$|\\W)|\\\n",
    "                                                (?:^|\\W)#trump(?:$|\\W)|\\\n",
    "                                                (?:^|\\W)@realDonaldTrump(?:$|\\W)\\\n",
    "                                                (?:^|\\W)#donaldtrump(?:$|\\W)\\\n",
    "                                                (?:^|\\W)Trump(?:$|\\W)|\\\n",
    "                                                (?:^|\\W)DonaldTrump(?:$|\\W)|\\\n",
    "                                                (?:^|\\W)trump(?:$|\\W)|\\\n",
    "                                                (?:^|\\W)realDonaldTrump(?:$|\\W)\\\n",
    "                                                (?:^|\\W)donaldtrump(?:$|\\W)\")]"
   ]
  },
  {
   "cell_type": "code",
   "execution_count": 25,
   "metadata": {},
   "outputs": [
    {
     "name": "stderr",
     "output_type": "stream",
     "text": [
      "/home/ailabguest/anaconda3/envs/py36guest/lib/python3.6/site-packages/ipykernel_launcher.py:1: SettingWithCopyWarning: \n",
      "A value is trying to be set on a copy of a slice from a DataFrame.\n",
      "Try using .loc[row_indexer,col_indexer] = value instead\n",
      "\n",
      "See the caveats in the documentation: http://pandas.pydata.org/pandas-docs/stable/indexing.html#indexing-view-versus-copy\n",
      "  \"\"\"Entry point for launching an IPython kernel.\n",
      "/home/ailabguest/anaconda3/envs/py36guest/lib/python3.6/site-packages/ipykernel_launcher.py:2: SettingWithCopyWarning: \n",
      "A value is trying to be set on a copy of a slice from a DataFrame.\n",
      "Try using .loc[row_indexer,col_indexer] = value instead\n",
      "\n",
      "See the caveats in the documentation: http://pandas.pydata.org/pandas-docs/stable/indexing.html#indexing-view-versus-copy\n",
      "  \n"
     ]
    }
   ],
   "source": [
    "trumpTweet['originalTweet'] = trumpTweet['originalTweet'].apply(lambda x: x.lower())\n",
    "trumpTweet['originalTweet'] = trumpTweet['originalTweet'].apply((lambda x: re.sub('[^a-zA-z0-9\\s]','',x)))\n",
    "\n",
    "for idx,row in trumpTweet.iterrows():\n",
    "    row[0] = row[0].replace('rt',' ')"
   ]
  },
  {
   "cell_type": "code",
   "execution_count": 27,
   "metadata": {},
   "outputs": [],
   "source": [
    "counts = {}\n",
    "counts['positive']=0\n",
    "counts['negative']=0\n",
    "\n",
    "\n",
    "for twt in trumpTweet.originalTweet:\n",
    "\n",
    "    twt = [twt]\n",
    "    twt = count_vectorizer.transform(twt)\n",
    "    sentiment = clf30.predict_proba(twt)\n",
    "    \n",
    "    if sentiment[0][0] <= sentiment[0][1]:\n",
    "        counts[\"positive\"]+=1\n",
    "    else:\n",
    "        counts[\"negative\"]+=1"
   ]
  },
  {
   "cell_type": "code",
   "execution_count": 29,
   "metadata": {},
   "outputs": [
    {
     "data": {
      "image/png": "[encoded data removed]",
      "text/plain": [
       "<Figure size 360x360 with 1 Axes>"
      ]
     },
     "metadata": {},
     "output_type": "display_data"
    }
   ],
   "source": [
    "import matplotlib\n",
    "import matplotlib.pyplot as plt\n",
    "\n",
    "sizes = [counts['negative'], counts['positive']]\n",
    "explode = (0, 0.1)\n",
    "labels = 'Negative', 'Positive'\n",
    "plt.figure(figsize=(5,5))\n",
    "plt.pie(sizes, explode=explode, colors=\"br\", labels=labels, autopct='%1.1f%%',\n",
    "        shadow=True, startangle=90, wedgeprops={'alpha':0.8})\n",
    "plt.axis('equal') \n",
    "plt.show()"
   ]
  }
 ],
 "metadata": {
  "kernelspec": {
   "display_name": "Python 3",
   "language": "python",
   "name": "python3"
  },
  "language_info": {
   "codemirror_mode": {
    "name": "ipython",
    "version": 3
   },
   "file_extension": ".py",
   "mimetype": "text/x-python",
   "name": "python",
   "nbconvert_exporter": "python",
   "pygments_lexer": "ipython3",
   "version": "3.6.8"
  }
 },
 "nbformat": 4,
 "nbformat_minor": 2
}
