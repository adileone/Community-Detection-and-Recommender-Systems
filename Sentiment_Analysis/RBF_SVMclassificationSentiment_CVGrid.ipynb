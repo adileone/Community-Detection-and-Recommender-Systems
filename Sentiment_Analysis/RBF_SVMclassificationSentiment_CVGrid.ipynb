{
 "cells": [
  {
   "cell_type": "code",
   "execution_count": 22,
   "metadata": {},
   "outputs": [],
   "source": [
    "import sys, logging, datetime\n",
    "\n",
    "sys.stdout = open(\"/home/ailabguest/alessandrodileone/SVM_log/CV_SVM_RBF\", \"w\")\n",
    "\n",
    "logging.basicConfig(filename='/home/ailabguest/alessandrodileone/SVM_log/CV_SVM_RBF.log', format='%(asctime)s : %(levelname)s : %(message)s', level=logging.INFO)"
   ]
  },
  {
   "cell_type": "code",
   "execution_count": 1,
   "metadata": {},
   "outputs": [],
   "source": [
    "import pandas as pd\n",
    "tweets = pd.read_csv(\"/home/ailabguest/alessandrodileone/dataset_sentiment/train.csv\", encoding='latin-1')\n",
    "list(tweets.columns.values)\n",
    "\n",
    "tweets.Sentiment.replace(0,'negative', inplace=True)\n",
    "tweets.Sentiment.replace(1,'positive', inplace=True)"
   ]
  },
  {
   "cell_type": "code",
   "execution_count": 2,
   "metadata": {},
   "outputs": [],
   "source": [
    "import re, nltk\n",
    "from nltk.stem import WordNetLemmatizer\n",
    "from nltk.corpus import stopwords\n",
    "stop_words = set(stopwords.words('english'))\n",
    "wordnet_lemmatizer = WordNetLemmatizer()\n",
    "\n",
    "def normalizer(tweet):\n",
    "    only_letters = re.sub(\"[^a-zA-Z]\", \" \",tweet) \n",
    "    tokens = nltk.word_tokenize(only_letters)[2:]\n",
    "    lower_case = [l.lower() for l in tokens]\n",
    "    filtered_result = list(filter(lambda l: l not in stop_words, lower_case))\n",
    "    lemmas = [wordnet_lemmatizer.lemmatize(t) for t in filtered_result]\n",
    "    return lemmas"
   ]
  },
  {
   "cell_type": "code",
   "execution_count": 3,
   "metadata": {},
   "outputs": [],
   "source": [
    "tweets['normalized_tweet'] = tweets.SentimentText.apply(normalizer)"
   ]
  },
  {
   "cell_type": "code",
   "execution_count": 4,
   "metadata": {},
   "outputs": [],
   "source": [
    "from nltk import ngrams\n",
    "def ngrams(input_list):\n",
    "    #onegrams = input_list\n",
    "    bigrams = [' '.join(t) for t in list(zip(input_list, input_list[1:]))]\n",
    "    trigrams = [' '.join(t) for t in list(zip(input_list, input_list[1:], input_list[2:]))]\n",
    "    return bigrams+trigrams\n",
    "tweets['grams'] = tweets.normalized_tweet.apply(ngrams)"
   ]
  },
  {
   "cell_type": "code",
   "execution_count": 5,
   "metadata": {},
   "outputs": [],
   "source": [
    "import numpy as np\n",
    "from scipy.sparse import hstack\n",
    "from sklearn.feature_extraction.text import CountVectorizer\n",
    "count_vectorizer = CountVectorizer(ngram_range=(1,2))"
   ]
  },
  {
   "cell_type": "code",
   "execution_count": 6,
   "metadata": {},
   "outputs": [],
   "source": [
    "vectorized_data = count_vectorizer.fit_transform(tweets.SentimentText)\n",
    "indexed_data = hstack((np.array(range(0,vectorized_data.shape[0]))[:,None], vectorized_data))"
   ]
  },
  {
   "cell_type": "code",
   "execution_count": 7,
   "metadata": {},
   "outputs": [],
   "source": [
    "def sentiment2target(sentiment):\n",
    "    return {\n",
    "        'negative': 0,\n",
    "        'neutral': 1,\n",
    "        'positive' : 2\n",
    "    }[sentiment]\n",
    "targets = tweets.Sentiment.apply(sentiment2target)"
   ]
  },
  {
   "cell_type": "code",
   "execution_count": 8,
   "metadata": {},
   "outputs": [],
   "source": [
    "from sklearn.model_selection import train_test_split\n",
    "data_train, data_test, targets_train, targets_test = train_test_split(indexed_data, targets, test_size=0.3, random_state=0)\n",
    "data_train_index = data_train[:,0]\n",
    "data_train = data_train[:,1:]\n",
    "data_test_index = data_test[:,0]\n",
    "data_test = data_test[:,1:]"
   ]
  },
  {
   "cell_type": "code",
   "execution_count": 9,
   "metadata": {},
   "outputs": [],
   "source": [
    "from sklearn.model_selection import StratifiedShuffleSplit\n",
    "from sklearn.model_selection import GridSearchCV\n",
    "from sklearn.svm import SVC"
   ]
  },
  {
   "cell_type": "code",
   "execution_count": null,
   "metadata": {},
   "outputs": [
    {
     "name": "stderr",
     "output_type": "stream",
     "text": [
      "[Parallel(n_jobs=-1)]: Using backend LokyBackend with 12 concurrent workers.\n",
      "[Parallel(n_jobs=-1)]: Done  17 tasks      | elapsed: 33.4min\n",
      "[Parallel(n_jobs=-1)]: Done 138 tasks      | elapsed: 242.0min\n"
     ]
    }
   ],
   "source": [
    "print( datetime.datetime.now(), ' : CVCrossGrid Started')\n",
    "\n",
    "C_range = np.logspace(-2, 10, 13)\n",
    "gamma_range = np.logspace(-9, 3, 13)\n",
    "param_grid = dict(gamma=gamma_range, C=C_range)\n",
    "cv = StratifiedShuffleSplit(n_splits=3, test_size=0.4, random_state=42)\n",
    "grid = GridSearchCV(SVC(kernel='rbf'), param_grid=param_grid, cv=cv, n_jobs=-1, verbose=2)\n",
    "grid.fit(data_train, targets_train)\n",
    "\n",
    "print( datetime.datetime.now(), ' : CVCrossGrid Done')"
   ]
  },
  {
   "cell_type": "code",
   "execution_count": 15,
   "metadata": {},
   "outputs": [
    {
     "data": {
      "image/png": "[encoded data removed]",
      "text/plain": [
       "<Figure size 576x432 with 2 Axes>"
      ]
     },
     "metadata": {
      "needs_background": "light"
     },
     "output_type": "display_data"
    }
   ],
   "source": [
    "from matplotlib.colors import Normalize\n",
    "import matplotlib.pyplot as plt \n",
    "\n",
    "# Utility function to move the midpoint of a colormap to be around\n",
    "# the values of interest.\n",
    "\n",
    "class MidpointNormalize(Normalize):\n",
    "\n",
    "    def __init__(self, vmin=None, vmax=None, midpoint=None, clip=False):\n",
    "        self.midpoint = midpoint\n",
    "        Normalize.__init__(self, vmin, vmax, clip)\n",
    "\n",
    "    def __call__(self, value, clip=None):\n",
    "        x, y = [self.vmin, self.midpoint, self.vmax], [0, 0.5, 1]\n",
    "        return np.ma.masked_array(np.interp(value, x, y))\n",
    "\n",
    "scores = grid.cv_results_['mean_test_score'].reshape(len(C_range),\n",
    "                                                     len(gamma_range))\n",
    "\n",
    "# Draw heatmap of the validation accuracy as a function of gamma and C\n",
    "#\n",
    "# The score are encoded as colors with the hot colormap which varies from dark\n",
    "# red to bright yellow. As the most interesting scores are all located in the\n",
    "# 0.92 to 0.97 range we use a custom normalizer to set the mid-point to 0.92 so\n",
    "# as to make it easier to visualize the small variations of score values in the\n",
    "# interesting range while not brutally collapsing all the low score values to\n",
    "# the same color.\n",
    "\n",
    "plt.figure(figsize=(8, 6))\n",
    "plt.subplots_adjust(left=.2, right=0.95, bottom=0.15, top=0.95)\n",
    "plt.imshow(scores, interpolation='nearest', cmap=plt.cm.hot,\n",
    "           norm=MidpointNormalize(vmin=0.2, midpoint=0.92))\n",
    "plt.xlabel('gamma')\n",
    "plt.ylabel('C')\n",
    "plt.colorbar()\n",
    "plt.xticks(np.arange(len(gamma_range)), gamma_range, rotation=45)\n",
    "plt.yticks(np.arange(len(C_range)), C_range)\n",
    "plt.title('Validation accuracy')\n",
    "plt.savefig(fname=\"SVM_heatmap.png\")\n",
    "plt.show()"
   ]
  },
  {
   "cell_type": "code",
   "execution_count": 11,
   "metadata": {
    "scrolled": true
   },
   "outputs": [
    {
     "name": "stdout",
     "output_type": "stream",
     "text": [
      "The best parameters are {\"C\": 10.0, \"gamma\": 0.01} with a score of 0.77\n"
     ]
    }
   ],
   "source": [
    "print(\"The best parameters are %s with a score of %0.2f\" % (grid.best_params_, grid.best_score_))"
   ]
  },
  {
   "cell_type": "code",
   "execution_count": null,
   "metadata": {},
   "outputs": [],
   "source": []
  },
  {
   "cell_type": "code",
   "execution_count": null,
   "metadata": {},
   "outputs": [],
   "source": [
    "from sklearn.multiclass import OneVsRestClassifier\n",
    "from sklearn import svm\n",
    "\n",
    "clf = OneVsRestClassifier(svm.SVC(C=10.0, kernel='rbf', gamma=0.01, verbose=2, probability=True), n_jobs=-1)\n",
    "clf_output = clf.fit(data_train, targets_train)"
   ]
  },
  {
   "cell_type": "code",
   "execution_count": 27,
   "metadata": {},
   "outputs": [
    {
     "data": {
      "text/plain": [
       "OneVsRestClassifier(estimator=SVC(C=10.0, cache_size=200, class_weight=None, coef0=0.0,\n",
       "  decision_function_shape='ovr', degree=3, gamma=0.01, kernel='rbf',\n",
       "  max_iter=-1, probability=True, random_state=None, shrinking=True,\n",
       "  tol=0.001, verbose=2),\n",
       "          n_jobs=-1)"
      ]
     },
     "execution_count": 27,
     "metadata": {},
     "output_type": "execute_result"
    }
   ],
   "source": [
    "clf"
   ]
  },
  {
   "cell_type": "code",
   "execution_count": 21,
   "metadata": {},
   "outputs": [
    {
     "data": {
      "text/plain": [
       "0.7827782778277828"
      ]
     },
     "execution_count": 21,
     "metadata": {},
     "output_type": "execute_result"
    }
   ],
   "source": [
    "clf.score(data_test, targets_test)"
   ]
  },
  {
   "cell_type": "code",
   "execution_count": null,
   "metadata": {},
   "outputs": [],
   "source": []
  },
  {
   "cell_type": "code",
   "execution_count": 28,
   "metadata": {},
   "outputs": [
    {
     "data": {
      "text/plain": [
       "array([[0.75702126, 0.24297874]])"
      ]
     },
     "execution_count": 28,
     "metadata": {},
     "output_type": "execute_result"
    }
   ],
   "source": [
    "se = count_vectorizer.transform([\"Trump is the worst president ever, but the sun is still awesome!\"])\n",
    "clf.predict_proba(se)"
   ]
  },
  {
   "cell_type": "code",
   "execution_count": 29,
   "metadata": {},
   "outputs": [
    {
     "data": {
      "text/plain": [
       "array([[0.82408381, 0.17591619]])"
      ]
     },
     "execution_count": 29,
     "metadata": {},
     "output_type": "execute_result"
    }
   ],
   "source": [
    "se = count_vectorizer.transform([\"Trump is the worst president ever\"])\n",
    "clf.predict_proba(se)"
   ]
  },
  {
   "cell_type": "code",
   "execution_count": 30,
   "metadata": {},
   "outputs": [
    {
     "data": {
      "text/plain": [
       "array([[0.22238346, 0.77761654]])"
      ]
     },
     "execution_count": 30,
     "metadata": {},
     "output_type": "execute_result"
    }
   ],
   "source": [
    "se = count_vectorizer.transform([\"Trump is the best president ever\"])\n",
    "clf.predict_proba(se)"
   ]
  },
  {
   "cell_type": "code",
   "execution_count": 36,
   "metadata": {},
   "outputs": [
    {
     "data": {
      "text/plain": [
       "array([[0.09207318, 0.90792682]])"
      ]
     },
     "execution_count": 36,
     "metadata": {},
     "output_type": "execute_result"
    }
   ],
   "source": [
    "se = count_vectorizer.transform([\"Sun is awesome\"])\n",
    "clf.predict_proba(se)"
   ]
  },
  {
   "cell_type": "code",
   "execution_count": null,
   "metadata": {},
   "outputs": [],
   "source": []
  },
  {
   "cell_type": "code",
   "execution_count": 37,
   "metadata": {},
   "outputs": [
    {
     "name": "stdout",
     "output_type": "stream",
     "text": [
      "Not authorized.\n",
      "inactive user 123926189 droppato\n",
      "1: this user is still active: 52456063\tlast post: 2019-10-03 12:19:23\n",
      "2: this user is still active: 18119568\tlast post: 2019-10-03 09:03:15\n",
      "3: this user is still active: 14872161\tlast post: 2019-10-03 06:24:21\n",
      "4: this user is still active: 10236782\tlast post: 2019-10-03 11:58:40\n",
      "5: this user is still active: 45762728\tlast post: 2019-09-24 01:07:11\n",
      "6: this user is still active: 175339579\tlast post: 2019-10-03 11:58:50\n",
      "7: this user is still active: 171656520\tlast post: 2019-10-03 07:51:04\n",
      "8: this user is still active: 21765964\tlast post: 2019-09-24 20:02:45\n",
      "Not authorized.\n",
      "inactive user 15773072 droppato\n",
      "inactive user 42919671 droppato\n",
      "11: this user is still active: 54292369\tlast post: 2019-10-03 02:57:10\n",
      "12: this user is still active: 18084838\tlast post: 2019-10-03 05:28:30\n",
      "13: this user is still active: 41823835\tlast post: 2019-10-03 07:25:01\n",
      "14: this user is still active: 94853291\tlast post: 2019-10-03 00:29:01\n",
      "15: this user is still active: 14983173\tlast post: 2019-10-03 05:22:53\n",
      "16: this user is still active: 15279465\tlast post: 2019-10-03 10:52:27\n",
      "17: this user is still active: 88071033\tlast post: 2019-10-03 04:11:15\n",
      "18: this user is still active: 113410319\tlast post: 2019-10-03 12:01:04\n",
      "Not authorized.\n",
      "inactive user 22700291 droppato\n",
      "20: this user is still active: 37725640\tlast post: 2019-10-03 06:17:28\n",
      "21: this user is still active: 29268171\tlast post: 2019-10-01 13:48:23\n",
      "22: this user is still active: 68163467\tlast post: 2019-09-02 19:07:53\n",
      "23: this user is still active: 17268481\tlast post: 2019-10-03 05:38:38\n",
      "24: this user is still active: 212402248\tlast post: 2019-10-03 13:10:18\n",
      "25: this user is still active: 15700177\tlast post: 2019-10-03 11:08:15\n",
      "colleziono tweet utente numero: 113283096\n",
      "colleziono tweet utente numero: 52456063\n",
      "colleziono tweet utente numero: 18119568\n",
      "colleziono tweet utente numero: 14872161\n",
      "colleziono tweet utente numero: 10236782\n",
      "colleziono tweet utente numero: 45762728\n",
      "colleziono tweet utente numero: 175339579\n",
      "colleziono tweet utente numero: 171656520\n",
      "colleziono tweet utente numero: 21765964\n",
      "colleziono tweet utente numero: 16252960\n",
      "colleziono tweet utente numero: 56669858\n",
      "colleziono tweet utente numero: 54292369\n",
      "colleziono tweet utente numero: 18084838\n",
      "colleziono tweet utente numero: 41823835\n",
      "colleziono tweet utente numero: 94853291\n",
      "colleziono tweet utente numero: 14983173\n",
      "colleziono tweet utente numero: 15279465\n",
      "colleziono tweet utente numero: 88071033\n",
      "colleziono tweet utente numero: 113410319\n",
      "colleziono tweet utente numero: 17383566\n",
      "colleziono tweet utente numero: 37725640\n",
      "colleziono tweet utente numero: 29268171\n",
      "colleziono tweet utente numero: 68163467\n",
      "colleziono tweet utente numero: 17268481\n",
      "colleziono tweet utente numero: 212402248\n",
      "colleziono tweet utente numero: 15700177\n"
     ]
    }
   ],
   "source": [
    "import tweepy\n",
    "from pymongo import MongoClient\n",
    "\n",
    "\n",
    "df = pd.read_csv('authority-modularity.csv')\n",
    "df=df.drop(['Label','timeset','Hub'],axis=1)\n",
    "\n",
    "indexNames = df[ (df.modularity_class != 11) & (df.modularity_class != 9) & (df.modularity_class != 4) ].index\n",
    "df.drop(indexNames , inplace=True)\n",
    "\n",
    "df.modularity_class.value_counts()\n",
    "\n",
    "first10_cl11=df[df.modularity_class == 11].sort_values('Authority', ascending=False).head(10)\n",
    "first10_cl4=df[df.modularity_class == 4].sort_values('Authority', ascending=False).head(10)\n",
    "first10_cl9=df[df.modularity_class == 9].sort_values('Authority', ascending=False).head(10)\n",
    "\n",
    "utenti_cl11=first10_cl11.Id.tolist()\n",
    "utenti_cl4=first10_cl4.Id.tolist()\n",
    "utenti_cl9=first10_cl9.Id.tolist()\n",
    "\n",
    "utenti_final= utenti_cl11+utenti_cl4+utenti_cl9\n",
    "\n",
    "\n",
    "ACCESS_TOKEN = '1089903781880434688-SDhXR2aBBr54lZQ8QnPaE4mUR6TrOd'\n",
    "ACCESS_SECRET = 'D6wHvFEmbL3W0FSP70jxBRpIYs53UGxuQlQ5yHf578ZDt'\n",
    "CONSUMER_KEY = 'kGR5GYd09tSmQCJeyprOKlKeV'\n",
    "CONSUMER_SECRET = 'MNeyyl0SkUOGgkIs8kDdZktPi2HCxC7mTv6re4GywsiarZDR3c'\n",
    "\n",
    "\n",
    "auth = tweepy.OAuthHandler(CONSUMER_KEY, CONSUMER_SECRET) \n",
    "  \n",
    "auth.set_access_token(ACCESS_TOKEN, ACCESS_SECRET) \n",
    "\n",
    "api = tweepy.API(auth)\n",
    "\n",
    "\n",
    "from datetime import timedelta, datetime\n",
    "\n",
    "for idx, utente in enumerate(utenti_final):\n",
    "    try:\n",
    "        last_tweet = api.user_timeline(user_id=utente, count=1) \n",
    "        created_at = last_tweet[0].created_at\n",
    "    \n",
    "        if (created_at > datetime.now() - timedelta(days=90)):\n",
    "            print('{}: this user is still active: {}\\tlast post: {}'.format(idx,utente,created_at))\n",
    "        else:\n",
    "            utenti_final.remove(utente)\n",
    "            print('inactive user {} droppato'.format(utente))\n",
    "                \n",
    "    except Exception as err:\n",
    "        print(err)\n",
    "        utenti_final.remove(utente)\n",
    "        print('inactive user {} droppato'.format(utente))\n",
    "        continue\n",
    "        \n",
    "        \n",
    "client = MongoClient('localhost', 27017)\n",
    "db = client['twitter']\n",
    "\n",
    "data = pd.DataFrame(columns=['Tweets'])\n",
    "\n",
    "for user in utenti_final:\n",
    "    \n",
    "    print('colleziono tweet utente numero:', user)\n",
    "\n",
    "    pipeline=[{ \"$project\": {  \"id_user\" : 1, \"originalTweet\" : 1, \"hashtag\" : 1, \"mention\" : 1}}, { \"$match\": {  \"id_user\" : user} }]\n",
    "\n",
    "    cursor_list = list(db['tweets'].aggregate(pipeline))\n",
    "\n",
    "    tweets = pd.DataFrame(cursor_list)\n",
    "    data=data.append(tweets, sort=True)\n",
    "\n",
    "dfAll = pd.DataFrame(data.originalTweet)"
   ]
  },
  {
   "cell_type": "code",
   "execution_count": 38,
   "metadata": {},
   "outputs": [],
   "source": [
    "trumpTweet = dfAll[dfAll.originalTweet.str.contains(\"(?:^|\\W)#Trump(?:$|\\W)|\\\n",
    "                                                (?:^|\\W)#DonaldTrump(?:$|\\W)|\\\n",
    "                                                (?:^|\\W)#trump(?:$|\\W)|\\\n",
    "                                                (?:^|\\W)@realDonaldTrump(?:$|\\W)\\\n",
    "                                                (?:^|\\W)#donaldtrump(?:$|\\W)\\\n",
    "                                                (?:^|\\W)Trump(?:$|\\W)|\\\n",
    "                                                (?:^|\\W)DonaldTrump(?:$|\\W)|\\\n",
    "                                                (?:^|\\W)trump(?:$|\\W)|\\\n",
    "                                                (?:^|\\W)realDonaldTrump(?:$|\\W)\\\n",
    "                                                (?:^|\\W)donaldtrump(?:$|\\W)\")]"
   ]
  },
  {
   "cell_type": "code",
   "execution_count": 39,
   "metadata": {},
   "outputs": [
    {
     "name": "stderr",
     "output_type": "stream",
     "text": [
      "/home/ailabguest/anaconda3/envs/py36guest/lib/python3.6/site-packages/ipykernel_launcher.py:1: SettingWithCopyWarning: \n",
      "A value is trying to be set on a copy of a slice from a DataFrame.\n",
      "Try using .loc[row_indexer,col_indexer] = value instead\n",
      "\n",
      "See the caveats in the documentation: http://pandas.pydata.org/pandas-docs/stable/indexing.html#indexing-view-versus-copy\n",
      "  \"\"\"Entry point for launching an IPython kernel.\n",
      "/home/ailabguest/anaconda3/envs/py36guest/lib/python3.6/site-packages/ipykernel_launcher.py:2: SettingWithCopyWarning: \n",
      "A value is trying to be set on a copy of a slice from a DataFrame.\n",
      "Try using .loc[row_indexer,col_indexer] = value instead\n",
      "\n",
      "See the caveats in the documentation: http://pandas.pydata.org/pandas-docs/stable/indexing.html#indexing-view-versus-copy\n",
      "  \n"
     ]
    }
   ],
   "source": [
    "trumpTweet['originalTweet'] = trumpTweet['originalTweet'].apply(lambda x: x.lower())\n",
    "trumpTweet['originalTweet'] = trumpTweet['originalTweet'].apply((lambda x: re.sub('[^a-zA-z0-9\\s]','',x)))\n",
    "\n",
    "for idx,row in trumpTweet.iterrows():\n",
    "    row[0] = row[0].replace('rt',' ')"
   ]
  },
  {
   "cell_type": "code",
   "execution_count": 40,
   "metadata": {},
   "outputs": [],
   "source": [
    "counts = {}\n",
    "counts['positive']=0\n",
    "counts['negative']=0\n",
    "\n",
    "\n",
    "for twt in trumpTweet.originalTweet:\n",
    "\n",
    "    twt = [twt]\n",
    "    twt = count_vectorizer.transform(twt)\n",
    "    sentiment = clf.predict_proba(twt)\n",
    "    \n",
    "    if sentiment[0][0] <= sentiment[0][1]:\n",
    "        counts[\"positive\"]+=1\n",
    "    else:\n",
    "        counts[\"negative\"]+=1"
   ]
  },
  {
   "cell_type": "code",
   "execution_count": 42,
   "metadata": {},
   "outputs": [
    {
     "data": {
      "image/png": "[encoded data removed]",
      "text/plain": [
       "<Figure size 360x360 with 1 Axes>"
      ]
     },
     "metadata": {},
     "output_type": "display_data"
    }
   ],
   "source": [
    "import matplotlib\n",
    "import matplotlib.pyplot as plt\n",
    "\n",
    "sizes = [counts['negative'], counts['positive']]\n",
    "explode = (0, 0.1)\n",
    "labels = 'Negative', 'Positive'\n",
    "plt.figure(figsize=(5,5))\n",
    "plt.pie(sizes, explode=explode, colors=\"br\", labels=labels, autopct='%1.1f%%',\n",
    "        shadow=True, startangle=90, wedgeprops={'alpha':0.8})\n",
    "plt.axis('equal') \n",
    "plt.show()"
   ]
  }
 ],
 "metadata": {
  "kernelspec": {
   "display_name": "Python 3",
   "language": "python",
   "name": "python3"
  },
  "language_info": {
   "codemirror_mode": {
    "name": "ipython",
    "version": 3
   },
   "file_extension": ".py",
   "mimetype": "text/x-python",
   "name": "python",
   "nbconvert_exporter": "python",
   "pygments_lexer": "ipython3",
   "version": "3.6.5"
  }
 },
 "nbformat": 4,
 "nbformat_minor": 2
}
