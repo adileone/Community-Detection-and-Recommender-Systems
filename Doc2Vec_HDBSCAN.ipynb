{
 "cells": [
  {
   "cell_type": "code",
   "execution_count": 1,
   "metadata": {},
   "outputs": [],
   "source": [
    "from pymongo import MongoClient\n",
    "import gensim \n",
    "import pandas as pd  \n",
    "import numpy as np \n",
    "\n",
    "\n",
    "client = MongoClient('localhost', 27017)\n",
    "db = client['TweetFULLTorini']\n",
    "\n",
    "tweets = pd.DataFrame(list(db['FinalCLEAN'].find()))\n",
    "\n",
    "data = pd.DataFrame(columns=['Tweets'])\n",
    "data['Tweets'] = tweets['text']\n",
    "data['Id'] = tweets['_id']\n",
    "data['len']  = np.array([len(tweet) for tweet in data['Tweets']])\n",
    "user = list()\n",
    "for i in range(0,len(tweets)):\n",
    "    user.append(tweets['user'][i]['name'])\n",
    "data['user'] = np.array(user)"
   ]
  },
  {
   "cell_type": "code",
   "execution_count": 2,
   "metadata": {},
   "outputs": [],
   "source": [
    "from gensim.models.doc2vec import Doc2Vec, TaggedDocument\n",
    "from nltk.tokenize import word_tokenize\n",
    "from nltk.corpus import stopwords\n",
    "from utils import tokenize_and_stem\n",
    "\n",
    "docs = data['Tweets']\n",
    "\n",
    "myStopWords=set(stopwords.words('italian')\n",
    "                +stopwords.words('english')+\n",
    "                list(['http','abbiat', 'abov', 'anch', 'avess', 'avest', 'avet', 'avev', 'avrebb',\n",
    "                      'avrest', 'avret', 'avut', 'becaus', 'befor', 'could', 'doe', 'dure', 'ebb',\n",
    "                      'erav', 'facciat', 'facess', 'facest', 'facev', 'farebb', 'farest', 'faret',\n",
    "                      'foss', 'fost', 'might', 'must', 'need', 'nostr', 'onc', 'onli', 'ourselv',\n",
    "                      'qual', 'quant', 'quell', 'quest', 'sarebb', 'sarest', 'saret', 'siat',\n",
    "                      'siet', 'starebb', 'starest', 'staret', 'stavat', 'stess', 'stest', 'stett',\n",
    "                      'stiat', 'themselv', 'thi', 'veri', 'vostr', 'would', 'yourselv','becau','http']))\n",
    "\n",
    "tagged_data = [TaggedDocument(words=tokenize_and_stem(_d,stopwords=myStopWords), tags=[str(i)]) for i, _d in enumerate(docs)]"
   ]
  },
  {
   "cell_type": "code",
   "execution_count": 112,
   "metadata": {},
   "outputs": [
    {
     "name": "stdout",
     "output_type": "stream",
     "text": [
      "epoch 0\n",
      "epoch 1\n",
      "epoch 2\n",
      "epoch 3\n",
      "epoch 4\n",
      "epoch 5\n",
      "epoch 6\n",
      "epoch 7\n",
      "epoch 8\n",
      "epoch 9\n"
     ]
    }
   ],
   "source": [
    "model = Doc2Vec(vector_size=100, dbow_words= 1, dm=0,  window=5, seed=1337, min_count=5, workers=4,alpha=0.025, min_alpha=0.025)\n",
    "model.build_vocab(tagged_data)\n",
    "for epoch in range(10):\n",
    "    print(\"epoch \"+str(epoch))\n",
    "    model.train(tagged_data, total_examples=len(tagged_data), epochs=1)\n",
    "    model.alpha -= 0.002  # decrease the learning rate\n",
    "    model.min_alpha = model.alpha  # fix the learning rate, no decay"
   ]
  },
  {
   "cell_type": "code",
   "execution_count": 113,
   "metadata": {},
   "outputs": [],
   "source": [
    "X = model[model.wv.vocab]"
   ]
  },
  {
   "cell_type": "code",
   "execution_count": 114,
   "metadata": {},
   "outputs": [],
   "source": [
    "#HDBSCAN"
   ]
  },
  {
   "cell_type": "code",
   "execution_count": 115,
   "metadata": {},
   "outputs": [
    {
     "data": {
      "text/plain": [
       "array([-1, -1, -1, ..., -1, -1, -1])"
      ]
     },
     "execution_count": 115,
     "metadata": {},
     "output_type": "execute_result"
    }
   ],
   "source": [
    "import hdbscan\n",
    "\n",
    "hdbs=hdbscan.HDBSCAN(min_cluster_size=20,min_samples=1, cluster_selection_method='leaf')\n",
    "hdbs.fit_predict(X)"
   ]
  },
  {
   "cell_type": "code",
   "execution_count": 116,
   "metadata": {},
   "outputs": [
    {
     "name": "stdout",
     "output_type": "stream",
     "text": [
      "Counter({4: 364, 3: 94, 0: 47, 2: 38, 1: 27, 5: 20})\n"
     ]
    },
    {
     "data": {
      "image/png": "[encoded data removed]",
      "text/plain": [
       "<Figure size 432x288 with 1 Axes>"
      ]
     },
     "metadata": {},
     "output_type": "display_data"
    }
   ],
   "source": [
    "from sklearn.metrics import silhouette_score\n",
    "import collections\n",
    "import matplotlib.pyplot as plt\n",
    "\n",
    "labels = list(hdbs.labels_)\n",
    "\n",
    "labels = [x for x in labels if x != -1]\n",
    "\n",
    "plt.bar(range(len(set(labels))), np.bincount(labels))\n",
    "\n",
    "plt.ylabel('population')\n",
    "plt.xlabel('cluster label')\n",
    "plt.title('population sizes with {} clusters'.format(len(set(labels))));\n",
    "\n",
    "# truncate y axis to see the rest better\n",
    "plt.ylim(0,300);\n",
    "\n",
    "print (collections.Counter(labels))"
   ]
  },
  {
   "cell_type": "code",
   "execution_count": 117,
   "metadata": {},
   "outputs": [],
   "source": [
    "def get_nwords(cluster, n):\n",
    "    \n",
    "    prob=hdbs.probabilities_#tutte prob\n",
    "\n",
    "    labels_index = [i for i, x in enumerate(labels) if x == cluster]#indice label cluster\n",
    "        \n",
    "    cluster_vectors= [X[x] for x in labels_index]#vettori cluster\n",
    "\n",
    "    cluster_probabilities = [prob[x] for x in labels_index]#probabilità cluster\n",
    "    \n",
    "    words={}\n",
    "    \n",
    "    for t in range(0,n-1):\n",
    "        largest_prob = max(cluster_probabilities)\n",
    "        largest_prob_index = cluster_probabilities.index(largest_prob)\n",
    "        cluster_probabilities.remove(largest_prob)\n",
    "        word=model.wv.index2entity[largest_prob_index]\n",
    "        words[word]=largest_prob\n",
    "        \n",
    "    return words\n",
    "    \n",
    "\n",
    "    \n",
    "def describe_clusters(clusterer,num_words):\n",
    "    \n",
    "    labels = list(hdbs.labels_)\n",
    "    labels = [x for x in labels if x != -1]\n",
    "    \n",
    "    num_clusters = len(set(labels))\n",
    "    \n",
    "    for n in range(0, num_clusters):\n",
    "        \n",
    "        print('Cluster',n,': ',get_nwords(n,num_words))"
   ]
  },
  {
   "cell_type": "code",
   "execution_count": 118,
   "metadata": {},
   "outputs": [
    {
     "name": "stdout",
     "output_type": "stream",
     "text": [
      "Cluster 0 :  {'live': 0.7226364201180713, 'http': 0.0}\n",
      "Cluster 1 :  {'tvdellosport': 0.6885636590774512, 'http': 0.0}\n",
      "Cluster 2 :  {'http': 0.0}\n",
      "Cluster 3 :  {'anno': 0.8598135614105533, 'roma': 0.7731226596271259, 'ieri': 0.7263845911848682}\n",
      "Cluster 4 :  {'ingegneria': 1.0, 'stadio': 1.0}\n",
      "Cluster 5 :  {'http': 0.0}\n"
     ]
    }
   ],
   "source": [
    "describe_clusters(hdbs,4)"
   ]
  }
 ],
 "metadata": {
  "kernelspec": {
   "display_name": "Python 3",
   "language": "python",
   "name": "python3"
  },
  "language_info": {
   "codemirror_mode": {
    "name": "ipython",
    "version": 3
   },
   "file_extension": ".py",
   "mimetype": "text/x-python",
   "name": "python",
   "nbconvert_exporter": "python",
   "pygments_lexer": "ipython3",
   "version": "3.6.5"
  }
 },
 "nbformat": 4,
 "nbformat_minor": 2
}
