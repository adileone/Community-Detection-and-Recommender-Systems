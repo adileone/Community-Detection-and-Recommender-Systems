{
 "cells": [
  {
   "cell_type": "code",
   "execution_count": 1,
   "metadata": {},
   "outputs": [],
   "source": [
    "from pymongo import MongoClient\n",
    "import pandas as pd  \n",
    "import numpy as np \n",
    "\n",
    "client = MongoClient('localhost', 27017)\n",
    "db = client['twitter']\n",
    "\n",
    "pipeline=[{ \"$project\": {  \"id_user\" : 1, \"originalTweet\" : 1, \"hashtag\" : 1, \"mention\" : 1} }]\n",
    "\n",
    "cursor_list = list(db['tweets'].aggregate(pipeline))\n",
    "\n",
    "tweets = pd.DataFrame(cursor_list)\n",
    "data = pd.DataFrame(columns=['Tweets'])\n",
    "data['Tweets'] = tweets['originalTweet']\n",
    "# data['user_id'] = tweets['id_user']\n",
    "# data['len']  = np.array([len(tweet) for tweet in data['Tweets']])\n",
    "# data['hahtags'] = tweets['hashtag']\n",
    "# data['mentions'] = tweets['mention']\n",
    "# user = list()\n",
    "# for i in range(0,len(tweets)):\n",
    "#     user.append(tweets['user'][i]['name'])\n",
    "# data['user'] = np.array(user)"
   ]
  },
  {
   "cell_type": "code",
   "execution_count": 6,
   "metadata": {},
   "outputs": [],
   "source": [
    "from nltk.corpus import stopwords\n",
    "from gensim.models.doc2vec import Doc2Vec, TaggedDocument\n",
    "# from nltk.tokenize import word_tokenize\n",
    "from utils import tokenize_and_stem\n",
    "\n",
    "docs = data['Tweets']\n",
    "\n",
    "myStopWords=set(stopwords.words('english')+list(['http','https']))                             \n",
    "\n",
    "tagged_data = [TaggedDocument(words=tokenize_and_stem(_d, stopwords=myStopWords), tags=[str(i)]) for i, _d in enumerate(docs)]\n",
    "#tag = [TaggedDocument(words=word_tokenize(_d.lower()), tags=[str(i)]) for i, _d in enumerate(docs)]"
   ]
  },
  {
   "cell_type": "code",
   "execution_count": 7,
   "metadata": {},
   "outputs": [
    {
     "name": "stdout",
     "output_type": "stream",
     "text": [
      "[TaggedDocument(words=['debcha', 'people', 'influenced', 'ursula', 'franklin', 'died', 'last', 'weekend', 'collected', 'tweetslinks', 'https'], tags=['0'])]\n"
     ]
    }
   ],
   "source": [
    "print(tagged_data[:1])"
   ]
  },
  {
   "cell_type": "markdown",
   "metadata": {},
   "source": [
    "![title](img/W2V_D2V.png)\n"
   ]
  },
  {
   "cell_type": "code",
   "execution_count": 7,
   "metadata": {},
   "outputs": [],
   "source": [
    "#train model"
   ]
  },
  {
   "cell_type": "code",
   "execution_count": null,
   "metadata": {},
   "outputs": [
    {
     "name": "stdout",
     "output_type": "stream",
     "text": [
      "epoch 0\n",
      "epoch 1\n",
      "epoch 2\n",
      "epoch 3\n",
      "epoch 4\n",
      "epoch 5\n"
     ]
    }
   ],
   "source": [
    "model = Doc2Vec(vector_size=100, dbow_words= 1, dm=0,  window=5, seed=1337, min_count=5, workers=12,alpha=0.025, min_alpha=0.025)\n",
    "model.build_vocab(tagged_data)\n",
    "for epoch in range(10):\n",
    "    print(\"epoch \"+str(epoch))\n",
    "    model.train(tagged_data, total_examples=len(tagged_data), epochs=1)\n",
    "    model.alpha -= 0.002  # decrease the learning rate\n",
    "    model.min_alpha = model.alpha  # fix the learning rate, no decay"
   ]
  },
  {
   "cell_type": "code",
   "execution_count": null,
   "metadata": {},
   "outputs": [],
   "source": [
    "model.save(\"d2v.model\")\n",
    "print(\"Model Saved\")"
   ]
  },
  {
   "cell_type": "code",
   "execution_count": null,
   "metadata": {},
   "outputs": [],
   "source": [
    "# model = Doc2Vec.load(\"d2v.model\")  # you can continue training with the loaded model!"
   ]
  },
  {
   "cell_type": "code",
   "execution_count": 11,
   "metadata": {},
   "outputs": [
    {
     "name": "stdout",
     "output_type": "stream",
     "text": [
      "Doc2Vec(dbow+w,d100,n5,w5,mc5,s0.001,t12)\n"
     ]
    }
   ],
   "source": [
    "print(model)"
   ]
  },
  {
   "cell_type": "code",
   "execution_count": 13,
   "metadata": {},
   "outputs": [],
   "source": [
    "X = model[model.wv.vocab]"
   ]
  },
  {
   "cell_type": "code",
   "execution_count": 14,
   "metadata": {},
   "outputs": [],
   "source": [
    "#Kmeans - Elbow Method"
   ]
  },
  {
   "cell_type": "code",
   "execution_count": null,
   "metadata": {},
   "outputs": [],
   "source": [
    "import matplotlib.pyplot as plt\n",
    "from sklearn.cluster import KMeans\n",
    "\n",
    "\n",
    "Sum_of_squared_distances = []\n",
    "K = range(1,15)\n",
    "for k in K:\n",
    "    km = KMeans(n_clusters=k, init='k-means++', max_iter=100, n_init=1).fit(X)\n",
    "    Sum_of_squared_distances.append(km.inertia_)"
   ]
  },
  {
   "cell_type": "code",
   "execution_count": 20,
   "metadata": {},
   "outputs": [
    {
     "data": {
      "image/png": "[encoded data removed]",
      "text/plain": [
       "<matplotlib.figure.Figure at 0x7f6f776c7470>"
      ]
     },
     "metadata": {},
     "output_type": "display_data"
    },
    {
     "data": {
      "text/plain": [
       "<matplotlib.figure.Figure at 0x7f6f7982c6a0>"
      ]
     },
     "metadata": {},
     "output_type": "display_data"
    }
   ],
   "source": [
    "plt.plot(K, Sum_of_squared_distances, 'bx-')\n",
    "plt.xlabel('k')\n",
    "plt.ylabel('Sum_of_squared_distances')\n",
    "plt.title('Elbow Method For Optimal k')\n",
    "plt.show()"
   ]
  },
  {
   "cell_type": "code",
   "execution_count": 22,
   "metadata": {},
   "outputs": [
    {
     "data": {
      "text/plain": [
       "KMeans(algorithm='auto', copy_x=True, init='k-means++', max_iter=300,\n",
       "    n_clusters=5, n_init=10, n_jobs=1, precompute_distances='auto',\n",
       "    random_state=None, tol=0.0001, verbose=0)"
      ]
     },
     "execution_count": 22,
     "metadata": {},
     "output_type": "execute_result"
    }
   ],
   "source": [
    "# from sklearn.metrics import silhouette_score\n",
    "import matplotlib.pyplot as plt\n",
    "import collections\n",
    " \n",
    "k=5\n",
    "\n",
    "kmeans = KMeans(n_clusters=k)\n",
    "kmeans.fit(X)"
   ]
  },
  {
   "cell_type": "code",
   "execution_count": 34,
   "metadata": {},
   "outputs": [
    {
     "name": "stdout",
     "output_type": "stream",
     "text": [
      "Counter({4: 98954, 2: 96252, 3: 40526, 1: 26560, 0: 17765})\n",
      "98954\n"
     ]
    },
    {
     "data": {
      "image/png": "[encoded data removed]",
      "text/plain": [
       "<matplotlib.figure.Figure at 0x7f6f9f920048>"
      ]
     },
     "metadata": {},
     "output_type": "display_data"
    }
   ],
   "source": [
    " labels = kmeans.labels_\n",
    "centroids = kmeans.cluster_centers_\n",
    "\n",
    "counter=collections.Counter(labels)\n",
    "y=list(counter.most_common())[0][1]\n",
    "  \n",
    "\n",
    "plt.bar(range(len(set(labels))), np.bincount(labels))\n",
    "\n",
    "plt.ylabel('population')\n",
    "plt.xlabel('cluster label')\n",
    "plt.title('population sizes with {} clusters'.format(k));\n",
    "\n",
    "# truncate y axis to see the rest better\n",
    "plt.ylim(0,y+10000);\n",
    "\n",
    "print (counter)\n",
    "print (y)\n",
    "\n",
    "# silhouette_score = silhouette_score(X, labels, metric='euclidean')\n",
    "# print ('silhouette score: ', silhouette_score)\n",
    "\n",
    "# plt.savefig('ClusterDistribution_Doc2Vec.png')"
   ]
  },
  {
   "cell_type": "code",
   "execution_count": null,
   "metadata": {},
   "outputs": [],
   "source": [
    "#Describe Clusters\n",
    "\n",
    "#The most similar document vectors to your centroid to see typical cluster members"
   ]
  },
  {
   "cell_type": "code",
   "execution_count": 37,
   "metadata": {},
   "outputs": [
    {
     "data": {
      "text/plain": [
       "NearestNeighbors(algorithm='auto', leaf_size=30, metric='minkowski',\n",
       "         metric_params=None, n_jobs=1, n_neighbors=5, p=2, radius=1.0)"
      ]
     },
     "execution_count": 37,
     "metadata": {},
     "output_type": "execute_result"
    }
   ],
   "source": [
    "from sklearn.neighbors import NearestNeighbors\n",
    "\n",
    "centroids=kmeans.cluster_centers_\n",
    "\n",
    "neighbors = NearestNeighbors(n_neighbors=5)\n",
    "\n",
    "neighbors.fit(X)\n",
    "\n",
    "#It returns [[<DISTANCE>]], and [[<EL_INDEX>]] (indexes start at 0).\n",
    "# terms=neighbors.kneighbors([centroids[5]])[1]"
   ]
  },
  {
   "cell_type": "code",
   "execution_count": 38,
   "metadata": {},
   "outputs": [
    {
     "name": "stdout",
     "output_type": "stream",
     "text": [
      "Top terms cluster 0 : ['defencegirl', 'nodding', 'tcosrcajggtzf', 'uproxxsports', 'dealtaker']\n",
      "Top terms cluster 1 : ['pertanian', 'sambo', 'barrosromo', 'semifinais', 'mavens']\n",
      "Top terms cluster 2 : ['quiltdad', 'tulugan', 'bryanschatz', 'kommentare', 'batmanghelidjh']\n",
      "Top terms cluster 3 : ['theeuropean', 'earice', 'impartial', 'metrocdmx', 'língua']\n",
      "Top terms cluster 4 : ['quiltdad', 'spenders', 'patrouille', 'crystalpalace', 'muñeca']\n"
     ]
    }
   ],
   "source": [
    "for i in range(0,len(centroids)):\n",
    "    terms=neighbors.kneighbors([centroids[i]])[1]\n",
    "    top_terms=[]\n",
    "    for t in terms[0]:\n",
    "        top_terms.append(model.wv.index2entity[t])\n",
    "    print('Top terms cluster {} : {}'.format(i,top_terms))"
   ]
  },
  {
   "cell_type": "code",
   "execution_count": null,
   "metadata": {},
   "outputs": [],
   "source": [
    "# import sys\n",
    "\n",
    "# sys.stdout = open(\"Cluster_Description_Doc2Vec->KMeans.txt\", \"w\")\n",
    "\n",
    "# for i in range(0,len(centroids)):\n",
    "#     terms=neighbors.kneighbors([centroids[i]])[1]\n",
    "#     top_terms=[]\n",
    "#     for t in terms[0]:\n",
    "#         top_terms.append(model.wv.index2entity[t])\n",
    "#     print('Top terms cluster {} : {}'.format(i,top_terms))"
   ]
  }
 ],
 "metadata": {
  "kernelspec": {
   "display_name": "Python 3",
   "language": "python",
   "name": "python3"
  },
  "language_info": {
   "codemirror_mode": {
    "name": "ipython",
    "version": 3
   },
   "file_extension": ".py",
   "mimetype": "text/x-python",
   "name": "python",
   "nbconvert_exporter": "python",
   "pygments_lexer": "ipython3",
   "version": "3.6.4"
  }
 },
 "nbformat": 4,
 "nbformat_minor": 2
}
