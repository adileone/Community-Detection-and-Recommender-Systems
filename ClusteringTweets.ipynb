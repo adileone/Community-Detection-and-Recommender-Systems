{
 "cells": [
  {
   "cell_type": "code",
   "execution_count": 1,
   "metadata": {},
   "outputs": [],
   "source": [
    "from pymongo import MongoClient\n",
    "import pandas as pd  \n",
    "import numpy as np \n",
    "\n",
    "client = MongoClient('localhost', 27017)\n",
    "db = client['']\n",
    "\n",
    "tweets = pd.DataFrame(list(db[''].find()))"
   ]
  },
  {
   "cell_type": "code",
   "execution_count": 2,
   "metadata": {},
   "outputs": [],
   "source": [
    "data = pd.DataFrame(columns=['Tweets'])\n",
    "data['Tweets'] = tweets['text']\n",
    "data['Id'] = tweets['_id']\n",
    "data['len']  = np.array([len(tweet) for tweet in data['Tweets']])\n",
    "user = list()\n",
    "for i in range(0,len(tweets)):\n",
    "    user.append(tweets['user'][i]['name'])\n",
    "data['user'] = np.array(user)"
   ]
  },
  {
   "cell_type": "code",
   "execution_count": 3,
   "metadata": {},
   "outputs": [
    {
     "name": "stdout",
     "output_type": "stream",
     "text": [
      "(27959, 194)\n",
      "Top terms per cluster:\n",
      "Cluster : 0\n",
      "['casa', 'http', 'torna', 'dopo', 'finalment']\n",
      "Cluster : 1\n",
      "['http', 'http http', 'zaniolo', 'florenzi', 'giorni']\n",
      "Cluster : 2\n",
      "['anni', 'fatto', 'http', 'oggi', 'auguri']\n",
      "Cluster : 3\n",
      "['zaniolo', 'asroma', 'http', 'asroma http', 'http asroma']\n",
      "Cluster : 4\n",
      "['follow', 'unfollow', 'stat', 'follow unfollow', 'today']\n",
      "Cluster : 5\n",
      "['http', 'grazi', 'roma', 'iamcallo', 'oggi']\n",
      "Cluster : 6\n",
      "['asroma', 'asroma http', 'http', 'http asroma', 'romaporto']\n",
      "Cluster : 7\n",
      "['bella', 'http', 'grazi', 'roma', 'vita']\n",
      "Cluster : 8\n",
      "['vieribobo', 'http', 'back', 'bomber', 'great']\n",
      "Cluster : 9\n",
      "['dopo', 'http', 'anni', 'aver', 'prima']\n"
     ]
    }
   ],
   "source": [
    "import nltk\n",
    "from sklearn.feature_extraction.text import TfidfVectorizer\n",
    "from sklearn.cluster import KMeans\n",
    "from sklearn.metrics import adjusted_rand_score\n",
    "from nltk.corpus import stopwords\n",
    "from utils import tokenize_and_stem\n",
    " \n",
    "    \n",
    "documents = data['Tweets']\n",
    "\n",
    "myStopWords=set(stopwords.words('italian')\n",
    "                +stopwords.words('english')+\n",
    "               list(['abbiat', 'abov', 'anch', 'avess', 'avest', 'avet', 'avev', 'avrebb', 'avrest', 'avret', \n",
    "                     'avut', 'becaus', 'befor', 'could', 'doe', 'dure', 'ebb', 'erav', 'facciat', 'facess', \n",
    "                     'facest', 'facev', 'farebb', 'farest', 'faret', 'foss', 'fost', 'might', 'must', 'need', \n",
    "                     'nostr', 'onc', 'onli', 'ourselv', 'qual', 'quant', 'quell', 'quest', 'sarebb', 'sarest', \n",
    "                     'saret', 'siat', 'siet', 'starebb', 'starest', 'staret', 'stavat', 'stess', 'stest', 'stett', \n",
    "                     'stiat', 'themselv', 'thi', 'veri', 'vostr', 'would', 'yourselv','becau']))   \n",
    "    \n",
    "\n",
    "\"\"\"\n",
    "The most effortless way is by filtering out infrequent words. \n",
    "You can achieve this by setting input arguments as follows [1]:\n",
    "\n",
    "min_df: To ignore terms that have a document frequency lower than the min_df. \n",
    "If float, the parameter represents a proportion of documents, integer absolute counts.\n",
    "\n",
    "max_features: To consider only the top max_features ordered by term frequency across the corpus. \n",
    "\n",
    "This is useful if you have strict limit on the size of TF-IDF transformed features.\n",
    "When dealing with a relatively large corpus, using min_df of 5, 10, or 50 reduces the size of the vocabulary\n",
    "significantly while maintaining (or often improving) the accuracy.\n",
    "\"\"\"    \n",
    "    \n",
    "    \n",
    "vectorizer = TfidfVectorizer(stop_words=myStopWords, \n",
    "                             use_idf=True, \n",
    "                             tokenizer=tokenize_and_stem,\n",
    "                             ngram_range=(1,5)\n",
    "                             ,min_df=100, max_features=300)\n",
    "X = vectorizer.fit_transform(documents)\n",
    "\n",
    "print(X.shape)\n",
    "\n",
    "true_k = 10\n",
    "model = KMeans(n_clusters=true_k, init='k-means++', max_iter=100, n_init=1)\n",
    "model.fit(X)\n",
    "\n",
    "print(\"Top terms per cluster:\")\n",
    "order_centroids = model.cluster_centers_.argsort()[:, ::-1]\n",
    "terms = vectorizer.get_feature_names()\n",
    "for i in range(true_k):\n",
    "    print(\"Cluster :\", i),\n",
    "    lista = [terms[ind] for ind in order_centroids[i, :5]]\n",
    "    print(lista)"
   ]
  },
  {
   "cell_type": "code",
   "execution_count": 5,
   "metadata": {
    "scrolled": false
   },
   "outputs": [
    {
     "name": "stdout",
     "output_type": "stream",
     "text": [
      "Counter({5: 19093, 1: 6579, 6: 626, 2: 460, 9: 315, 4: 227, 0: 197, 7: 184, 8: 163, 3: 115})\n",
      "Silouette_score:  0.2576265767780836\n"
     ]
    },
    {
     "data": {
      "image/png": "[encoded data removed]",
      "text/plain": [
       "<Figure size 432x288 with 1 Axes>"
      ]
     },
     "metadata": {},
     "output_type": "display_data"
    }
   ],
   "source": [
    "from sklearn.metrics import silhouette_score\n",
    "import matplotlib.pyplot as plt\n",
    "import collections\n",
    "\n",
    "\n",
    "plt.bar(range(len(set(model.labels_))), np.bincount(model.labels_))\n",
    "\n",
    "plt.ylabel('population')\n",
    "plt.xlabel('cluster label')\n",
    "plt.title('population sizes with {} clusters'.format(true_k));\n",
    "\n",
    "# truncate y axis to see the rest better\n",
    "plt.ylim(0,10000);\n",
    "\n",
    "\n",
    "print (collections.Counter(model.labels_))\n",
    "print ('Silouette_score: ',silhouette_score(X, model.labels_))\n"
   ]
  }
 ],
 "metadata": {
  "kernelspec": {
   "display_name": "Python 3",
   "language": "python",
   "name": "python3"
  },
  "language_info": {
   "codemirror_mode": {
    "name": "ipython",
    "version": 3
   },
   "file_extension": ".py",
   "mimetype": "text/x-python",
   "name": "python",
   "nbconvert_exporter": "python",
   "pygments_lexer": "ipython3",
   "version": "3.6.5"
  }
 },
 "nbformat": 4,
 "nbformat_minor": 2
}
