{
 "cells": [
  {
   "cell_type": "code",
   "execution_count": 1,
   "metadata": {},
   "outputs": [],
   "source": [
    "from pymongo import MongoClient\n",
    "import gensim \n",
    "import pandas as pd  \n",
    "import numpy as np \n",
    "\n",
    "\n",
    "client = MongoClient('localhost', 27017)\n",
    "db = client['']\n",
    "\n",
    "tweets = pd.DataFrame(list(db[''].find()))\n",
    "\n",
    "data = pd.DataFrame(columns=['Tweets'])\n",
    "data['Tweets'] = tweets['text']\n",
    "data['Id'] = tweets['_id']\n",
    "data['len']  = np.array([len(tweet) for tweet in data['Tweets']])\n",
    "user = list()\n",
    "for i in range(0,len(tweets)):\n",
    "    user.append(tweets['user'][i]['name'])\n",
    "data['user'] = np.array(user)"
   ]
  },
  {
   "cell_type": "code",
   "execution_count": 2,
   "metadata": {},
   "outputs": [],
   "source": [
    "from utils import tokenize_and_stem\n",
    "\n",
    "docs = data['Tweets']\n",
    "\n",
    "documents = [tokenize_and_stem(s) for s in docs]"
   ]
  },
  {
   "cell_type": "code",
   "execution_count": 3,
   "metadata": {},
   "outputs": [
    {
     "name": "stdout",
     "output_type": "stream",
     "text": [
      "[['ciao', 'ragazzi', 'dopo', 'tanto', 'tempo', 'torno', 'fort', 'inizieremo', 'questo', 'week', 'postar', 'pronostici', 'vincer', 'presto', 'mister']]\n"
     ]
    }
   ],
   "source": [
    "print(documents[:1])"
   ]
  },
  {
   "cell_type": "code",
   "execution_count": 4,
   "metadata": {},
   "outputs": [],
   "source": [
    "#train model"
   ]
  },
  {
   "cell_type": "code",
   "execution_count": 5,
   "metadata": {},
   "outputs": [
    {
     "data": {
      "text/plain": [
       "(1716157, 2149080)"
      ]
     },
     "execution_count": 5,
     "metadata": {},
     "output_type": "execute_result"
    }
   ],
   "source": [
    "from gensim.models.word2vec import Word2Vec\n",
    "\n",
    "# build vocabulary and train model\n",
    "model = gensim.models.Word2Vec(\n",
    "        documents,\n",
    "        size=300,\n",
    "        window=2,\n",
    "        min_count=2,\n",
    "        workers=10)\n",
    "\n",
    "model.train(documents, total_examples=len(documents), epochs=10)"
   ]
  },
  {
   "cell_type": "code",
   "execution_count": 10,
   "metadata": {},
   "outputs": [
    {
     "name": "stdout",
     "output_type": "stream",
     "text": [
      "Model Saved\n"
     ]
    }
   ],
   "source": [
    "# model.save(\"w2v.model\")\n",
    "# print(\"Model Saved\")"
   ]
  },
  {
   "cell_type": "code",
   "execution_count": 6,
   "metadata": {},
   "outputs": [
    {
     "name": "stderr",
     "output_type": "stream",
     "text": [
      "/media/alessandro/storage/anaconda3/lib/python3.6/site-packages/ipykernel_launcher.py:1: DeprecationWarning: Call to deprecated `__getitem__` (Method will be removed in 4.0.0, use self.wv.__getitem__() instead).\n",
      "  \"\"\"Entry point for launching an IPython kernel.\n"
     ]
    }
   ],
   "source": [
    "X = model[model.wv.vocab]"
   ]
  },
  {
   "cell_type": "code",
   "execution_count": 7,
   "metadata": {},
   "outputs": [],
   "source": [
    "#Kmeans"
   ]
  },
  {
   "cell_type": "code",
   "execution_count": 9,
   "metadata": {},
   "outputs": [
    {
     "name": "stdout",
     "output_type": "stream",
     "text": [
      "Counter({4: 9672, 0: 3908, 3: 1448, 5: 604, 2: 468, 1: 167})\n",
      "silhouette score:  0.47913548\n"
     ]
    },
    {
     "data": {
      "image/png": "[encoded data removed]",
      "text/plain": [
       "<Figure size 432x288 with 1 Axes>"
      ]
     },
     "metadata": {},
     "output_type": "display_data"
    }
   ],
   "source": [
    "from sklearn.cluster import KMeans\n",
    "from sklearn.metrics import silhouette_score\n",
    "import matplotlib.pyplot as plt\n",
    "import collections\n",
    " \n",
    "k=6\n",
    "\n",
    "kmeans = KMeans(n_clusters=k)\n",
    "kmeans.fit(X)\n",
    " \n",
    "labels = kmeans.labels_\n",
    "centroids = kmeans.cluster_centers_\n",
    "  \n",
    "silhouette_score = silhouette_score(X, labels, metric='euclidean')\n",
    "\n",
    "plt.bar(range(len(set(labels))), np.bincount(labels))\n",
    "\n",
    "plt.ylabel('population')\n",
    "plt.xlabel('cluster label')\n",
    "plt.title('population sizes with {} clusters'.format(k));\n",
    "\n",
    "# truncate y axis to see the rest better\n",
    "plt.ylim(0,11000);\n",
    "\n",
    "print (collections.Counter(labels))\n",
    "print ('silhouette score: ', silhouette_score)"
   ]
  }
 ],
 "metadata": {
  "kernelspec": {
   "display_name": "Python 3",
   "language": "python",
   "name": "python3"
  },
  "language_info": {
   "codemirror_mode": {
    "name": "ipython",
    "version": 3
   },
   "file_extension": ".py",
   "mimetype": "text/x-python",
   "name": "python",
   "nbconvert_exporter": "python",
   "pygments_lexer": "ipython3",
   "version": "3.6.5"
  }
 },
 "nbformat": 4,
 "nbformat_minor": 2
}
