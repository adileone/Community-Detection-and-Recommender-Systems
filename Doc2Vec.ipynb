{
 "cells": [
  {
   "cell_type": "code",
   "execution_count": 1,
   "metadata": {},
   "outputs": [],
   "source": [
    "import string\n",
    "from nltk.tokenize import word_tokenize, sent_tokenize\n",
    "from nltk.stem.porter import PorterStemmer\n",
    "import re\n",
    "\n",
    "def replace_urls(in_string, replacement=None):\n",
    "   \n",
    "    replacement = '<-URL->' if replacement is None else replacement\n",
    "    pattern = re.compile('(https?://)?(\\w*[.]\\w+)+([/?=&]+\\w+)*')\n",
    "    return re.sub(pattern, replacement, in_string)\n",
    "\n",
    "\n",
    "def tokenize_and_stem(doc):\n",
    "    \n",
    "    #split into words\n",
    "    tokens = word_tokenize(doc)\n",
    "    \n",
    "    # convert to lower case\n",
    "    tokens = [w.lower() for w in tokens]\n",
    "    # remove punctuation from each word\n",
    "    table = str.maketrans('', '', string.punctuation)\n",
    "    tokens = [w.translate(table) for w in tokens]\n",
    "    # remove remaining tokens that are not alphabetic\n",
    "    tokens = [word for word in tokens if word.isalpha()]\n",
    "    # remove words shorter than 4 char\n",
    "    tokens = [word for word in tokens if len(word)>3]\n",
    "    # handle URLS\n",
    "    tokens = [replace_urls(w) for w in tokens]\n",
    "    \n",
    "    # stemming of words\n",
    "    porter = PorterStemmer()\n",
    "    tokens = [porter.stem(word) for word in tokens]\n",
    "\n",
    "    return tokens"
   ]
  },
  {
   "cell_type": "code",
   "execution_count": 2,
   "metadata": {},
   "outputs": [],
   "source": [
    "from pymongo import MongoClient\n",
    "import gensim \n",
    "import pandas as pd  \n",
    "import numpy as np \n",
    "\n",
    "\n",
    "client = MongoClient('localhost', 27017)\n",
    "db = client['']\n",
    "\n",
    "tweets = pd.DataFrame(list(db[''].find()))\n",
    "\n",
    "data = pd.DataFrame(columns=['Tweets'])\n",
    "data['Tweets'] = tweets['text']\n",
    "data['Id'] = tweets['_id']\n",
    "data['len']  = np.array([len(tweet) for tweet in data['Tweets']])\n",
    "user = list()\n",
    "for i in range(0,len(tweets)):\n",
    "    user.append(tweets['user'][i]['name'])\n",
    "data['user'] = np.array(user)"
   ]
  },
  {
   "cell_type": "code",
   "execution_count": 150,
   "metadata": {},
   "outputs": [],
   "source": [
    "from gensim.models.doc2vec import Doc2Vec, TaggedDocument\n",
    "from nltk.tokenize import word_tokenize\n",
    "\n",
    "docs = data['Tweets']\n",
    "\n",
    "tagged_data = [TaggedDocument(words=tokenize_and_stem(_d), tags=[str(i)]) for i, _d in enumerate(docs)]\n",
    "#tag = [TaggedDocument(words=word_tokenize(_d.lower()), tags=[str(i)]) for i, _d in enumerate(docs)]"
   ]
  },
  {
   "cell_type": "code",
   "execution_count": 6,
   "metadata": {},
   "outputs": [
    {
     "name": "stdout",
     "output_type": "stream",
     "text": [
      "[TaggedDocument(words=['ciao', 'ragazzi', 'dopo', 'tanto', 'tempo', 'torno', 'fort', 'inizieremo', 'questo', 'week', 'postar', 'pronostici', 'vincer', 'presto', 'mister'], tags=['0'])]\n"
     ]
    }
   ],
   "source": [
    "print(tagged_data[:1])"
   ]
  },
  {
   "cell_type": "markdown",
   "metadata": {},
   "source": [
    "![title](img/W2V_D2V.png)\n"
   ]
  },
  {
   "cell_type": "code",
   "execution_count": 7,
   "metadata": {},
   "outputs": [],
   "source": [
    "#train model"
   ]
  },
  {
   "cell_type": "code",
   "execution_count": 151,
   "metadata": {},
   "outputs": [
    {
     "name": "stdout",
     "output_type": "stream",
     "text": [
      "epoch 0\n",
      "epoch 1\n",
      "epoch 2\n",
      "epoch 3\n",
      "epoch 4\n",
      "epoch 5\n",
      "epoch 6\n",
      "epoch 7\n",
      "epoch 8\n",
      "epoch 9\n"
     ]
    }
   ],
   "source": [
    "model = Doc2Vec(vector_size=100, dbow_words= 1, dm=0,  window=5, seed=1337, min_count=5, workers=4,alpha=0.025, min_alpha=0.025)\n",
    "model.build_vocab(tagged_data)\n",
    "for epoch in range(10):\n",
    "    print(\"epoch \"+str(epoch))\n",
    "    model.train(tagged_data, total_examples=len(tagged_data), epochs=1)\n",
    "    model.alpha -= 0.002  # decrease the learning rate\n",
    "    model.min_alpha = model.alpha  # fix the learning rate, no decay"
   ]
  },
  {
   "cell_type": "code",
   "execution_count": 13,
   "metadata": {},
   "outputs": [
    {
     "name": "stdout",
     "output_type": "stream",
     "text": [
      "Model Saved\n"
     ]
    }
   ],
   "source": [
    "# model.save(\"d2v.model\")\n",
    "# print(\"Model Saved\")"
   ]
  },
  {
   "cell_type": "code",
   "execution_count": 14,
   "metadata": {},
   "outputs": [
    {
     "name": "stdout",
     "output_type": "stream",
     "text": [
      "Doc2Vec(dbow+w,d100,n5,w5,mc5,s0.001,t4)\n"
     ]
    }
   ],
   "source": [
    "print(model)"
   ]
  },
  {
   "cell_type": "code",
   "execution_count": 152,
   "metadata": {},
   "outputs": [],
   "source": [
    "X = model[model.wv.vocab]"
   ]
  },
  {
   "cell_type": "code",
   "execution_count": null,
   "metadata": {},
   "outputs": [],
   "source": [
    "#Kmeans"
   ]
  },
  {
   "cell_type": "code",
   "execution_count": 153,
   "metadata": {},
   "outputs": [
    {
     "name": "stdout",
     "output_type": "stream",
     "text": [
      "Counter({3: 2552, 0: 1092, 4: 1023, 1: 953, 2: 636, 5: 177})\n",
      "silhouette score:  0.17361765\n"
     ]
    },
    {
     "data": {
      "image/png": "[encoded data removed]",
      "text/plain": [
       "<Figure size 432x288 with 1 Axes>"
      ]
     },
     "metadata": {},
     "output_type": "display_data"
    }
   ],
   "source": [
    "from sklearn.cluster import KMeans\n",
    "from sklearn.metrics import silhouette_score\n",
    "import matplotlib.pyplot as plt\n",
    "import collections\n",
    " \n",
    "k=6\n",
    "\n",
    "kmeans = KMeans(n_clusters=k)\n",
    "kmeans.fit(X)\n",
    " \n",
    "labels = kmeans.labels_\n",
    "centroids = kmeans.cluster_centers_\n",
    "  \n",
    "silhouette_score = silhouette_score(X, labels, metric='euclidean')\n",
    "\n",
    "plt.bar(range(len(set(labels))), np.bincount(labels))\n",
    "\n",
    "plt.ylabel('population')\n",
    "plt.xlabel('cluster label')\n",
    "plt.title('population sizes with {} clusters'.format(k));\n",
    "\n",
    "# truncate y axis to see the rest better\n",
    "plt.ylim(0,3000);\n",
    "\n",
    "print (collections.Counter(labels))\n",
    "print ('silhouette score: ', silhouette_score)"
   ]
  },
  {
   "cell_type": "code",
   "execution_count": null,
   "metadata": {},
   "outputs": [],
   "source": [
    "#Describe Clusters\n",
    "\n",
    "#The most similar document vectors to your centroid to see typical cluster members"
   ]
  },
  {
   "cell_type": "code",
   "execution_count": 156,
   "metadata": {},
   "outputs": [],
   "source": [
    "from sklearn.neighbors import NearestNeighbors\n",
    "\n",
    "centroids=kmeans.cluster_centers_\n",
    "\n",
    "neighbors = NearestNeighbors(n_neighbors=5)\n",
    "\n",
    "neighbors.fit(X)\n",
    "\n",
    "#It returns [[<DISTANCE>]], and [[<EL_INDEX>]] (indexes start at 0).\n",
    "terms=neighbors.kneighbors([centroids[5]])[1]"
   ]
  },
  {
   "cell_type": "code",
   "execution_count": 157,
   "metadata": {},
   "outputs": [
    {
     "name": "stdout",
     "output_type": "stream",
     "text": [
      "Top terms cluster 0 : ['brava', 'econom', 'banco', 'formulatx', 'lora']\n",
      "Top terms cluster 1 : ['tiamo', 'ducal', 'lacabrerabsa', 'nato', 'portano']\n",
      "Top terms cluster 2 : ['insultar', 'luca', 'torni', 'infortunio', 'timshowl']\n",
      "Top terms cluster 3 : ['adriano', 'huge', 'pesci', 'butterflyhockey', 'flaviapennetta']\n",
      "Top terms cluster 4 : ['determinazion', 'carina', 'dromasport', 'dormo', 'lunica']\n",
      "Top terms cluster 5 : ['abusivi', 'bilanc', 'regional', 'fotografo', 'correttiva']\n"
     ]
    }
   ],
   "source": [
    "for i in range(0,len(centroids)):\n",
    "    terms=neighbors.kneighbors([centroids[i]])[1]\n",
    "    top_terms=[]\n",
    "    for t in terms[0]:\n",
    "        top_terms.append(model.wv.index2entity[t])\n",
    "    print('Top terms cluster {} : {}'.format(i,top_terms))"
   ]
  }
 ],
 "metadata": {
  "kernelspec": {
   "display_name": "Python 3",
   "language": "python",
   "name": "python3"
  },
  "language_info": {
   "codemirror_mode": {
    "name": "ipython",
    "version": 3
   },
   "file_extension": ".py",
   "mimetype": "text/x-python",
   "name": "python",
   "nbconvert_exporter": "python",
   "pygments_lexer": "ipython3",
   "version": "3.6.5"
  }
 },
 "nbformat": 4,
 "nbformat_minor": 2
}
