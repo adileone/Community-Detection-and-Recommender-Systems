{
 "cells": [
  {
   "cell_type": "code",
   "execution_count": 1,
   "metadata": {},
   "outputs": [],
   "source": [
    "from pymongo import MongoClient\n",
    "import pandas as pd  \n",
    "import numpy as np \n",
    "\n",
    "client = MongoClient('localhost', 27017)\n",
    "db = client['']\n",
    "\n",
    "tweets = pd.DataFrame(list(db[''].find()))"
   ]
  },
  {
   "cell_type": "code",
   "execution_count": 2,
   "metadata": {},
   "outputs": [],
   "source": [
    "data = pd.DataFrame(columns=['Tweets'])\n",
    "data['Tweets'] = tweets['text']\n",
    "data['Id'] = tweets['_id']\n",
    "data['len']  = np.array([len(tweet) for tweet in data['Tweets']])\n",
    "user = list()\n",
    "for i in range(0,len(tweets)):\n",
    "    user.append(tweets['user'][i]['name'])\n",
    "data['user'] = np.array(user)"
   ]
  },
  {
   "cell_type": "code",
   "execution_count": 3,
   "metadata": {},
   "outputs": [],
   "source": [
    "import nltk\n",
    "from sklearn.feature_extraction.text import TfidfVectorizer\n",
    "from sklearn.cluster import KMeans\n",
    "from sklearn.metrics import adjusted_rand_score\n",
    "from nltk.corpus import stopwords\n",
    "from utils import tokenize_and_stem\n",
    " \n",
    "    \n",
    "documents = data['Tweets']\n",
    "\n",
    "myStopWords=set(stopwords.words('italian')\n",
    "                +stopwords.words('english')+\n",
    "               list(['abbiat', 'abov', 'anch', 'avess', 'avest', 'avet', 'avev', 'avrebb', 'avrest', 'avret', \n",
    "                     'avut', 'becaus', 'befor', 'could', 'doe', 'dure', 'ebb', 'erav', 'facciat', 'facess', \n",
    "                     'facest', 'facev', 'farebb', 'farest', 'faret', 'foss', 'fost', 'might', 'must', 'need', \n",
    "                     'nostr', 'onc', 'onli', 'ourselv', 'qual', 'quant', 'quell', 'quest', 'sarebb', 'sarest', \n",
    "                     'saret', 'siat', 'siet', 'starebb', 'starest', 'staret', 'stavat', 'stess', 'stest', 'stett', \n",
    "                     'stiat', 'themselv', 'thi', 'veri', 'vostr', 'would', 'yourselv','becau','http','https']))   \n",
    "    \n",
    "\n",
    "\"\"\"\n",
    "The most effortless way is by filtering out infrequent words. \n",
    "You can achieve this by setting input arguments as follows [1]:\n",
    "\n",
    "min_df: To ignore terms that have a document frequency lower than the min_df. \n",
    "If float, the parameter represents a proportion of documents, integer absolute counts.\n",
    "\n",
    "max_features: To consider only the top max_features ordered by term frequency across the corpus. \n",
    "\n",
    "This is useful if you have strict limit on the size of TF-IDF transformed features.\n",
    "When dealing with a relatively large corpus, using min_df of 5, 10, or 50 reduces the size of the vocabulary\n",
    "significantly while maintaining (or often improving) the accuracy.\n",
    "\"\"\"    \n",
    "    \n",
    "    \n",
    "vectorizer = TfidfVectorizer(use_idf=True,\n",
    "                             ngram_range=(1,5),\n",
    "                             min_df=100, max_features=300, tokenizer=tokenize_and_stem, stop_words=myStopWords)\n",
    "\n",
    "X = vectorizer.fit_transform(documents)"
   ]
  },
  {
   "cell_type": "code",
   "execution_count": 4,
   "metadata": {},
   "outputs": [
    {
     "name": "stdout",
     "output_type": "stream",
     "text": [
      "Top terms per cluster:\n",
      "Cluster : 0\n",
      "['luccibs', 'quando', 'video', 'nuovo', 'live']\n",
      "Cluster : 1\n",
      "['asroma', 'roma', 'oggi', 'grande', 'solo']\n",
      "Cluster : 2\n",
      "['alessiafichera', 'foto', 'vedere', 'ciao', 'fare']\n",
      "Cluster : 3\n",
      "['grazie', 'cuore', 'auguri', 'ragazzi', 'grande']\n",
      "Cluster : 4\n",
      "['sempre', 'grazie', 'grande', 'forza', 'roma']\n",
      "Cluster : 5\n",
      "['quando', 'lucaroncella', 'ludotommasini', 'cosa', 'solo']\n",
      "Cluster : 6\n",
      "['domenica', 'buona', 'sabato', 'roma', 'volleyatlantide']\n",
      "Cluster : 7\n",
      "['repubblica', 'oggi', 'presidente', 'grande', 'prima']\n",
      "Cluster : 8\n",
      "['nuova', 'tvdellosport', 'solo', 'nuovo', 'pronti']\n",
      "Cluster : 9\n",
      "['iamcallo', 'leicaambassador', 'circuit', 'leicasl', 'iamcallo leicasl']\n"
     ]
    }
   ],
   "source": [
    "true_k = 10\n",
    "model = KMeans(n_clusters=true_k, init='k-means++', max_iter=100, n_init=1)\n",
    "model.fit(X)\n",
    "\n",
    "print(\"Top terms per cluster:\")\n",
    "order_centroids = model.cluster_centers_.argsort()[:, ::-1]\n",
    "terms = vectorizer.get_feature_names()\n",
    "for i in range(true_k):\n",
    "    print(\"Cluster :\", i),\n",
    "    lista = [terms[ind] for ind in order_centroids[i, :5]]\n",
    "    print(lista)"
   ]
  },
  {
   "cell_type": "code",
   "execution_count": null,
   "metadata": {
    "scrolled": false
   },
   "outputs": [],
   "source": [
    "from sklearn.metrics import silhouette_score\n",
    "import matplotlib.pyplot as plt\n",
    "import collections\n",
    "\n",
    "\n",
    "plt.bar(range(len(set(model.labels_))), np.bincount(model.labels_))\n",
    "\n",
    "plt.ylabel('population')\n",
    "plt.xlabel('cluster label')\n",
    "plt.title('population sizes with {} clusters'.format(true_k));\n",
    "\n",
    "# truncate y axis to see the rest better\n",
    "plt.ylim(0,10000);\n",
    "\n",
    "\n",
    "print (collections.Counter(model.labels_))\n",
    "print ('Silouette_score: ',silhouette_score(X, model.labels_))\n"
   ]
  },
  {
   "cell_type": "code",
   "execution_count": 9,
   "metadata": {},
   "outputs": [
    {
     "data": {
      "image/png": "[encoded data removed]",
      "text/plain": [
       "<Figure size 432x288 with 1 Axes>"
      ]
     },
     "metadata": {},
     "output_type": "display_data"
    }
   ],
   "source": [
    "import matplotlib.pyplot as plt\n",
    "\n",
    "Sum_of_squared_distances = []\n",
    "K = range(1,15)\n",
    "for k in K:\n",
    "    km = KMeans(n_clusters=k, init='k-means++', max_iter=100, n_init=1).fit(X)\n",
    "    Sum_of_squared_distances.append(km.inertia_)\n",
    "    \n",
    "plt.plot(K, Sum_of_squared_distances, 'bx-')\n",
    "plt.xlabel('k')\n",
    "plt.ylabel('Sum_of_squared_distances')\n",
    "plt.title('Elbow Method For Optimal k')\n",
    "plt.show()    "
   ]
  }
 ],
 "metadata": {
  "kernelspec": {
   "display_name": "Python 3",
   "language": "python",
   "name": "python3"
  },
  "language_info": {
   "codemirror_mode": {
    "name": "ipython",
    "version": 3
   },
   "file_extension": ".py",
   "mimetype": "text/x-python",
   "name": "python",
   "nbconvert_exporter": "python",
   "pygments_lexer": "ipython3",
   "version": "3.6.5"
  }
 },
 "nbformat": 4,
 "nbformat_minor": 2
}
