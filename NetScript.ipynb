{
 "cells": [
  {
   "cell_type": "code",
   "execution_count": null,
   "metadata": {},
   "outputs": [],
   "source": [
    "from birdy.twitter import UserClient\n",
    "import json\n",
    "import networkx as nx\n",
    "import time\n",
    "\n",
    "ACCESS_TOKEN = ''\n",
    "ACCESS_SECRET = ''\n",
    "CONSUMER_KEY = ''\n",
    "CONSUMER_SECRET = ''\n",
    "\n",
    "\n",
    "client = UserClient(CONSUMER_KEY,\n",
    "                    CONSUMER_SECRET,\n",
    "                    ACCESS_TOKEN,\n",
    "                    ACCESS_SECRET)\n",
    "\n",
    "following_ids=client.api.friends.ids.get(screen_name='')\n",
    "follower_ids=client.api.followers.ids.get(screen_name='')\n",
    "\n",
    "G=nx.DiGraph()\n",
    "\n",
    "following=following_ids.data.ids\n",
    "follower=follower_ids.data.ids\n",
    "\n",
    "targetFollows = list(set(follower+following))\n",
    "\n",
    "for id in targetFollows:\n",
    "    name = client.api.users.show.get(id=id).data.name\n",
    "    G.add_node(id,label=name)\n",
    "    \n",
    "reset_requests=15\n",
    "resources = ['followers','friends']\n",
    "rate_limits = client.api.application.rate_limit_status.get(resources=resources).data['resources']['followers']['/followers/ids']['remaining']\n",
    "\n",
    "while targetFollows:\n",
    "    id=targetFollows[0]\n",
    "    print('remaining:',len(targetFollows))\n",
    "    print('remaining requests:',rate_limits)\n",
    "    targetFollows.remove(id)\n",
    "    \n",
    "    if (rate_limits==0):\n",
    "        print('raggiunto limite richieste... aspetto 15 minuti')\n",
    "        time.sleep(61*15)\n",
    "        rate_limits=reset_requests\n",
    "        client = UserClient(CONSUMER_KEY,CONSUMER_SECRET,ACCESS_TOKEN,ACCESS_SECRET)\n",
    "    try:\n",
    "        following1_ids=client.api.friends.ids.get(id=id).data.ids\n",
    "        follower1_ids=client.api.followers.ids.get(id=id).data.ids\n",
    "        rate_limits=rate_limits-1\n",
    "\n",
    "        ids=following1_ids+follower1_ids\n",
    "    \n",
    "        for id1 in ids:  \n",
    "            if (id1 in targetFollows)and(id1 in following1_ids):\n",
    "                G.add_edges_from([(id, id1)])\n",
    "            if (id1 in targetFollows)and(id1 in follower1_ids): \n",
    "                G.add_edges_from([(id1, id)])\n",
    "            \n",
    "    except Exception as err:\n",
    "        rate_limits=rate_limits-1\n",
    "        continue\n",
    "\n",
    "nx.write_gexf(G, \"reteSociale_FINAL.gexf\")"
   ]
  },
  {
   "cell_type": "markdown",
   "metadata": {},
   "source": [
    "Gephi Output: HITS and Modularity Clustering applied\n",
    "\n",
    "![title](img/SocialNet.png)\n"
   ]
  }
 ],
 "metadata": {
  "kernelspec": {
   "display_name": "Python 3",
   "language": "python",
   "name": "python3"
  },
  "language_info": {
   "codemirror_mode": {
    "name": "ipython",
    "version": 3
   },
   "file_extension": ".py",
   "mimetype": "text/x-python",
   "name": "python",
   "nbconvert_exporter": "python",
   "pygments_lexer": "ipython3",
   "version": "3.6.4"
  }
 },
 "nbformat": 4,
 "nbformat_minor": 2
}
