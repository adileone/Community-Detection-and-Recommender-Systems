{
 "cells": [
  {
   "cell_type": "code",
   "execution_count": 18,
   "metadata": {},
   "outputs": [],
   "source": [
    "import string\n",
    "from nltk.tokenize import word_tokenize, sent_tokenize\n",
    "from nltk.stem.porter import PorterStemmer\n",
    "from nltk.corpus import stopwords\n",
    "\n",
    "import re\n",
    "\n",
    "myStopWords=set(stopwords.words('italian')\n",
    "                +stopwords.words('english')+\n",
    "                list(['http','abbiat', 'abov', 'anch', 'avess', 'avest', 'avet', 'avev', 'avrebb',\n",
    "                      'avrest', 'avret', 'avut', 'becaus', 'befor', 'could', 'doe', 'dure', 'ebb',\n",
    "                      'erav', 'facciat', 'facess', 'facest', 'facev', 'farebb', 'farest', 'faret',\n",
    "                      'foss', 'fost', 'might', 'must', 'need', 'nostr', 'onc', 'onli', 'ourselv',\n",
    "                      'qual', 'quant', 'quell', 'quest', 'sarebb', 'sarest', 'saret', 'siat',\n",
    "                      'siet', 'starebb', 'starest', 'staret', 'stavat', 'stess', 'stest', 'stett',\n",
    "                      'stiat', 'themselv', 'thi', 'veri', 'vostr', 'would', 'yourselv','becau','http']))\n",
    "\n",
    "def replace_urls(in_string, replacement=None):\n",
    "   \n",
    "    replacement = '<-URL->' if replacement is None else replacement\n",
    "    pattern = re.compile('(https?://)?(\\w*[.]\\w+)+([/?=&]+\\w+)*')\n",
    "    return re.sub(pattern, replacement, in_string)\n",
    "\n",
    "\n",
    "def tokenize_and_stem(doc):\n",
    "    \n",
    "    #split into words\n",
    "    tokens = word_tokenize(doc)\n",
    "    \n",
    "    # convert to lower case\n",
    "    tokens = [w.lower() for w in tokens]\n",
    "    # remove punctuation from each word\n",
    "    table = str.maketrans('', '', string.punctuation)\n",
    "    tokens = [w.translate(table) for w in tokens]\n",
    "    # remove remaining tokens that are not alphabetic\n",
    "    tokens = [word for word in tokens if word.isalpha()]\n",
    "    # remove words shorter than 4 char\n",
    "    tokens = [word for word in tokens if len(word)>3]\n",
    "    # handle URLS\n",
    "    tokens = [replace_urls(w) for w in tokens]\n",
    "    \n",
    "    # stemming of words\n",
    "    porter = PorterStemmer()\n",
    "    tokens = [porter.stem(word) for word in tokens]\n",
    "\n",
    "    return tokens"
   ]
  },
  {
   "cell_type": "code",
   "execution_count": 2,
   "metadata": {},
   "outputs": [],
   "source": [
    "from pymongo import MongoClient\n",
    "import gensim \n",
    "import pandas as pd  \n",
    "import numpy as np \n",
    "\n",
    "\n",
    "client = MongoClient('localhost', 27017)\n",
    "db = client['TweetFULLTorini']\n",
    "\n",
    "tweets = pd.DataFrame(list(db['FinalCLEAN'].find()))\n",
    "\n",
    "data = pd.DataFrame(columns=['Tweets'])\n",
    "data['Tweets'] = tweets['text']\n",
    "data['Id'] = tweets['_id']\n",
    "data['len']  = np.array([len(tweet) for tweet in data['Tweets']])\n",
    "user = list()\n",
    "for i in range(0,len(tweets)):\n",
    "    user.append(tweets['user'][i]['name'])\n",
    "data['user'] = np.array(user)"
   ]
  },
  {
   "cell_type": "code",
   "execution_count": 27,
   "metadata": {},
   "outputs": [],
   "source": [
    "docs = data['Tweets']\n",
    "\n",
    "documents = [tokenize_and_stem(s) for s in docs]\n",
    "\n",
    "for doc in documents:\n",
    "    for term in doc:\n",
    "        if term in myStopWords :\n",
    "            doc.remove(term)"
   ]
  },
  {
   "cell_type": "markdown",
   "metadata": {},
   "source": [
    "Topic Modeling is primarily concerned with identifying ‘topics’ (in this sense, a pattern of co-occurring words; ultimately, a topic is a distribution over a given vocabulary) in a corpus (= set of documents).\n",
    "\n",
    "For the LDA model, we need a document-term matrix (a gensim dictionary) and all articles in vectorized format (we will be using a bag-of-words approach - constructing a vector representation of an article 'doc2bow(text)' )"
   ]
  },
  {
   "cell_type": "code",
   "execution_count": 28,
   "metadata": {},
   "outputs": [
    {
     "name": "stdout",
     "output_type": "stream",
     "text": [
      "Dictionary(40734 unique tokens: ['ciao', 'dopo', 'fort', 'inizieremo', 'mister']...)\n"
     ]
    }
   ],
   "source": [
    "from gensim import corpora, models, similarities\n",
    "\n",
    "dictionary = corpora.Dictionary(documents)\n",
    "#dictionary.save(os.path.join(TEMP_FOLDER, 'elon.dict'))  # store the dictionary, for future reference\n",
    "print(dictionary)"
   ]
  },
  {
   "cell_type": "markdown",
   "metadata": {},
   "source": [
    "A corpus of all Tweet is constructed and vectorized"
   ]
  },
  {
   "cell_type": "code",
   "execution_count": 29,
   "metadata": {},
   "outputs": [],
   "source": [
    "corpus = [dictionary.doc2bow(text) for text in documents]\n",
    "# corpora.MmCorpus.serialize(os.path.join(TEMP_FOLDER, 'elon.mm'), corpus)\n",
    "# print(corpus)"
   ]
  },
  {
   "cell_type": "markdown",
   "metadata": {},
   "source": [
    "Latent Dirichlet Allocation, LDA is yet another transformation from bag-of-words counts into a topic space of lower dimensionality. LDA is a probabilistic extension of LSA (also called multinomial PCA), so LDA’s topics can be interpreted as probability distributions over words. These distributions are, just like with LSA, inferred automatically from a training corpus. Documents are in turn interpreted as a (soft) mixture of these topics (again, just like with LSA)."
   ]
  },
  {
   "cell_type": "code",
   "execution_count": 30,
   "metadata": {},
   "outputs": [],
   "source": [
    "total_topics = 5\n",
    "lda = models.LdaModel(corpus, id2word=dictionary, num_topics=total_topics, passes=100)"
   ]
  },
  {
   "cell_type": "code",
   "execution_count": 31,
   "metadata": {},
   "outputs": [
    {
     "data": {
      "text/plain": [
       "[(0,\n",
       "  '0.021*\"http\" + 0.009*\"circuit\" + 0.007*\"live\" + 0.005*\"practic\" + 0.005*\"thank\"'),\n",
       " (1,\n",
       "  '0.008*\"robertavinci\" + 0.006*\"flaviapennetta\" + 0.005*\"fabiofogna\" + 0.005*\"follow\" + 0.004*\"part\"'),\n",
       " (2,\n",
       "  '0.019*\"asroma\" + 0.012*\"roma\" + 0.007*\"officialasroma\" + 0.007*\"oggi\" + 0.006*\"grand\"'),\n",
       " (3,\n",
       "  '0.016*\"grazi\" + 0.014*\"iamcallo\" + 0.008*\"circuit\" + 0.008*\"love\" + 0.006*\"leicaambassador\"'),\n",
       " (4,\n",
       "  '0.010*\"http\" + 0.006*\"prove\" + 0.006*\"italia\" + 0.005*\"quando\" + 0.005*\"oggi\"')]"
      ]
     },
     "execution_count": 31,
     "metadata": {},
     "output_type": "execute_result"
    }
   ],
   "source": [
    "#Show first n important word in the topics:\n",
    "lda.show_topics(total_topics,5)"
   ]
  },
  {
   "cell_type": "code",
   "execution_count": 32,
   "metadata": {},
   "outputs": [],
   "source": [
    "from collections import OrderedDict\n",
    "\n",
    "data_lda = {i: OrderedDict(lda.show_topic(i,25)) for i in range(total_topics)}\n",
    "#data_lda"
   ]
  },
  {
   "cell_type": "code",
   "execution_count": 33,
   "metadata": {},
   "outputs": [
    {
     "name": "stdout",
     "output_type": "stream",
     "text": [
      "(118, 5)\n",
      "(5, 118)\n"
     ]
    }
   ],
   "source": [
    "import pandas as pd\n",
    "\n",
    "df_lda = pd.DataFrame(data_lda)\n",
    "print(df_lda.shape)\n",
    "df_lda = df_lda.fillna(0).T\n",
    "print(df_lda.shape)"
   ]
  },
  {
   "cell_type": "code",
   "execution_count": 34,
   "metadata": {},
   "outputs": [
    {
     "data": {
      "text/html": [
       "<div>\n",
       "<style scoped>\n",
       "    .dataframe tbody tr th:only-of-type {\n",
       "        vertical-align: middle;\n",
       "    }\n",
       "\n",
       "    .dataframe tbody tr th {\n",
       "        vertical-align: top;\n",
       "    }\n",
       "\n",
       "    .dataframe thead th {\n",
       "        text-align: right;\n",
       "    }\n",
       "</style>\n",
       "<table border=\"1\" class=\"dataframe\">\n",
       "  <thead>\n",
       "    <tr style=\"text-align: right;\">\n",
       "      <th></th>\n",
       "      <th>amor</th>\n",
       "      <th>ancora</th>\n",
       "      <th>anni</th>\n",
       "      <th>asroma</th>\n",
       "      <th>auguri</th>\n",
       "      <th>back</th>\n",
       "      <th>bene</th>\n",
       "      <th>best</th>\n",
       "      <th>bologna</th>\n",
       "      <th>buon</th>\n",
       "      <th>...</th>\n",
       "      <th>ufficiali</th>\n",
       "      <th>unfollow</th>\n",
       "      <th>venerdì</th>\n",
       "      <th>video</th>\n",
       "      <th>vieribobo</th>\n",
       "      <th>vittoria</th>\n",
       "      <th>voglio</th>\n",
       "      <th>work</th>\n",
       "      <th>world</th>\n",
       "      <th>zaniolo</th>\n",
       "    </tr>\n",
       "  </thead>\n",
       "  <tbody>\n",
       "    <tr>\n",
       "      <th>0</th>\n",
       "      <td>0.000000</td>\n",
       "      <td>0.000000</td>\n",
       "      <td>0.000000</td>\n",
       "      <td>0.000000</td>\n",
       "      <td>0.000000</td>\n",
       "      <td>0.000000</td>\n",
       "      <td>0.000000</td>\n",
       "      <td>0.002628</td>\n",
       "      <td>0.000000</td>\n",
       "      <td>0.000000</td>\n",
       "      <td>...</td>\n",
       "      <td>0.000000</td>\n",
       "      <td>0.000000</td>\n",
       "      <td>0.000000</td>\n",
       "      <td>0.002227</td>\n",
       "      <td>0.000000</td>\n",
       "      <td>0.000000</td>\n",
       "      <td>0.0000</td>\n",
       "      <td>0.002248</td>\n",
       "      <td>0.002718</td>\n",
       "      <td>0.000000</td>\n",
       "    </tr>\n",
       "    <tr>\n",
       "      <th>1</th>\n",
       "      <td>0.000000</td>\n",
       "      <td>0.000000</td>\n",
       "      <td>0.000000</td>\n",
       "      <td>0.000000</td>\n",
       "      <td>0.000000</td>\n",
       "      <td>0.004177</td>\n",
       "      <td>0.000000</td>\n",
       "      <td>0.000000</td>\n",
       "      <td>0.000000</td>\n",
       "      <td>0.000000</td>\n",
       "      <td>...</td>\n",
       "      <td>0.000000</td>\n",
       "      <td>0.003872</td>\n",
       "      <td>0.000000</td>\n",
       "      <td>0.000000</td>\n",
       "      <td>0.000000</td>\n",
       "      <td>0.003596</td>\n",
       "      <td>0.0000</td>\n",
       "      <td>0.000000</td>\n",
       "      <td>0.000000</td>\n",
       "      <td>0.000000</td>\n",
       "    </tr>\n",
       "    <tr>\n",
       "      <th>2</th>\n",
       "      <td>0.000000</td>\n",
       "      <td>0.003256</td>\n",
       "      <td>0.000000</td>\n",
       "      <td>0.019246</td>\n",
       "      <td>0.005902</td>\n",
       "      <td>0.000000</td>\n",
       "      <td>0.000000</td>\n",
       "      <td>0.000000</td>\n",
       "      <td>0.000000</td>\n",
       "      <td>0.005257</td>\n",
       "      <td>...</td>\n",
       "      <td>0.000000</td>\n",
       "      <td>0.000000</td>\n",
       "      <td>0.000000</td>\n",
       "      <td>0.000000</td>\n",
       "      <td>0.000000</td>\n",
       "      <td>0.000000</td>\n",
       "      <td>0.0000</td>\n",
       "      <td>0.000000</td>\n",
       "      <td>0.000000</td>\n",
       "      <td>0.003673</td>\n",
       "    </tr>\n",
       "    <tr>\n",
       "      <th>3</th>\n",
       "      <td>0.003364</td>\n",
       "      <td>0.000000</td>\n",
       "      <td>0.000000</td>\n",
       "      <td>0.000000</td>\n",
       "      <td>0.000000</td>\n",
       "      <td>0.000000</td>\n",
       "      <td>0.004117</td>\n",
       "      <td>0.000000</td>\n",
       "      <td>0.000000</td>\n",
       "      <td>0.000000</td>\n",
       "      <td>...</td>\n",
       "      <td>0.003317</td>\n",
       "      <td>0.000000</td>\n",
       "      <td>0.000000</td>\n",
       "      <td>0.000000</td>\n",
       "      <td>0.000000</td>\n",
       "      <td>0.000000</td>\n",
       "      <td>0.0028</td>\n",
       "      <td>0.000000</td>\n",
       "      <td>0.000000</td>\n",
       "      <td>0.000000</td>\n",
       "    </tr>\n",
       "    <tr>\n",
       "      <th>4</th>\n",
       "      <td>0.000000</td>\n",
       "      <td>0.000000</td>\n",
       "      <td>0.003468</td>\n",
       "      <td>0.000000</td>\n",
       "      <td>0.000000</td>\n",
       "      <td>0.000000</td>\n",
       "      <td>0.000000</td>\n",
       "      <td>0.000000</td>\n",
       "      <td>0.002667</td>\n",
       "      <td>0.000000</td>\n",
       "      <td>...</td>\n",
       "      <td>0.000000</td>\n",
       "      <td>0.000000</td>\n",
       "      <td>0.003689</td>\n",
       "      <td>0.000000</td>\n",
       "      <td>0.004108</td>\n",
       "      <td>0.000000</td>\n",
       "      <td>0.0000</td>\n",
       "      <td>0.000000</td>\n",
       "      <td>0.000000</td>\n",
       "      <td>0.000000</td>\n",
       "    </tr>\n",
       "  </tbody>\n",
       "</table>\n",
       "<p>5 rows × 118 columns</p>\n",
       "</div>"
      ],
      "text/plain": [
       "       amor    ancora      anni    asroma    auguri      back      bene  \\\n",
       "0  0.000000  0.000000  0.000000  0.000000  0.000000  0.000000  0.000000   \n",
       "1  0.000000  0.000000  0.000000  0.000000  0.000000  0.004177  0.000000   \n",
       "2  0.000000  0.003256  0.000000  0.019246  0.005902  0.000000  0.000000   \n",
       "3  0.003364  0.000000  0.000000  0.000000  0.000000  0.000000  0.004117   \n",
       "4  0.000000  0.000000  0.003468  0.000000  0.000000  0.000000  0.000000   \n",
       "\n",
       "       best   bologna      buon  ...  ufficiali  unfollow   venerdì     video  \\\n",
       "0  0.002628  0.000000  0.000000  ...   0.000000  0.000000  0.000000  0.002227   \n",
       "1  0.000000  0.000000  0.000000  ...   0.000000  0.003872  0.000000  0.000000   \n",
       "2  0.000000  0.000000  0.005257  ...   0.000000  0.000000  0.000000  0.000000   \n",
       "3  0.000000  0.000000  0.000000  ...   0.003317  0.000000  0.000000  0.000000   \n",
       "4  0.000000  0.002667  0.000000  ...   0.000000  0.000000  0.003689  0.000000   \n",
       "\n",
       "   vieribobo  vittoria  voglio      work     world   zaniolo  \n",
       "0   0.000000  0.000000  0.0000  0.002248  0.002718  0.000000  \n",
       "1   0.000000  0.003596  0.0000  0.000000  0.000000  0.000000  \n",
       "2   0.000000  0.000000  0.0000  0.000000  0.000000  0.003673  \n",
       "3   0.000000  0.000000  0.0028  0.000000  0.000000  0.000000  \n",
       "4   0.004108  0.000000  0.0000  0.000000  0.000000  0.000000  \n",
       "\n",
       "[5 rows x 118 columns]"
      ]
     },
     "execution_count": 34,
     "metadata": {},
     "output_type": "execute_result"
    }
   ],
   "source": [
    "df_lda"
   ]
  },
  {
   "cell_type": "code",
   "execution_count": 35,
   "metadata": {},
   "outputs": [
    {
     "data": {
      "image/png": "[encoded data removed]",
      "text/plain": [
       "<Figure size 864x864 with 4 Axes>"
      ]
     },
     "metadata": {},
     "output_type": "display_data"
    }
   ],
   "source": [
    "import seaborn as sns\n",
    "import matplotlib.pyplot as plt\n",
    "%matplotlib inline\n",
    "\n",
    "g=sns.clustermap(df_lda.corr(), center=0, cmap=\"RdBu\", metric='cosine', linewidths=.75, figsize=(12, 12))\n",
    "plt.setp(g.ax_heatmap.yaxis.get_majorticklabels(), rotation=0)\n",
    "plt.show()\n",
    "#plt.setp(ax_heatmap.get_yticklabels(), rotation=0)  # For y axis"
   ]
  }
 ],
 "metadata": {
  "kernelspec": {
   "display_name": "Python 3",
   "language": "python",
   "name": "python3"
  },
  "language_info": {
   "codemirror_mode": {
    "name": "ipython",
    "version": 3
   },
   "file_extension": ".py",
   "mimetype": "text/x-python",
   "name": "python",
   "nbconvert_exporter": "python",
   "pygments_lexer": "ipython3",
   "version": "3.6.5"
  }
 },
 "nbformat": 4,
 "nbformat_minor": 2
}
